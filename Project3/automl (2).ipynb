{
 "cells": [
  {
   "cell_type": "markdown",
   "metadata": {},
   "source": [
    "# Automated ML\n",
    "\n",
    "Import Dependencies."
   ]
  },
  {
   "cell_type": "code",
   "execution_count": 1,
   "metadata": {
    "gather": {
     "logged": 1652592457727
    },
    "jupyter": {
     "outputs_hidden": false,
     "source_hidden": false
    },
    "nteract": {
     "transient": {
      "deleting": false
     }
    }
   },
   "outputs": [
    {
     "name": "stdout",
     "output_type": "stream",
     "text": [
      "This notebook was created using version 1.41.0 of the Azure ML SDK\n",
      "You are currently using version 1.40.0 of the Azure ML SDK\n"
     ]
    }
   ],
   "source": [
    "import azureml.core\n",
    "\n",
    "print(\"This notebook was created using version 1.41.0 of the Azure ML SDK\")\n",
    "print(\"You are currently using version\", azureml.core.VERSION, \"of the Azure ML SDK\")"
   ]
  },
  {
   "cell_type": "code",
   "execution_count": 2,
   "metadata": {},
   "outputs": [],
   "source": [
    "import os\n",
    "import json\n",
    "import logging\n",
    "import pandas as pd\n",
    "\n",
    "from azureml.core.run import Run\n",
    "from azureml.core.model import Model\n",
    "from azureml.widgets import RunDetails\n",
    "from azureml.core.dataset import Dataset\n",
    "from azureml.core.workspace import Workspace\n",
    "from azureml.train.automl import AutoMLConfig\n",
    "from azureml.core.experiment import Experiment\n",
    "from azureml.core.webservice import Webservice\n",
    "from helper import run_inference, get_result_df\n",
    "from sklearn.datasets import fetch_20newsgroups\n",
    "from azureml.core.compute import AmlCompute, ComputeTarget \n",
    "from azureml.core.compute_target import ComputeTargetException"
   ]
  },
  {
   "cell_type": "code",
   "execution_count": 3,
   "metadata": {
    "gather": {
     "logged": 1652592461140
    },
    "jupyter": {
     "outputs_hidden": false,
     "source_hidden": false
    },
    "nteract": {
     "transient": {
      "deleting": false
     }
    }
   },
   "outputs": [],
   "source": [
    "# # check to see if ACI is already registered\n",
    "# (myenv) $ az provider show -n Microsoft.ContainerInstance -o table\n",
    "\n",
    "# azureuser@lyasolis1:~/cloudfiles/code/Users/lyasolis/starter_file$ az provider show -n Microsoft.ContainerInstance -o table\n",
    "# Namespace                    RegistrationPolicy    RegistrationState\n",
    "# ---------------------------  --------------------  -------------------\n",
    "# Microsoft.ContainerInstance  RegistrationRequired  Registered\n",
    "\n"
   ]
  },
  {
   "cell_type": "code",
   "execution_count": 4,
   "metadata": {
    "gather": {
     "logged": 1652592463727
    },
    "jupyter": {
     "outputs_hidden": false,
     "source_hidden": false
    },
    "nteract": {
     "transient": {
      "deleting": false
     }
    }
   },
   "outputs": [],
   "source": [
    "subscription_id = os.getenv(\"SUBSCRIPTION_ID\", default=\"fbe09221-d2fa-4355-8174-808a6c0b6925\")\n",
    "resource_group = os.getenv(\"RESOURCE_GROUP\", default=\"udacity-capstone\")\n",
    "workspace_name = os.getenv(\"WORKSPACE_NAME\", default=\"udacity-capstone-ws\")\n",
    "workspace_region = os.getenv(\"WORKSPACE_REGION\", default=\"northeurope\")\n"
   ]
  },
  {
   "cell_type": "code",
   "execution_count": 5,
   "metadata": {
    "gather": {
     "logged": 1652592468282
    },
    "jupyter": {
     "outputs_hidden": false,
     "source_hidden": false
    },
    "nteract": {
     "transient": {
      "deleting": false
     }
    }
   },
   "outputs": [],
   "source": [
    "ws = Workspace(subscription_id = subscription_id, resource_group = resource_group, workspace_name = workspace_name)\n",
    "# write the details of the workspace to a configuration file to the notebook library\n",
    "ws.write_config()\n"
   ]
  },
  {
   "cell_type": "code",
   "execution_count": 6,
   "metadata": {
    "gather": {
     "logged": 1652592488995
    },
    "jupyter": {
     "outputs_hidden": false,
     "source_hidden": false
    },
    "nteract": {
     "transient": {
      "deleting": false
     }
    }
   },
   "outputs": [
    {
     "data": {
      "text/html": [
       "<div>\n",
       "<style scoped>\n",
       "    .dataframe tbody tr th:only-of-type {\n",
       "        vertical-align: middle;\n",
       "    }\n",
       "\n",
       "    .dataframe tbody tr th {\n",
       "        vertical-align: top;\n",
       "    }\n",
       "\n",
       "    .dataframe thead th {\n",
       "        text-align: right;\n",
       "    }\n",
       "</style>\n",
       "<table border=\"1\" class=\"dataframe\">\n",
       "  <thead>\n",
       "    <tr style=\"text-align: right;\">\n",
       "      <th></th>\n",
       "      <th></th>\n",
       "    </tr>\n",
       "  </thead>\n",
       "  <tbody>\n",
       "    <tr>\n",
       "      <th>Subscription ID</th>\n",
       "      <td>fbe09221-d2fa-4355-8174-808a6c0b6925</td>\n",
       "    </tr>\n",
       "    <tr>\n",
       "      <th>Workspace Name</th>\n",
       "      <td>udacity-capstone-ws</td>\n",
       "    </tr>\n",
       "    <tr>\n",
       "      <th>Resource Group</th>\n",
       "      <td>udacity-capstone</td>\n",
       "    </tr>\n",
       "    <tr>\n",
       "      <th>Location</th>\n",
       "      <td>northeurope</td>\n",
       "    </tr>\n",
       "    <tr>\n",
       "      <th>Experiment Name</th>\n",
       "      <td>automl-classification-text-dnn</td>\n",
       "    </tr>\n",
       "    <tr>\n",
       "      <th>SDK Version</th>\n",
       "      <td>1.40.0</td>\n",
       "    </tr>\n",
       "  </tbody>\n",
       "</table>\n",
       "</div>"
      ],
      "text/plain": [
       "                                                     \n",
       "Subscription ID  fbe09221-d2fa-4355-8174-808a6c0b6925\n",
       "Workspace Name                    udacity-capstone-ws\n",
       "Resource Group                       udacity-capstone\n",
       "Location                                  northeurope\n",
       "Experiment Name        automl-classification-text-dnn\n",
       "SDK Version                                    1.40.0"
      ]
     },
     "execution_count": 6,
     "metadata": {},
     "output_type": "execute_result"
    }
   ],
   "source": [
    "# Choose an experiment name.\n",
    "experiment_name = \"automl-classification-text-dnn\"\n",
    "\n",
    "experiment = Experiment(ws, experiment_name)\n",
    "\n",
    "output = {}\n",
    "output[\"Subscription ID\"] = ws.subscription_id\n",
    "output[\"Workspace Name\"] = ws.name\n",
    "output[\"Resource Group\"] = ws.resource_group\n",
    "output[\"Location\"] = ws.location\n",
    "output[\"Experiment Name\"] = experiment.name\n",
    "output[\"SDK Version\"] = azureml.core.VERSION\n",
    "pd.set_option(\"display.max_colwidth\", None)\n",
    "outputDf = pd.DataFrame(data=output, index=[\"\"])\n",
    "outputDf.T\n"
   ]
  },
  {
   "cell_type": "code",
   "execution_count": 7,
   "metadata": {
    "gather": {
     "logged": 1652592506757
    },
    "jupyter": {
     "outputs_hidden": false,
     "source_hidden": false
    },
    "nteract": {
     "transient": {
      "deleting": false
     }
    }
   },
   "outputs": [
    {
     "name": "stdout",
     "output_type": "stream",
     "text": [
      "Found existing cluster, use it.\n",
      "Succeeded\n",
      "AmlCompute wait for completion finished\n",
      "\n",
      "Minimum number of nodes requested have been provisioned\n"
     ]
    }
   ],
   "source": [
    "#Create Compute Cluster\n",
    "num_nodes = 1\n",
    "\n",
    "# Choose a name for your cluster.\n",
    "amlcompute_cluster_name = \"dnntext-cluster\"\n",
    "\n",
    "# Verify that cluster does not exist already\n",
    "try:\n",
    "    compute_target = ComputeTarget(workspace=ws, name=amlcompute_cluster_name)\n",
    "    print(\"Found existing cluster, use it.\")\n",
    "except ComputeTargetException:\n",
    "    compute_config = AmlCompute.provisioning_configuration(\n",
    "        vm_size=\"STANDARD_NC6\",  # CPU for BiLSTM, such as \"STANDARD_D2_V2\"\n",
    "        # To use BERT (this is recommended for best performance), select a GPU such as \"STANDARD_NC6\"\n",
    "        # or similar GPU option available in your workspace\n",
    "        idle_seconds_before_scaledown=60,\n",
    "        max_nodes=num_nodes,\n",
    "    )\n",
    "    compute_target = ComputeTarget.create(ws, amlcompute_cluster_name, compute_config)\n",
    "\n",
    "compute_target.wait_for_completion(show_output=True)"
   ]
  },
  {
   "cell_type": "markdown",
   "metadata": {},
   "source": [
    "## Dataset\n",
    "\n",
    "### Overview\n",
    "For this notebook we will use 20 Newsgroups data from scikit-learn. We filter the data to contain four classes and take a sample as training data. Please note that for accuracy improvement, more data is needed. For this notebook we provide a small-data example since it's a student project, and computational resources are expensive.\n"
   ]
  },
  {
   "cell_type": "code",
   "execution_count": 8,
   "metadata": {
    "gather": {
     "logged": 1652592515112
    },
    "jupyter": {
     "outputs_hidden": false,
     "source_hidden": false
    },
    "nteract": {
     "transient": {
      "deleting": false
     }
    }
   },
   "outputs": [],
   "source": [
    "data_dir = \"text-dnn-data\"  # Local directory to store data\n",
    "blobstore_datadir = data_dir  # Blob store directory to store data in\n",
    "target_column_name = \"y\"\n",
    "feature_column_name = \"X\"\n",
    "\n",
    "\n",
    "def get_20newsgroups_data():\n",
    "    \"\"\"Fetches 20 Newsgroups data from scikit-learn\n",
    "    Returns them in form of pandas dataframes\n",
    "    \"\"\"\n",
    "    remove = (\"headers\", \"footers\", \"quotes\")\n",
    "    categories = [\n",
    "        \"rec.sport.baseball\",\n",
    "        \"rec.sport.hockey\",\n",
    "        \"comp.graphics\",\n",
    "        \"sci.space\",\n",
    "    ]\n",
    "\n",
    "    data_train = fetch_20newsgroups(\n",
    "        subset=\"train\",\n",
    "        categories=categories,\n",
    "        shuffle=True,\n",
    "        random_state=42,\n",
    "        remove=remove,\n",
    "    )\n",
    "    \n",
    "    data_test = fetch_20newsgroups(\n",
    "        subset=\"test\",\n",
    "        categories=categories,\n",
    "        shuffle=True,\n",
    "        random_state=42,\n",
    "        remove=remove,\n",
    "    )\n",
    "    \n",
    "    data_train = pd.DataFrame(\n",
    "        {feature_column_name: data_train.data, target_column_name: data_train.target}\n",
    "    )\n",
    "    data_test = pd.DataFrame(\n",
    "        {feature_column_name: data_test.data, target_column_name: data_test.target}\n",
    "    )\n",
    "\n",
    "    data_train = remove_blanks_20news(data_train, feature_column_name, target_column_name)\n",
    "    data_test = remove_blanks_20news(data_test, feature_column_name, target_column_name)\n",
    "\n",
    "    return data_train, data_test\n",
    "\n",
    "\n",
    "def remove_blanks_20news(data, feature_column_name, target_column_name):\n",
    "\n",
    "    data[feature_column_name] = (\n",
    "        data[feature_column_name]\n",
    "        .replace(r\"\\n\", \" \", regex=True)\n",
    "        .apply(lambda x: x.strip())\n",
    "    )\n",
    "    data = data[data[feature_column_name] != \"\"]\n",
    "\n",
    "    return data"
   ]
  },
  {
   "cell_type": "code",
   "execution_count": 9,
   "metadata": {
    "gather": {
     "logged": 1652592531374
    },
    "jupyter": {
     "outputs_hidden": false,
     "source_hidden": false
    },
    "nteract": {
     "transient": {
      "deleting": false
     }
    }
   },
   "outputs": [
    {
     "name": "stderr",
     "output_type": "stream",
     "text": [
      "\"Datastore.upload\" is deprecated after version 1.0.69. Please use \"Dataset.File.upload_directory\" to upload your files             from a local directory and create FileDataset in single method call. See Dataset API change notice at https://aka.ms/dataset-deprecation.\n"
     ]
    },
    {
     "name": "stdout",
     "output_type": "stream",
     "text": [
      "Uploading an estimated of 2 files\n",
      "Uploading text-dnn-data/test_data.csv\n",
      "Uploaded text-dnn-data/test_data.csv, 1 files out of an estimated total of 2\n",
      "Uploading text-dnn-data/train_data.csv\n",
      "Uploaded text-dnn-data/train_data.csv, 2 files out of an estimated total of 2\n",
      "Uploaded 2 files\n"
     ]
    }
   ],
   "source": [
    "data_train, data_test = get_20newsgroups_data()\n",
    "\n",
    "if not os.path.isdir(data_dir):\n",
    "    os.mkdir(data_dir)\n",
    "\n",
    "train_data_fname = data_dir + \"/train_data.csv\"\n",
    "test_data_fname = data_dir + \"/test_data.csv\"\n",
    "\n",
    "data_train.to_csv(train_data_fname, index=False)\n",
    "data_test.to_csv(test_data_fname, index=False)\n",
    "\n",
    "datastore = ws.get_default_datastore()\n",
    "datastore.upload(src_dir=data_dir, target_path=blobstore_datadir, overwrite=True)\n",
    "train_dataset = Dataset.Tabular.from_delimited_files(\n",
    "    path=[(datastore, blobstore_datadir + \"/train_data.csv\")]\n",
    ")"
   ]
  },
  {
   "cell_type": "code",
   "execution_count": 10,
   "metadata": {
    "gather": {
     "logged": 1652592535268
    },
    "jupyter": {
     "outputs_hidden": false,
     "source_hidden": false
    },
    "nteract": {
     "transient": {
      "deleting": false
     }
    }
   },
   "outputs": [],
   "source": [
    "train_dataset = Dataset.Tabular.from_delimited_files(\n",
    "    path=[(datastore, blobstore_datadir + \"/train_data.csv\")]\n",
    ")"
   ]
  },
  {
   "cell_type": "markdown",
   "metadata": {},
   "source": [
    "## AutoML Configuration\n",
    "\n",
    "Parameters generated for AutoML were as follows:  \n",
    "\n",
    "  * Primary metric \"accuracy\" - ratio of predictions that exactly match the true class labels.\n",
    "  * Early Stopping enabled - this parameter is used to stop initation early if the score isn't improving.\n",
    "  * Featurization \"auto\" - this is to automatically check data and flag any issues (such as class imbalance, missing values etc).\n",
    "  * Validation 0.3 - 30% of data was held out for validation.\n",
    "  * Itiration time out was set to 10 min for each itiration.\n",
    "  * Experiment time out was set to 60min, which means that it would terminate after 60 min, and best model is selected from the models generated within this time frame. This consists of all itirations within experiment.\n",
    "  * Blocked_models parameter to exclude some models that can take a longer time to train on some text datasets. If we were to remove models from the blocked_models list, experiment_timeout_hours parameter value would need to be used and increased in order to allow sufficient time to improve the results."
   ]
  },
  {
   "cell_type": "code",
   "execution_count": 11,
   "metadata": {
    "gather": {
     "logged": 1652593978586
    },
    "jupyter": {
     "outputs_hidden": false,
     "source_hidden": false
    },
    "nteract": {
     "transient": {
      "deleting": false
     }
    }
   },
   "outputs": [],
   "source": [
    "automl_settings = {\n",
    "    \"iteration_timeout_minutes\": 10,\n",
    "    \"primary_metric\": \"accuracy\",\n",
    "    \"max_concurrent_iterations\": num_nodes,\n",
    "    \"max_cores_per_iteration\": -1,\n",
    "    \"enable_dnn\": True,\n",
    "    \"featurization\": \"auto\",\n",
    "    \"enable_early_stopping\": True,\n",
    "    \"validation_size\": 0.3,\n",
    "    \"verbosity\": logging.INFO,\n",
    "    \"enable_voting_ensemble\": False,\n",
    "    \"enable_stack_ensemble\": False,\n",
    "}\n",
    "\n",
    "automl_config = AutoMLConfig(\n",
    "    experiment_timeout_minutes=60,\n",
    "    task=\"classification\",\n",
    "    debug_log=\"automl_errors.log\",\n",
    "    compute_target=compute_target,\n",
    "    training_data=train_dataset,\n",
    "    label_column_name=target_column_name,\n",
    "    blocked_models=[\"LightGBM\", \"XGBoostClassifier\"],\n",
    "    **automl_settings,\n",
    ")"
   ]
  },
  {
   "cell_type": "code",
   "execution_count": 12,
   "metadata": {
    "gather": {
     "logged": 1652596652844
    },
    "jupyter": {
     "outputs_hidden": false,
     "source_hidden": false
    },
    "nteract": {
     "transient": {
      "deleting": false
     }
    }
   },
   "outputs": [
    {
     "name": "stdout",
     "output_type": "stream",
     "text": [
      "Submitting remote run.\n",
      "No run_configuration provided, running on dnntext-cluster with default configuration\n",
      "Running on remote compute: dnntext-cluster\n"
     ]
    },
    {
     "data": {
      "text/html": [
       "<table style=\"width:100%\"><tr><th>Experiment</th><th>Id</th><th>Type</th><th>Status</th><th>Details Page</th><th>Docs Page</th></tr><tr><td>automl-classification-text-dnn</td><td>AutoML_b6f10e92-3c93-46bf-be25-0acf0a98a7a5</td><td>automl</td><td>NotStarted</td><td><a href=\"https://ml.azure.com/runs/AutoML_b6f10e92-3c93-46bf-be25-0acf0a98a7a5?wsid=/subscriptions/fbe09221-d2fa-4355-8174-808a6c0b6925/resourcegroups/udacity-capstone/workspaces/udacity-capstone-ws&amp;tid=5f72850f-e1ba-4a78-b1dd-7c1e0e254830\" target=\"_blank\" rel=\"noopener\">Link to Azure Machine Learning studio</a></td><td><a href=\"https://docs.microsoft.com/en-us/python/api/overview/azure/ml/intro?view=azure-ml-py\" target=\"_blank\" rel=\"noopener\">Link to Documentation</a></td></tr></table>"
      ],
      "text/plain": [
       "<IPython.core.display.HTML object>"
      ]
     },
     "metadata": {},
     "output_type": "display_data"
    },
    {
     "name": "stdout",
     "output_type": "stream",
     "text": [
      "\n",
      "Current status: FeaturesGeneration. Generating features for the dataset.\n",
      "Current status: TextDNNTraining. Training a deep learning text model, this may take a while.\n",
      "Current status: TextDNNTrainingCompleted. Completed training a deep learning text model.\n",
      "Current status: DatasetFeaturization. Beginning to fit featurizers and featurize the dataset.\n",
      "Current status: DatasetFeaturizationCompleted. Completed fit featurizers and featurizing the dataset.\n",
      "Current status: ModelSelection. Beginning model selection.\n",
      "\n",
      "********************************************************************************************\n",
      "DATA GUARDRAILS: \n",
      "\n",
      "TYPE:         Class balancing detection\n",
      "STATUS:       PASSED\n",
      "DESCRIPTION:  Your inputs were analyzed, and all classes are balanced in your training data.\n",
      "              Learn more about imbalanced data: https://aka.ms/AutomatedMLImbalancedData\n",
      "\n",
      "********************************************************************************************\n",
      "\n",
      "TYPE:         Missing feature values imputation\n",
      "STATUS:       PASSED\n",
      "DESCRIPTION:  No feature missing values were detected in the training data.\n",
      "              Learn more about missing value imputation: https://aka.ms/AutomatedMLFeaturization\n",
      "\n",
      "********************************************************************************************\n",
      "\n",
      "TYPE:         High cardinality feature detection\n",
      "STATUS:       PASSED\n",
      "DESCRIPTION:  Your inputs were analyzed, and no high cardinality features were detected.\n",
      "              Learn more about high cardinality feature handling: https://aka.ms/AutomatedMLFeaturization\n",
      "\n",
      "********************************************************************************************\n",
      "\n",
      "********************************************************************************************\n",
      "ITER: The iteration being evaluated.\n",
      "PIPELINE: A summary description of the pipeline being evaluated.\n",
      "DURATION: Time taken for the current iteration.\n",
      "METRIC: The result of computing score on the fitted pipeline.\n",
      "BEST: The best observed score thus far.\n",
      "********************************************************************************************\n",
      "\n",
      " ITER   PIPELINE                                       DURATION            METRIC      BEST\n",
      "    0   MaxAbsScaler ExtremeRandomTrees                0:00:32             0.8947    0.8947\n",
      "    1   MaxAbsScaler LogisticRegression                0:00:47             0.9004    0.9004\n",
      "    2   StandardScalerWrapper ExtremeRandomTrees       0:00:32             0.8947    0.9004\n",
      "    3   MaxAbsScaler LogisticRegression                0:00:40             0.8975    0.9004\n",
      "    4   MaxAbsScaler SGD                               0:00:32             0.8975    0.9004\n",
      "    5   SparseNormalizer RandomForest                  0:00:32             0.8918    0.9004\n",
      "    6   StandardScalerWrapper LogisticRegression       0:00:37             0.8947    0.9004\n",
      "    7   StandardScalerWrapper RandomForest             0:00:31             0.8932    0.9004\n",
      "    8   TruncatedSVDWrapper RandomForest               0:00:42             0.8932    0.9004\n",
      "    9   TruncatedSVDWrapper RandomForest               0:00:43             0.8918    0.9004\n",
      "   10   StandardScalerWrapper LogisticRegression       0:00:40             0.9120    0.9120\n",
      "   11   StandardScalerWrapper RandomForest             0:00:31             0.2698    0.9120\n",
      "   12   MaxAbsScaler LogisticRegression                0:01:28             0.8975    0.9120\n",
      "   13   StandardScalerWrapper RandomForest             0:01:02             0.8903    0.9120\n",
      "   14   SparseNormalizer RandomForest                  0:00:32             0.8903    0.9120\n",
      "   15   StandardScalerWrapper LogisticRegression       0:00:46             0.8975    0.9120\n",
      "   16   StandardScalerWrapper ExtremeRandomTrees       0:00:32             0.8947    0.9120\n",
      "   17   TruncatedSVDWrapper LogisticRegression         0:00:42             0.8903    0.9120\n",
      "   18   TruncatedSVDWrapper RandomForest               0:00:40             0.8932    0.9120\n",
      "   19   MaxAbsScaler RandomForest                      0:00:32             0.8947    0.9120\n",
      "   20   SparseNormalizer SGD                           0:03:49             0.8975    0.9120\n",
      "   21   StandardScalerWrapper LogisticRegression       0:01:23             0.9105    0.9120\n",
      "   22   MaxAbsScaler SGD                               0:01:06             0.8846    0.9120\n",
      "   23   MaxAbsScaler RandomForest                      0:01:06             0.8918    0.9120\n",
      "   24   MaxAbsScaler LogisticRegression                0:01:07             0.8975    0.9120\n",
      "   25   MaxAbsScaler LogisticRegression                0:01:08             0.2540    0.9120\n",
      "   26   MaxAbsScaler ExtremeRandomTrees                0:01:16             0.8903    0.9120\n",
      "   27   MaxAbsScaler ExtremeRandomTrees                0:01:10             0.8947    0.9120\n",
      "   28   StandardScalerWrapper ExtremeRandomTrees       0:01:18             0.8947    0.9120\n",
      "   29   MaxAbsScaler LinearSVM                         0:01:14             0.8990    0.9120\n"
     ]
    }
   ],
   "source": [
    "#Submit experiment\n",
    "automl_run = experiment.submit(automl_config, show_output=True)"
   ]
  },
  {
   "cell_type": "markdown",
   "metadata": {},
   "source": [
    "## Run Details\n",
    "\n",
    "\n",
    "Use the `RunDetails` widget to show the different experiments."
   ]
  },
  {
   "cell_type": "code",
   "execution_count": 14,
   "metadata": {
    "gather": {
     "logged": 1652597806095
    },
    "jupyter": {
     "outputs_hidden": false,
     "source_hidden": false
    },
    "nteract": {
     "transient": {
      "deleting": false
     }
    }
   },
   "outputs": [
    {
     "data": {
      "application/vnd.jupyter.widget-view+json": {
       "model_id": "75a2fc745c834f6685132d93a6a431e9",
       "version_major": 2,
       "version_minor": 0
      },
      "text/plain": [
       "_AutoMLWidget(widget_settings={'childWidgetDisplay': 'popup', 'send_telemetry': False, 'log_level': 'INFO', 's…"
      ]
     },
     "metadata": {},
     "output_type": "display_data"
    },
    {
     "data": {
      "application/aml.mini.widget.v1": "{\"status\": \"Completed\", \"workbench_run_details_uri\": \"https://ml.azure.com/runs/AutoML_b6f10e92-3c93-46bf-be25-0acf0a98a7a5?wsid=/subscriptions/fbe09221-d2fa-4355-8174-808a6c0b6925/resourcegroups/udacity-capstone/workspaces/udacity-capstone-ws&tid=5f72850f-e1ba-4a78-b1dd-7c1e0e254830\", \"run_id\": \"AutoML_b6f10e92-3c93-46bf-be25-0acf0a98a7a5\", \"run_properties\": {\"run_id\": \"AutoML_b6f10e92-3c93-46bf-be25-0acf0a98a7a5\", \"created_utc\": \"2022-05-17T14:32:01.366674Z\", \"properties\": {\"num_iterations\": \"1000\", \"training_type\": \"TrainFull\", \"acquisition_function\": \"EI\", \"primary_metric\": \"accuracy\", \"train_split\": \"0.3\", \"acquisition_parameter\": \"0\", \"num_cross_validation\": null, \"target\": \"dnntext-cluster\", \"AMLSettingsJsonString\": \"{\\\"path\\\":null,\\\"name\\\":\\\"automl-classification-text-dnn\\\",\\\"subscription_id\\\":\\\"fbe09221-d2fa-4355-8174-808a6c0b6925\\\",\\\"resource_group\\\":\\\"udacity-capstone\\\",\\\"workspace_name\\\":\\\"udacity-capstone-ws\\\",\\\"region\\\":\\\"northeurope\\\",\\\"compute_target\\\":\\\"dnntext-cluster\\\",\\\"spark_service\\\":null,\\\"azure_service\\\":\\\"remote\\\",\\\"many_models\\\":false,\\\"pipeline_fetch_max_batch_size\\\":1,\\\"enable_batch_run\\\":true,\\\"enable_run_restructure\\\":false,\\\"start_auxiliary_runs_before_parent_complete\\\":false,\\\"enable_code_generation\\\":false,\\\"iterations\\\":1000,\\\"primary_metric\\\":\\\"accuracy\\\",\\\"task_type\\\":\\\"classification\\\",\\\"positive_label\\\":null,\\\"data_script\\\":null,\\\"test_size\\\":0.0,\\\"test_include_predictions_only\\\":false,\\\"validation_size\\\":0.3,\\\"n_cross_validations\\\":null,\\\"y_min\\\":null,\\\"y_max\\\":null,\\\"num_classes\\\":null,\\\"featurization\\\":\\\"auto\\\",\\\"_ignore_package_version_incompatibilities\\\":false,\\\"is_timeseries\\\":false,\\\"max_cores_per_iteration\\\":-1,\\\"max_concurrent_iterations\\\":1,\\\"iteration_timeout_minutes\\\":10,\\\"mem_in_mb\\\":null,\\\"enforce_time_on_windows\\\":false,\\\"experiment_timeout_minutes\\\":60,\\\"experiment_exit_score\\\":null,\\\"partition_column_names\\\":null,\\\"whitelist_models\\\":null,\\\"blacklist_algos\\\":[\\\"LightGBM\\\",\\\"XGBoostClassifier\\\",\\\"TensorFlowLinearClassifier\\\",\\\"TensorFlowDNN\\\"],\\\"supported_models\\\":[\\\"AveragedPerceptronClassifier\\\",\\\"GradientBoosting\\\",\\\"MultinomialNaiveBayes\\\",\\\"LogisticRegression\\\",\\\"TensorFlowDNN\\\",\\\"SGD\\\",\\\"LinearSVM\\\",\\\"DecisionTree\\\",\\\"TensorFlowLinearClassifier\\\",\\\"TabnetClassifier\\\",\\\"XGBoostClassifier\\\",\\\"SVM\\\",\\\"KNN\\\",\\\"LightGBM\\\",\\\"ExtremeRandomTrees\\\",\\\"BernoulliNaiveBayes\\\",\\\"RandomForest\\\"],\\\"private_models\\\":[],\\\"auto_blacklist\\\":true,\\\"blacklist_samples_reached\\\":false,\\\"exclude_nan_labels\\\":true,\\\"verbosity\\\":20,\\\"_debug_log\\\":\\\"azureml_automl.log\\\",\\\"show_warnings\\\":false,\\\"model_explainability\\\":true,\\\"service_url\\\":null,\\\"sdk_url\\\":null,\\\"sdk_packages\\\":null,\\\"enable_onnx_compatible_models\\\":false,\\\"enable_split_onnx_featurizer_estimator_models\\\":false,\\\"vm_type\\\":\\\"STANDARD_NC6\\\",\\\"telemetry_verbosity\\\":20,\\\"send_telemetry\\\":true,\\\"enable_dnn\\\":true,\\\"scenario\\\":\\\"SDK-1.13.0\\\",\\\"environment_label\\\":null,\\\"save_mlflow\\\":false,\\\"enable_categorical_indicators\\\":false,\\\"force_text_dnn\\\":false,\\\"enable_feature_sweeping\\\":true,\\\"enable_early_stopping\\\":true,\\\"early_stopping_n_iters\\\":10,\\\"arguments\\\":null,\\\"dataset_id\\\":\\\"ba06c96f-6b65-4a4b-aa1d-74e9dd30dd88\\\",\\\"hyperdrive_config\\\":null,\\\"validation_dataset_id\\\":null,\\\"run_source\\\":null,\\\"metrics\\\":null,\\\"enable_metric_confidence\\\":false,\\\"enable_ensembling\\\":false,\\\"enable_stack_ensembling\\\":false,\\\"ensemble_iterations\\\":15,\\\"enable_tf\\\":false,\\\"enable_subsampling\\\":null,\\\"subsample_seed\\\":null,\\\"enable_nimbusml\\\":false,\\\"enable_streaming\\\":false,\\\"force_streaming\\\":false,\\\"track_child_runs\\\":true,\\\"allowed_private_models\\\":[],\\\"label_column_name\\\":\\\"y\\\",\\\"weight_column_name\\\":null,\\\"cv_split_column_names\\\":null,\\\"enable_local_managed\\\":false,\\\"_local_managed_run_id\\\":null,\\\"cost_mode\\\":1,\\\"lag_length\\\":0,\\\"metric_operation\\\":\\\"maximize\\\",\\\"preprocess\\\":true}\", \"DataPrepJsonString\": \"{\\\\\\\"training_data\\\\\\\": {\\\\\\\"datasetId\\\\\\\": \\\\\\\"ba06c96f-6b65-4a4b-aa1d-74e9dd30dd88\\\\\\\"}, \\\\\\\"datasets\\\\\\\": 0}\", \"EnableSubsampling\": null, \"runTemplate\": \"AutoML\", \"azureml.runsource\": \"automl\", \"display_task_type\": \"classification\", \"dependencies_versions\": \"{\\\"azureml-widgets\\\": \\\"1.40.0\\\", \\\"azureml-training-tabular\\\": \\\"1.40.0\\\", \\\"azureml-train\\\": \\\"1.40.0\\\", \\\"azureml-train-restclients-hyperdrive\\\": \\\"1.40.0\\\", \\\"azureml-train-core\\\": \\\"1.40.0\\\", \\\"azureml-train-automl\\\": \\\"1.40.0\\\", \\\"azureml-train-automl-runtime\\\": \\\"1.40.0.post1\\\", \\\"azureml-train-automl-client\\\": \\\"1.40.0\\\", \\\"azureml-tensorboard\\\": \\\"1.40.0\\\", \\\"azureml-telemetry\\\": \\\"1.40.0\\\", \\\"azureml-sdk\\\": \\\"1.40.0\\\", \\\"azureml-samples\\\": \\\"0+unknown\\\", \\\"azureml-responsibleai\\\": \\\"1.40.0\\\", \\\"azureml-pipeline\\\": \\\"1.40.0\\\", \\\"azureml-pipeline-steps\\\": \\\"1.40.0\\\", \\\"azureml-pipeline-core\\\": \\\"1.40.0\\\", \\\"azureml-opendatasets\\\": \\\"1.40.0\\\", \\\"azureml-mlflow\\\": \\\"1.40.0\\\", \\\"azureml-interpret\\\": \\\"1.40.0\\\", \\\"azureml-inference-server-http\\\": \\\"0.4.11\\\", \\\"azureml-explain-model\\\": \\\"1.40.0\\\", \\\"azureml-defaults\\\": \\\"1.40.0\\\", \\\"azureml-dataset-runtime\\\": \\\"1.40.0\\\", \\\"azureml-dataprep\\\": \\\"3.0.0\\\", \\\"azureml-dataprep-rslex\\\": \\\"2.4.0\\\", \\\"azureml-dataprep-native\\\": \\\"38.0.0\\\", \\\"azureml-datadrift\\\": \\\"1.40.0\\\", \\\"azureml-core\\\": \\\"1.40.0\\\", \\\"azureml-contrib-services\\\": \\\"1.40.0\\\", \\\"azureml-contrib-server\\\": \\\"1.40.0\\\", \\\"azureml-contrib-reinforcementlearning\\\": \\\"1.40.0\\\", \\\"azureml-contrib-pipeline-steps\\\": \\\"1.40.0\\\", \\\"azureml-contrib-notebook\\\": \\\"1.40.0\\\", \\\"azureml-contrib-fairness\\\": \\\"1.40.0\\\", \\\"azureml-contrib-dataset\\\": \\\"1.40.0\\\", \\\"azureml-contrib-automl-pipeline-steps\\\": \\\"1.40.0\\\", \\\"azureml-cli-common\\\": \\\"1.40.0\\\", \\\"azureml-automl-runtime\\\": \\\"1.40.0\\\", \\\"azureml-automl-dnn-nlp\\\": \\\"1.40.0\\\", \\\"azureml-automl-core\\\": \\\"1.40.0\\\", \\\"azureml-accel-models\\\": \\\"1.40.0\\\"}\", \"_aml_system_scenario_identification\": \"Remote.Parent\", \"ClientType\": \"SDK\", \"environment_cpu_name\": \"AzureML-AutoML-DNN\", \"environment_cpu_label\": \"prod\", \"environment_gpu_name\": \"AzureML-AutoML-DNN-GPU\", \"environment_gpu_label\": \"prod\", \"root_attribution\": \"automl\", \"attribution\": \"AutoML\", \"Orchestrator\": \"AutoML\", \"CancelUri\": \"https://northeurope.api.azureml.ms/jasmine/v1.0/subscriptions/fbe09221-d2fa-4355-8174-808a6c0b6925/resourceGroups/udacity-capstone/providers/Microsoft.MachineLearningServices/workspaces/udacity-capstone-ws/experimentids/cf53bafc-6c75-43bf-ad9d-b5319d17b7e9/cancel/AutoML_b6f10e92-3c93-46bf-be25-0acf0a98a7a5\", \"ClientSdkVersion\": \"1.40.0.post1\", \"snapshotId\": \"00000000-0000-0000-0000-000000000000\", \"SetupRunId\": \"AutoML_b6f10e92-3c93-46bf-be25-0acf0a98a7a5_setup\", \"SetupRunContainerId\": \"dcid.AutoML_b6f10e92-3c93-46bf-be25-0acf0a98a7a5_setup\", \"FeaturizationRunJsonPath\": \"featurizer_container.json\", \"FeaturizationRunId\": \"AutoML_b6f10e92-3c93-46bf-be25-0acf0a98a7a5_featurize\", \"ProblemInfoJsonString\": \"{\\\"dataset_num_categorical\\\": 0, \\\"is_sparse\\\": true, \\\"subsampling\\\": false, \\\"has_extra_col\\\": true, \\\"dataset_classes\\\": 4, \\\"dataset_features\\\": 197330, \\\"dataset_samples\\\": 1615, \\\"single_frequency_class_detected\\\": false}\", \"ModelExplainRunId\": \"AutoML_b6f10e92-3c93-46bf-be25-0acf0a98a7a5_ModelExplain\"}, \"tags\": {\"model_explain_run\": \"best_run\", \"_aml_system_automl_run_workspace_id\": \"644b04ba-cd6a-402f-aa72-d1730d303ea8\", \"_aml_system_azureml.automlComponent\": \"AutoML\", \"is_gpu\": \"True\", \"pipeline_id\": \"\", \"score\": \"\", \"predicted_cost\": \"\", \"fit_time\": \"\", \"training_percent\": \"\", \"iteration\": \"\", \"run_preprocessor\": \"\", \"run_algorithm\": \"\", \"dynamic_allowlisting_iterations\": \"<25>;\", \"_aml_system_azureml.automl_early_exit_message\": \"No scores improved over last 10 iterations, so experiment stopped early. This early stopping behavior can be disabled by setting enable_early_stopping = False in AutoMLConfig for notebook/python SDK runs.\", \"automl_best_child_run_id\": \"AutoML_b6f10e92-3c93-46bf-be25-0acf0a98a7a5_10\", \"model_explain_best_run_child_id\": \"AutoML_b6f10e92-3c93-46bf-be25-0acf0a98a7a5_10\"}, \"end_time_utc\": \"2022-05-17T15:31:12.228138Z\", \"status\": \"Completed\", \"log_files\": {}, \"log_groups\": [], \"run_duration\": \"0:59:10\", \"run_number\": \"1652797921\", \"run_queued_details\": {\"status\": \"Completed\", \"details\": null}}, \"child_runs\": [{\"run_id\": \"AutoML_b6f10e92-3c93-46bf-be25-0acf0a98a7a5_setup\", \"run_number\": 1652797933, \"metric\": null, \"status\": \"Completed\", \"run_type\": \"azureml.scriptrun\", \"training_percent\": null, \"start_time\": \"2022-05-17T14:35:15.00075Z\", \"end_time\": \"2022-05-17T14:44:16.893456Z\", \"created_time\": \"2022-05-17T14:32:13.052238Z\", \"created_time_dt\": \"2022-05-17T14:32:13.052238Z\", \"duration\": \"0:12:03\", \"iteration\": null, \"goal\": null, \"run_name\": \"Completed\", \"run_properties\": null}, {\"run_id\": \"AutoML_b6f10e92-3c93-46bf-be25-0acf0a98a7a5_featurize\", \"run_number\": 1652798657, \"metric\": null, \"status\": \"Completed\", \"run_type\": \"automl.featurization\", \"training_percent\": null, \"start_time\": \"2022-05-17T14:44:19.474955Z\", \"end_time\": \"2022-05-17T14:54:06.045369Z\", \"created_time\": \"2022-05-17T14:44:17.231316Z\", \"created_time_dt\": \"2022-05-17T14:44:17.231316Z\", \"duration\": \"0:09:48\", \"iteration\": null, \"goal\": null, \"run_name\": \"Completed\", \"run_properties\": null}, {\"run_id\": \"AutoML_b6f10e92-3c93-46bf-be25-0acf0a98a7a5_0\", \"run_number\": 1652799247, \"metric\": null, \"status\": \"Completed\", \"run_type\": null, \"training_percent\": \"100\", \"start_time\": \"2022-05-17T14:54:38.620249Z\", \"end_time\": \"2022-05-17T14:55:10.495655Z\", \"created_time\": \"2022-05-17T14:54:07.271898Z\", \"created_time_dt\": \"2022-05-17T14:54:07.271898Z\", \"duration\": \"0:01:03\", \"iteration\": \"0\", \"goal\": \"accuracy_max\", \"run_name\": \"MaxAbsScaler, ExtremeRandomTrees\", \"run_properties\": \"copy=True\", \"primary_metric\": 0.89466089, \"best_metric\": 0.89466089}, {\"run_id\": \"AutoML_b6f10e92-3c93-46bf-be25-0acf0a98a7a5_2\", \"run_number\": 1652799248, \"metric\": null, \"status\": \"Completed\", \"run_type\": null, \"training_percent\": \"100\", \"start_time\": \"2022-05-17T14:55:57.898306Z\", \"end_time\": \"2022-05-17T14:56:29.644524Z\", \"created_time\": \"2022-05-17T14:54:08.124759Z\", \"created_time_dt\": \"2022-05-17T14:54:08.124759Z\", \"duration\": \"0:02:21\", \"iteration\": \"2\", \"goal\": \"accuracy_max\", \"run_name\": \"StandardScalerWrapper, ExtremeRandomTrees\", \"run_properties\": \"copy=True, with_mean=False, with_std=False\", \"primary_metric\": 0.89466089, \"best_metric\": 0.89466089}, {\"run_id\": \"AutoML_b6f10e92-3c93-46bf-be25-0acf0a98a7a5_5\", \"run_number\": 1652799249, \"metric\": null, \"status\": \"Completed\", \"run_type\": null, \"training_percent\": \"100\", \"start_time\": \"2022-05-17T14:57:42.264693Z\", \"end_time\": \"2022-05-17T14:58:13.82085Z\", \"created_time\": \"2022-05-17T14:54:09.170013Z\", \"created_time_dt\": \"2022-05-17T14:54:09.170013Z\", \"duration\": \"0:04:04\", \"iteration\": \"5\", \"goal\": \"accuracy_max\", \"run_name\": \"SparseNormalizer, RandomForest\", \"run_properties\": \"copy=True, norm='l2'\", \"primary_metric\": 0.89177489, \"best_metric\": 0.89466089}, {\"run_id\": \"AutoML_b6f10e92-3c93-46bf-be25-0acf0a98a7a5_8\", \"run_number\": 1652799250, \"metric\": null, \"status\": \"Completed\", \"run_type\": null, \"training_percent\": \"100\", \"start_time\": \"2022-05-17T14:59:22.439864Z\", \"end_time\": \"2022-05-17T15:00:04.328296Z\", \"created_time\": \"2022-05-17T14:54:10.210165Z\", \"created_time_dt\": \"2022-05-17T14:54:10.210165Z\", \"duration\": \"0:05:54\", \"iteration\": \"8\", \"goal\": \"accuracy_max\", \"run_name\": \"TruncatedSVDWrapper, RandomForest\", \"run_properties\": \"n_components=0.8015789473684211, random_state=None\", \"primary_metric\": 0.89321789, \"best_metric\": 0.89466089}, {\"run_id\": \"AutoML_b6f10e92-3c93-46bf-be25-0acf0a98a7a5_11\", \"run_number\": 1652799251, \"metric\": null, \"status\": \"Completed\", \"run_type\": null, \"training_percent\": \"100\", \"start_time\": \"2022-05-17T15:01:28.349291Z\", \"end_time\": \"2022-05-17T15:01:59.221982Z\", \"created_time\": \"2022-05-17T14:54:11.303137Z\", \"created_time_dt\": \"2022-05-17T14:54:11.303137Z\", \"duration\": \"0:07:47\", \"iteration\": \"11\", \"goal\": \"accuracy_max\", \"run_name\": \"StandardScalerWrapper, RandomForest\", \"run_properties\": \"copy=True, with_mean=False, with_std=False\", \"primary_metric\": 0.26984127, \"best_metric\": 0.89466089}, {\"run_id\": \"AutoML_b6f10e92-3c93-46bf-be25-0acf0a98a7a5_13\", \"run_number\": 1652799252, \"metric\": null, \"status\": \"Completed\", \"run_type\": null, \"training_percent\": \"100\", \"start_time\": \"2022-05-17T15:03:27.545796Z\", \"end_time\": \"2022-05-17T15:04:29.344727Z\", \"created_time\": \"2022-05-17T14:54:12.013434Z\", \"created_time_dt\": \"2022-05-17T14:54:12.013434Z\", \"duration\": \"0:10:17\", \"iteration\": \"13\", \"goal\": \"accuracy_max\", \"run_name\": \"StandardScalerWrapper, RandomForest\", \"run_properties\": \"copy=True, with_mean=False, with_std=True\", \"primary_metric\": 0.89033189, \"best_metric\": 0.89466089}, {\"run_id\": \"AutoML_b6f10e92-3c93-46bf-be25-0acf0a98a7a5_16\", \"run_number\": 1652799253, \"metric\": null, \"status\": \"Completed\", \"run_type\": null, \"training_percent\": \"100\", \"start_time\": \"2022-05-17T15:05:48.649049Z\", \"end_time\": \"2022-05-17T15:06:20.362868Z\", \"created_time\": \"2022-05-17T14:54:13.089157Z\", \"created_time_dt\": \"2022-05-17T14:54:13.089157Z\", \"duration\": \"0:12:07\", \"iteration\": \"16\", \"goal\": \"accuracy_max\", \"run_name\": \"StandardScalerWrapper, ExtremeRandomTrees\", \"run_properties\": \"copy=True, with_mean=False, with_std=True\", \"primary_metric\": 0.89466089, \"best_metric\": 0.89466089}, {\"run_id\": \"AutoML_b6f10e92-3c93-46bf-be25-0acf0a98a7a5_worker_0\", \"run_number\": 1652799254, \"metric\": null, \"status\": \"Completed\", \"run_type\": \"azureml.scriptrun\", \"training_percent\": null, \"start_time\": \"2022-05-17T14:54:19.422672Z\", \"end_time\": \"2022-05-17T15:08:32.73143Z\", \"created_time\": \"2022-05-17T14:54:14.321389Z\", \"created_time_dt\": \"2022-05-17T14:54:14.321389Z\", \"duration\": \"0:14:18\", \"iteration\": null, \"goal\": null, \"run_name\": \"Completed\", \"run_properties\": null}, {\"run_id\": \"AutoML_b6f10e92-3c93-46bf-be25-0acf0a98a7a5_20\", \"run_number\": 1652800324, \"metric\": null, \"status\": \"Completed\", \"run_type\": \"azureml.scriptrun\", \"training_percent\": \"100\", \"start_time\": \"2022-05-17T15:15:29.016564Z\", \"end_time\": \"2022-05-17T15:19:17.520844Z\", \"created_time\": \"2022-05-17T15:12:04.865464Z\", \"created_time_dt\": \"2022-05-17T15:12:04.865464Z\", \"duration\": \"0:07:12\", \"iteration\": \"20\", \"goal\": \"accuracy_max\", \"run_name\": \"SparseNormalizer, SGD\", \"run_properties\": \"copy=True, norm='l2'\", \"primary_metric\": 0.8975469, \"best_metric\": 0.8975469}, {\"run_id\": \"AutoML_b6f10e92-3c93-46bf-be25-0acf0a98a7a5_21\", \"run_number\": 1652800759, \"metric\": null, \"status\": \"Completed\", \"run_type\": \"azureml.scriptrun\", \"training_percent\": \"100\", \"start_time\": \"2022-05-17T15:19:26.863071Z\", \"end_time\": \"2022-05-17T15:20:49.629378Z\", \"created_time\": \"2022-05-17T15:19:18.986463Z\", \"created_time_dt\": \"2022-05-17T15:19:18.986463Z\", \"duration\": \"0:01:30\", \"iteration\": \"21\", \"goal\": \"accuracy_max\", \"run_name\": \"StandardScalerWrapper, LogisticRegression\", \"run_properties\": \"copy=True, with_mean=False, with_std=True\", \"primary_metric\": 0.91053391, \"best_metric\": 0.91053391}, {\"run_id\": \"AutoML_b6f10e92-3c93-46bf-be25-0acf0a98a7a5_22\", \"run_number\": 1652800851, \"metric\": null, \"status\": \"Completed\", \"run_type\": \"azureml.scriptrun\", \"training_percent\": \"100\", \"start_time\": \"2022-05-17T15:20:56.743489Z\", \"end_time\": \"2022-05-17T15:22:02.374709Z\", \"created_time\": \"2022-05-17T15:20:51.267615Z\", \"created_time_dt\": \"2022-05-17T15:20:51.267615Z\", \"duration\": \"0:01:11\", \"iteration\": \"22\", \"goal\": \"accuracy_max\", \"run_name\": \"MaxAbsScaler, SGD\", \"run_properties\": \"copy=True\", \"primary_metric\": 0.88455988, \"best_metric\": 0.91053391}, {\"run_id\": \"AutoML_b6f10e92-3c93-46bf-be25-0acf0a98a7a5_23\", \"run_number\": 1652800923, \"metric\": null, \"status\": \"Completed\", \"run_type\": \"azureml.scriptrun\", \"training_percent\": \"100\", \"start_time\": \"2022-05-17T15:22:10.389757Z\", \"end_time\": \"2022-05-17T15:23:16.5046Z\", \"created_time\": \"2022-05-17T15:22:03.795963Z\", \"created_time_dt\": \"2022-05-17T15:22:03.795963Z\", \"duration\": \"0:01:12\", \"iteration\": \"23\", \"goal\": \"accuracy_max\", \"run_name\": \"MaxAbsScaler, RandomForest\", \"run_properties\": \"copy=True\", \"primary_metric\": 0.89177489, \"best_metric\": 0.91053391}, {\"run_id\": \"AutoML_b6f10e92-3c93-46bf-be25-0acf0a98a7a5_24\", \"run_number\": 1652800998, \"metric\": null, \"status\": \"Completed\", \"run_type\": \"azureml.scriptrun\", \"training_percent\": \"100\", \"start_time\": \"2022-05-17T15:23:23.019923Z\", \"end_time\": \"2022-05-17T15:24:30.300414Z\", \"created_time\": \"2022-05-17T15:23:18.038881Z\", \"created_time_dt\": \"2022-05-17T15:23:18.038881Z\", \"duration\": \"0:01:12\", \"iteration\": \"24\", \"goal\": \"accuracy_max\", \"run_name\": \"MaxAbsScaler, LogisticRegression\", \"run_properties\": \"copy=True\", \"primary_metric\": 0.8975469, \"best_metric\": 0.91053391}, {\"run_id\": \"AutoML_b6f10e92-3c93-46bf-be25-0acf0a98a7a5_25\", \"run_number\": 1652801072, \"metric\": null, \"status\": \"Completed\", \"run_type\": \"azureml.scriptrun\", \"training_percent\": \"100\", \"start_time\": \"2022-05-17T15:24:38.709772Z\", \"end_time\": \"2022-05-17T15:25:46.535914Z\", \"created_time\": \"2022-05-17T15:24:32.496949Z\", \"created_time_dt\": \"2022-05-17T15:24:32.496949Z\", \"duration\": \"0:01:14\", \"iteration\": \"25\", \"goal\": \"accuracy_max\", \"run_name\": \"MaxAbsScaler, LogisticRegression\", \"run_properties\": \"copy=True\", \"primary_metric\": 0.25396825, \"best_metric\": 0.91053391}, {\"run_id\": \"AutoML_b6f10e92-3c93-46bf-be25-0acf0a98a7a5_26\", \"run_number\": 1652801148, \"metric\": null, \"status\": \"Completed\", \"run_type\": \"azureml.scriptrun\", \"training_percent\": \"100\", \"start_time\": \"2022-05-17T15:25:53.357911Z\", \"end_time\": \"2022-05-17T15:27:09.727581Z\", \"created_time\": \"2022-05-17T15:25:48.029225Z\", \"created_time_dt\": \"2022-05-17T15:25:48.029225Z\", \"duration\": \"0:01:21\", \"iteration\": \"26\", \"goal\": \"accuracy_max\", \"run_name\": \"MaxAbsScaler, ExtremeRandomTrees\", \"run_properties\": \"copy=True\", \"primary_metric\": 0.89033189, \"best_metric\": 0.91053391}, {\"run_id\": \"AutoML_b6f10e92-3c93-46bf-be25-0acf0a98a7a5_27\", \"run_number\": 1652801231, \"metric\": null, \"status\": \"Completed\", \"run_type\": \"azureml.scriptrun\", \"training_percent\": \"100\", \"start_time\": \"2022-05-17T15:27:15.990942Z\", \"end_time\": \"2022-05-17T15:28:25.901387Z\", \"created_time\": \"2022-05-17T15:27:11.178091Z\", \"created_time_dt\": \"2022-05-17T15:27:11.178091Z\", \"duration\": \"0:01:14\", \"iteration\": \"27\", \"goal\": \"accuracy_max\", \"run_name\": \"MaxAbsScaler, ExtremeRandomTrees\", \"run_properties\": \"copy=True\", \"primary_metric\": 0.89466089, \"best_metric\": 0.91053391}, {\"run_id\": \"AutoML_b6f10e92-3c93-46bf-be25-0acf0a98a7a5_28\", \"run_number\": 1652801307, \"metric\": null, \"status\": \"Completed\", \"run_type\": \"azureml.scriptrun\", \"training_percent\": \"100\", \"start_time\": \"2022-05-17T15:28:32.751823Z\", \"end_time\": \"2022-05-17T15:29:50.505462Z\", \"created_time\": \"2022-05-17T15:28:27.446783Z\", \"created_time_dt\": \"2022-05-17T15:28:27.446783Z\", \"duration\": \"0:01:23\", \"iteration\": \"28\", \"goal\": \"accuracy_max\", \"run_name\": \"StandardScalerWrapper, ExtremeRandomTrees\", \"run_properties\": \"copy=True, with_mean=False, with_std=True\", \"primary_metric\": 0.89466089, \"best_metric\": 0.91053391}, {\"run_id\": \"AutoML_b6f10e92-3c93-46bf-be25-0acf0a98a7a5_29\", \"run_number\": 1652801392, \"metric\": null, \"status\": \"Completed\", \"run_type\": \"azureml.scriptrun\", \"training_percent\": \"100\", \"start_time\": \"2022-05-17T15:29:57.419083Z\", \"end_time\": \"2022-05-17T15:31:10.935918Z\", \"created_time\": \"2022-05-17T15:29:52.008689Z\", \"created_time_dt\": \"2022-05-17T15:29:52.008689Z\", \"duration\": \"0:01:18\", \"iteration\": \"29\", \"goal\": \"accuracy_max\", \"run_name\": \"MaxAbsScaler, LinearSVM\", \"run_properties\": \"copy=True\", \"primary_metric\": 0.8989899, \"best_metric\": 0.91053391}], \"children_metrics\": {\"categories\": [0], \"series\": {\"norm_macro_recall\": [{\"categories\": [\"0\", \"2\", \"5\", \"8\", \"11\", \"13\", \"16\", \"20\", \"21\", \"22\", \"23\", \"24\", \"25\", \"26\", \"27\", \"28\", \"29\"], \"mode\": \"markers\", \"name\": \"norm_macro_recall\", \"stepped\": false, \"type\": \"scatter\", \"data\": [0.8594338194847778, 0.8594563549499662, 0.8556027904027599, 0.8574413514518473, 0.02152303380627078, 0.853676008129157, 0.8594235120703023, 0.863287384031984, 0.8806857234755013, 0.8459238081043678, 0.8555699475230963, 0.8632648485667956, 0.0, 0.8536431652494931, 0.8594338194847778, 0.8594338194847778, 0.8651916308403987]}, {\"categories\": [\"0\", \"2\", \"5\", \"8\", \"11\", \"13\", \"16\", \"20\", \"21\", \"22\", \"23\", \"24\", \"25\", \"26\", \"27\", \"28\", \"29\"], \"mode\": \"lines\", \"name\": \"norm_macro_recall_max\", \"stepped\": true, \"type\": \"scatter\", \"data\": [0.8594338194847778, 0.8594563549499662, 0.8594563549499662, 0.8594563549499662, 0.8594563549499662, 0.8594563549499662, 0.8594563549499662, 0.863287384031984, 0.8806857234755013, 0.8806857234755013, 0.8806857234755013, 0.8806857234755013, 0.8806857234755013, 0.8806857234755013, 0.8806857234755013, 0.8806857234755013, 0.8806857234755013]}], \"AUC_weighted\": [{\"categories\": [\"0\", \"2\", \"5\", \"8\", \"11\", \"13\", \"16\", \"20\", \"21\", \"22\", \"23\", \"24\", \"25\", \"26\", \"27\", \"28\", \"29\"], \"mode\": \"markers\", \"name\": \"AUC_weighted\", \"stepped\": false, \"type\": \"scatter\", \"data\": [0.9711101806151718, 0.9759188291622871, 0.9726565239248937, 0.9700697115279477, 0.5348737486393392, 0.9721815869104047, 0.9641985531075439, 0.9675533378208517, 0.9873409768471907, 0.9726350657501862, 0.9680199172929115, 0.9804584458000496, 0.5, 0.9714826612273199, 0.9762305946686436, 0.9818455199049476, 0.9750801939134272]}, {\"categories\": [\"0\", \"2\", \"5\", \"8\", \"11\", \"13\", \"16\", \"20\", \"21\", \"22\", \"23\", \"24\", \"25\", \"26\", \"27\", \"28\", \"29\"], \"mode\": \"lines\", \"name\": \"AUC_weighted_max\", \"stepped\": true, \"type\": \"scatter\", \"data\": [0.9711101806151718, 0.9759188291622871, 0.9759188291622871, 0.9759188291622871, 0.9759188291622871, 0.9759188291622871, 0.9759188291622871, 0.9759188291622871, 0.9873409768471907, 0.9873409768471907, 0.9873409768471907, 0.9873409768471907, 0.9873409768471907, 0.9873409768471907, 0.9873409768471907, 0.9873409768471907, 0.9873409768471907]}], \"precision_score_micro\": [{\"categories\": [\"0\", \"2\", \"5\", \"8\", \"11\", \"13\", \"16\", \"20\", \"21\", \"22\", \"23\", \"24\", \"25\", \"26\", \"27\", \"28\", \"29\"], \"mode\": \"markers\", \"name\": \"precision_score_micro\", \"stepped\": false, \"type\": \"scatter\", \"data\": [0.8946608946608947, 0.8946608946608947, 0.8917748917748918, 0.8932178932178932, 0.2698412698412698, 0.8903318903318903, 0.8946608946608947, 0.8975468975468975, 0.9105339105339105, 0.8845598845598845, 0.8917748917748918, 0.8975468975468975, 0.25396825396825395, 0.8903318903318903, 0.8946608946608947, 0.8946608946608947, 0.898989898989899]}, {\"categories\": [\"0\", \"2\", \"5\", \"8\", \"11\", \"13\", \"16\", \"20\", \"21\", \"22\", \"23\", \"24\", \"25\", \"26\", \"27\", \"28\", \"29\"], \"mode\": \"lines\", \"name\": \"precision_score_micro_max\", \"stepped\": true, \"type\": \"scatter\", \"data\": [0.8946608946608947, 0.8946608946608947, 0.8946608946608947, 0.8946608946608947, 0.8946608946608947, 0.8946608946608947, 0.8946608946608947, 0.8975468975468975, 0.9105339105339105, 0.9105339105339105, 0.9105339105339105, 0.9105339105339105, 0.9105339105339105, 0.9105339105339105, 0.9105339105339105, 0.9105339105339105, 0.9105339105339105]}], \"f1_score_weighted\": [{\"categories\": [\"0\", \"2\", \"5\", \"8\", \"11\", \"13\", \"16\", \"20\", \"21\", \"22\", \"23\", \"24\", \"25\", \"26\", \"27\", \"28\", \"29\"], \"mode\": \"markers\", \"name\": \"f1_score_weighted\", \"stepped\": false, \"type\": \"scatter\", \"data\": [0.8948546463728893, 0.8949051872263575, 0.8922311656329923, 0.8938684181197345, 0.15594080414782124, 0.89052334779262, 0.8948657673877327, 0.8977003720269704, 0.9105499723769181, 0.8853978175919274, 0.8920129642801496, 0.8977450858653871, 0.10287321679726742, 0.8906560571694986, 0.8950404617258614, 0.8951234090082083, 0.8993011965463124]}, {\"categories\": [\"0\", \"2\", \"5\", \"8\", \"11\", \"13\", \"16\", \"20\", \"21\", \"22\", \"23\", \"24\", \"25\", \"26\", \"27\", \"28\", \"29\"], \"mode\": \"lines\", \"name\": \"f1_score_weighted_max\", \"stepped\": true, \"type\": \"scatter\", \"data\": [0.8948546463728893, 0.8949051872263575, 0.8949051872263575, 0.8949051872263575, 0.8949051872263575, 0.8949051872263575, 0.8949051872263575, 0.8977003720269704, 0.9105499723769181, 0.9105499723769181, 0.9105499723769181, 0.9105499723769181, 0.9105499723769181, 0.9105499723769181, 0.9105499723769181, 0.9105499723769181, 0.9105499723769181]}], \"f1_score_macro\": [{\"categories\": [\"0\", \"2\", \"5\", \"8\", \"11\", \"13\", \"16\", \"20\", \"21\", \"22\", \"23\", \"24\", \"25\", \"26\", \"27\", \"28\", \"29\"], \"mode\": \"markers\", \"name\": \"f1_score_macro\", \"stepped\": false, \"type\": \"scatter\", \"data\": [0.8949880558638305, 0.8950739368716234, 0.8924446521204381, 0.8940889182330469, 0.15441517115942677, 0.8906903972971185, 0.8950134723757333, 0.8978329207608613, 0.9106686994172369, 0.885652058433206, 0.8921769878294714, 0.8978764191874535, 0.10126582278481013, 0.890838343520951, 0.895218425686561, 0.8953116783029222, 0.899442786034815]}, {\"categories\": [\"0\", \"2\", \"5\", \"8\", \"11\", \"13\", \"16\", \"20\", \"21\", \"22\", \"23\", \"24\", \"25\", \"26\", \"27\", \"28\", \"29\"], \"mode\": \"lines\", \"name\": \"f1_score_macro_max\", \"stepped\": true, \"type\": \"scatter\", \"data\": [0.8949880558638305, 0.8950739368716234, 0.8950739368716234, 0.8950739368716234, 0.8950739368716234, 0.8950739368716234, 0.8950739368716234, 0.8978329207608613, 0.9106686994172369, 0.9106686994172369, 0.9106686994172369, 0.9106686994172369, 0.9106686994172369, 0.9106686994172369, 0.9106686994172369, 0.9106686994172369, 0.9106686994172369]}], \"average_precision_score_weighted\": [{\"categories\": [\"0\", \"2\", \"5\", \"8\", \"11\", \"13\", \"16\", \"20\", \"21\", \"22\", \"23\", \"24\", \"25\", \"26\", \"27\", \"28\", \"29\"], \"mode\": \"markers\", \"name\": \"average_precision_score_weighted\", \"stepped\": false, \"type\": \"scatter\", \"data\": [0.930817134783824, 0.949237862126309, 0.9366606391671529, 0.9338722924000334, 0.26941241363070123, 0.9509356495518742, 0.8934662116946243, 0.9356370524869742, 0.9740244240755899, 0.9334576136070071, 0.9074867877554502, 0.9600901180081796, 0.2500265487278474, 0.9333357568261217, 0.9456409497453322, 0.9564659793632113, 0.9519089109784238]}, {\"categories\": [\"0\", \"2\", \"5\", \"8\", \"11\", \"13\", \"16\", \"20\", \"21\", \"22\", \"23\", \"24\", \"25\", \"26\", \"27\", \"28\", \"29\"], \"mode\": \"lines\", \"name\": \"average_precision_score_weighted_max\", \"stepped\": true, \"type\": \"scatter\", \"data\": [0.930817134783824, 0.949237862126309, 0.949237862126309, 0.949237862126309, 0.949237862126309, 0.9509356495518742, 0.9509356495518742, 0.9509356495518742, 0.9740244240755899, 0.9740244240755899, 0.9740244240755899, 0.9740244240755899, 0.9740244240755899, 0.9740244240755899, 0.9740244240755899, 0.9740244240755899, 0.9740244240755899]}], \"AUC_macro\": [{\"categories\": [\"0\", \"2\", \"5\", \"8\", \"11\", \"13\", \"16\", \"20\", \"21\", \"22\", \"23\", \"24\", \"25\", \"26\", \"27\", \"28\", \"29\"], \"mode\": \"markers\", \"name\": \"AUC_macro\", \"stepped\": false, \"type\": \"scatter\", \"data\": [0.9711467261703118, 0.9759305240554603, 0.9726849871512818, 0.9700544121827318, 0.5349187906794575, 0.9722232494028201, 0.964259070747103, 0.9675620377258228, 0.9873614931891822, 0.9726448916566038, 0.9680980145077339, 0.9804865250335851, 0.5, 0.9715425805130492, 0.9762564892037859, 0.981864306612469, 0.9750763985598289]}, {\"categories\": [\"0\", \"2\", \"5\", \"8\", \"11\", \"13\", \"16\", \"20\", \"21\", \"22\", \"23\", \"24\", \"25\", \"26\", \"27\", \"28\", \"29\"], \"mode\": \"lines\", \"name\": \"AUC_macro_max\", \"stepped\": true, \"type\": \"scatter\", \"data\": [0.9711467261703118, 0.9759305240554603, 0.9759305240554603, 0.9759305240554603, 0.9759305240554603, 0.9759305240554603, 0.9759305240554603, 0.9759305240554603, 0.9873614931891822, 0.9873614931891822, 0.9873614931891822, 0.9873614931891822, 0.9873614931891822, 0.9873614931891822, 0.9873614931891822, 0.9873614931891822, 0.9873614931891822]}], \"AUC_micro\": [{\"categories\": [\"0\", \"2\", \"5\", \"8\", \"11\", \"13\", \"16\", \"20\", \"21\", \"22\", \"23\", \"24\", \"25\", \"26\", \"27\", \"28\", \"29\"], \"mode\": \"markers\", \"name\": \"AUC_micro\", \"stepped\": false, \"type\": \"scatter\", \"data\": [0.9705534698319691, 0.9770254597094423, 0.972303950658929, 0.9699357347264995, 0.5398151098006798, 0.9702452963636223, 0.9626551365368103, 0.9681186217982755, 0.9869116506923146, 0.958089796473635, 0.9688540042075398, 0.9790365692241594, 0.5016835016835016, 0.9695345539501384, 0.9738548822242905, 0.9830091612198394, 0.9747700324900903]}, {\"categories\": [\"0\", \"2\", \"5\", \"8\", \"11\", \"13\", \"16\", \"20\", \"21\", \"22\", \"23\", \"24\", \"25\", \"26\", \"27\", \"28\", \"29\"], \"mode\": \"lines\", \"name\": \"AUC_micro_max\", \"stepped\": true, \"type\": \"scatter\", \"data\": [0.9705534698319691, 0.9770254597094423, 0.9770254597094423, 0.9770254597094423, 0.9770254597094423, 0.9770254597094423, 0.9770254597094423, 0.9770254597094423, 0.9869116506923146, 0.9869116506923146, 0.9869116506923146, 0.9869116506923146, 0.9869116506923146, 0.9869116506923146, 0.9869116506923146, 0.9869116506923146, 0.9869116506923146]}], \"recall_score_weighted\": [{\"categories\": [\"0\", \"2\", \"5\", \"8\", \"11\", \"13\", \"16\", \"20\", \"21\", \"22\", \"23\", \"24\", \"25\", \"26\", \"27\", \"28\", \"29\"], \"mode\": \"markers\", \"name\": \"recall_score_weighted\", \"stepped\": false, \"type\": \"scatter\", \"data\": [0.8946608946608947, 0.8946608946608947, 0.8917748917748918, 0.8932178932178932, 0.2698412698412698, 0.8903318903318903, 0.8946608946608947, 0.8975468975468975, 0.9105339105339105, 0.8845598845598845, 0.8917748917748918, 0.8975468975468975, 0.25396825396825395, 0.8903318903318903, 0.8946608946608947, 0.8946608946608947, 0.898989898989899]}, {\"categories\": [\"0\", \"2\", \"5\", \"8\", \"11\", \"13\", \"16\", \"20\", \"21\", \"22\", \"23\", \"24\", \"25\", \"26\", \"27\", \"28\", \"29\"], \"mode\": \"lines\", \"name\": \"recall_score_weighted_max\", \"stepped\": true, \"type\": \"scatter\", \"data\": [0.8946608946608947, 0.8946608946608947, 0.8946608946608947, 0.8946608946608947, 0.8946608946608947, 0.8946608946608947, 0.8946608946608947, 0.8975468975468975, 0.9105339105339105, 0.9105339105339105, 0.9105339105339105, 0.9105339105339105, 0.9105339105339105, 0.9105339105339105, 0.9105339105339105, 0.9105339105339105, 0.9105339105339105]}], \"balanced_accuracy\": [{\"categories\": [\"0\", \"2\", \"5\", \"8\", \"11\", \"13\", \"16\", \"20\", \"21\", \"22\", \"23\", \"24\", \"25\", \"26\", \"27\", \"28\", \"29\"], \"mode\": \"markers\", \"name\": \"balanced_accuracy\", \"stepped\": false, \"type\": \"scatter\", \"data\": [0.8945753646135833, 0.8945922662124747, 0.8917020928020699, 0.8930810135888855, 0.2661422753547031, 0.8902570060968678, 0.8945676340527268, 0.897465538023988, 0.910514292606626, 0.8844428560782759, 0.8916774606423222, 0.8974486364250968, 0.25, 0.8902323739371198, 0.8945753646135833, 0.8945753646135833, 0.898893723130299]}, {\"categories\": [\"0\", \"2\", \"5\", \"8\", \"11\", \"13\", \"16\", \"20\", \"21\", \"22\", \"23\", \"24\", \"25\", \"26\", \"27\", \"28\", \"29\"], \"mode\": \"lines\", \"name\": \"balanced_accuracy_max\", \"stepped\": true, \"type\": \"scatter\", \"data\": [0.8945753646135833, 0.8945922662124747, 0.8945922662124747, 0.8945922662124747, 0.8945922662124747, 0.8945922662124747, 0.8945922662124747, 0.897465538023988, 0.910514292606626, 0.910514292606626, 0.910514292606626, 0.910514292606626, 0.910514292606626, 0.910514292606626, 0.910514292606626, 0.910514292606626, 0.910514292606626]}], \"recall_score_micro\": [{\"categories\": [\"0\", \"2\", \"5\", \"8\", \"11\", \"13\", \"16\", \"20\", \"21\", \"22\", \"23\", \"24\", \"25\", \"26\", \"27\", \"28\", \"29\"], \"mode\": \"markers\", \"name\": \"recall_score_micro\", \"stepped\": false, \"type\": \"scatter\", \"data\": [0.8946608946608947, 0.8946608946608947, 0.8917748917748918, 0.8932178932178932, 0.2698412698412698, 0.8903318903318903, 0.8946608946608947, 0.8975468975468975, 0.9105339105339105, 0.8845598845598845, 0.8917748917748918, 0.8975468975468975, 0.25396825396825395, 0.8903318903318903, 0.8946608946608947, 0.8946608946608947, 0.898989898989899]}, {\"categories\": [\"0\", \"2\", \"5\", \"8\", \"11\", \"13\", \"16\", \"20\", \"21\", \"22\", \"23\", \"24\", \"25\", \"26\", \"27\", \"28\", \"29\"], \"mode\": \"lines\", \"name\": \"recall_score_micro_max\", \"stepped\": true, \"type\": \"scatter\", \"data\": [0.8946608946608947, 0.8946608946608947, 0.8946608946608947, 0.8946608946608947, 0.8946608946608947, 0.8946608946608947, 0.8946608946608947, 0.8975468975468975, 0.9105339105339105, 0.9105339105339105, 0.9105339105339105, 0.9105339105339105, 0.9105339105339105, 0.9105339105339105, 0.9105339105339105, 0.9105339105339105, 0.9105339105339105]}], \"accuracy\": [{\"categories\": [\"0\", \"2\", \"5\", \"8\", \"11\", \"13\", \"16\", \"20\", \"21\", \"22\", \"23\", \"24\", \"25\", \"26\", \"27\", \"28\", \"29\"], \"mode\": \"markers\", \"name\": \"accuracy\", \"stepped\": false, \"type\": \"scatter\", \"data\": [0.8946608946608947, 0.8946608946608947, 0.8917748917748918, 0.8932178932178932, 0.2698412698412698, 0.8903318903318903, 0.8946608946608947, 0.8975468975468975, 0.9105339105339105, 0.8845598845598845, 0.8917748917748918, 0.8975468975468975, 0.25396825396825395, 0.8903318903318903, 0.8946608946608947, 0.8946608946608947, 0.898989898989899]}, {\"categories\": [\"0\", \"2\", \"5\", \"8\", \"11\", \"13\", \"16\", \"20\", \"21\", \"22\", \"23\", \"24\", \"25\", \"26\", \"27\", \"28\", \"29\"], \"mode\": \"lines\", \"name\": \"accuracy_max\", \"stepped\": true, \"type\": \"scatter\", \"data\": [0.8946608946608947, 0.8946608946608947, 0.8946608946608947, 0.8946608946608947, 0.8946608946608947, 0.8946608946608947, 0.8946608946608947, 0.8975468975468975, 0.9105339105339105, 0.9105339105339105, 0.9105339105339105, 0.9105339105339105, 0.9105339105339105, 0.9105339105339105, 0.9105339105339105, 0.9105339105339105, 0.9105339105339105]}], \"average_precision_score_macro\": [{\"categories\": [\"0\", \"2\", \"5\", \"8\", \"11\", \"13\", \"16\", \"20\", \"21\", \"22\", \"23\", \"24\", \"25\", \"26\", \"27\", \"28\", \"29\"], \"mode\": \"markers\", \"name\": \"average_precision_score_macro\", \"stepped\": false, \"type\": \"scatter\", \"data\": [0.930938402944559, 0.949175359847493, 0.9367307350567641, 0.9337079261817165, 0.2693937625295595, 0.950982435611617, 0.8936429897651921, 0.9356210863703837, 0.9740366373297631, 0.9334567423461807, 0.9076507249449655, 0.9601297356941647, 0.25, 0.9334726571383649, 0.9456793405081754, 0.9563824231815609, 0.9518684851733468]}, {\"categories\": [\"0\", \"2\", \"5\", \"8\", \"11\", \"13\", \"16\", \"20\", \"21\", \"22\", \"23\", \"24\", \"25\", \"26\", \"27\", \"28\", \"29\"], \"mode\": \"lines\", \"name\": \"average_precision_score_macro_max\", \"stepped\": true, \"type\": \"scatter\", \"data\": [0.930938402944559, 0.949175359847493, 0.949175359847493, 0.949175359847493, 0.949175359847493, 0.950982435611617, 0.950982435611617, 0.950982435611617, 0.9740366373297631, 0.9740366373297631, 0.9740366373297631, 0.9740366373297631, 0.9740366373297631, 0.9740366373297631, 0.9740366373297631, 0.9740366373297631, 0.9740366373297631]}], \"precision_score_weighted\": [{\"categories\": [\"0\", \"2\", \"5\", \"8\", \"11\", \"13\", \"16\", \"20\", \"21\", \"22\", \"23\", \"24\", \"25\", \"26\", \"27\", \"28\", \"29\"], \"mode\": \"markers\", \"name\": \"precision_score_weighted\", \"stepped\": false, \"type\": \"scatter\", \"data\": [0.8971974562683823, 0.8975882888457739, 0.8959596244264559, 0.8992882325333819, 0.2886702308226067, 0.89421614824532, 0.8985498952627443, 0.8997773944027527, 0.9116167679086539, 0.8915889790151741, 0.8961439969470639, 0.9000370082183733, 0.06449987402368354, 0.8950962000962001, 0.8982569813310579, 0.8987117675457297, 0.9022078969493519]}, {\"categories\": [\"0\", \"2\", \"5\", \"8\", \"11\", \"13\", \"16\", \"20\", \"21\", \"22\", \"23\", \"24\", \"25\", \"26\", \"27\", \"28\", \"29\"], \"mode\": \"lines\", \"name\": \"precision_score_weighted_max\", \"stepped\": true, \"type\": \"scatter\", \"data\": [0.8971974562683823, 0.8975882888457739, 0.8975882888457739, 0.8992882325333819, 0.8992882325333819, 0.8992882325333819, 0.8992882325333819, 0.8997773944027527, 0.9116167679086539, 0.9116167679086539, 0.9116167679086539, 0.9116167679086539, 0.9116167679086539, 0.9116167679086539, 0.9116167679086539, 0.9116167679086539, 0.9116167679086539]}], \"recall_score_macro\": [{\"categories\": [\"0\", \"2\", \"5\", \"8\", \"11\", \"13\", \"16\", \"20\", \"21\", \"22\", \"23\", \"24\", \"25\", \"26\", \"27\", \"28\", \"29\"], \"mode\": \"markers\", \"name\": \"recall_score_macro\", \"stepped\": false, \"type\": \"scatter\", \"data\": [0.8945753646135833, 0.8945922662124747, 0.8917020928020699, 0.8930810135888855, 0.2661422753547031, 0.8902570060968678, 0.8945676340527268, 0.897465538023988, 0.910514292606626, 0.8844428560782759, 0.8916774606423222, 0.8974486364250968, 0.25, 0.8902323739371198, 0.8945753646135833, 0.8945753646135833, 0.898893723130299]}, {\"categories\": [\"0\", \"2\", \"5\", \"8\", \"11\", \"13\", \"16\", \"20\", \"21\", \"22\", \"23\", \"24\", \"25\", \"26\", \"27\", \"28\", \"29\"], \"mode\": \"lines\", \"name\": \"recall_score_macro_max\", \"stepped\": true, \"type\": \"scatter\", \"data\": [0.8945753646135833, 0.8945922662124747, 0.8945922662124747, 0.8945922662124747, 0.8945922662124747, 0.8945922662124747, 0.8945922662124747, 0.897465538023988, 0.910514292606626, 0.910514292606626, 0.910514292606626, 0.910514292606626, 0.910514292606626, 0.910514292606626, 0.910514292606626, 0.910514292606626, 0.910514292606626]}], \"log_loss\": [{\"categories\": [\"0\", \"2\", \"5\", \"8\", \"11\", \"13\", \"16\", \"20\", \"21\", \"22\", \"23\", \"24\", \"25\", \"26\", \"27\", \"28\", \"29\"], \"mode\": \"markers\", \"name\": \"log_loss\", \"stepped\": false, \"type\": \"scatter\", \"data\": [0.6659777207030962, 0.8446919497424423, 0.43904598508382003, 0.5750408924333532, 1.3829038532794808, 1.4157743256604518, 0.7452880914270381, 1.6318717620810252, 0.6702231011862674, 0.49865948191776943, 0.5622369207623251, 0.40714776232993627, 1.3862889235261069, 0.8179703638370105, 0.5680592999696636, 0.49901899154537344, 0.41468274102090946]}, {\"categories\": [\"0\", \"2\", \"5\", \"8\", \"11\", \"13\", \"16\", \"20\", \"21\", \"22\", \"23\", \"24\", \"25\", \"26\", \"27\", \"28\", \"29\"], \"mode\": \"lines\", \"name\": \"log_loss_min\", \"stepped\": true, \"type\": \"scatter\", \"data\": [0.6659777207030962, 0.6659777207030962, 0.43904598508382003, 0.43904598508382003, 0.43904598508382003, 0.43904598508382003, 0.43904598508382003, 0.43904598508382003, 0.43904598508382003, 0.43904598508382003, 0.43904598508382003, 0.40714776232993627, 0.40714776232993627, 0.40714776232993627, 0.40714776232993627, 0.40714776232993627, 0.40714776232993627]}], \"matthews_correlation\": [{\"categories\": [\"0\", \"2\", \"5\", \"8\", \"11\", \"13\", \"16\", \"20\", \"21\", \"22\", \"23\", \"24\", \"25\", \"26\", \"27\", \"28\", \"29\"], \"mode\": \"markers\", \"name\": \"matthews_correlation\", \"stepped\": false, \"type\": \"scatter\", \"data\": [0.8602245869310658, 0.8603183979443217, 0.8567537363706227, 0.8592066847379635, 0.05202795405589323, 0.8548577776841916, 0.8606150156844387, 0.8639955597721318, 0.881035555487309, 0.8478289787077101, 0.8569020676067997, 0.8640469303632314, 0.0, 0.8550677190658853, 0.86044261017275, 0.8605348802987314, 0.8661214997612539]}, {\"categories\": [\"0\", \"2\", \"5\", \"8\", \"11\", \"13\", \"16\", \"20\", \"21\", \"22\", \"23\", \"24\", \"25\", \"26\", \"27\", \"28\", \"29\"], \"mode\": \"lines\", \"name\": \"matthews_correlation_max\", \"stepped\": true, \"type\": \"scatter\", \"data\": [0.8602245869310658, 0.8603183979443217, 0.8603183979443217, 0.8603183979443217, 0.8603183979443217, 0.8603183979443217, 0.8606150156844387, 0.8639955597721318, 0.881035555487309, 0.881035555487309, 0.881035555487309, 0.881035555487309, 0.881035555487309, 0.881035555487309, 0.881035555487309, 0.881035555487309, 0.881035555487309]}], \"weighted_accuracy\": [{\"categories\": [\"0\", \"2\", \"5\", \"8\", \"11\", \"13\", \"16\", \"20\", \"21\", \"22\", \"23\", \"24\", \"25\", \"26\", \"27\", \"28\", \"29\"], \"mode\": \"markers\", \"name\": \"weighted_accuracy\", \"stepped\": false, \"type\": \"scatter\", \"data\": [0.8947491151363732, 0.8947324588798667, 0.8918509265042681, 0.893358317718093, 0.27357068498854886, 0.890410160316469, 0.8947574432646264, 0.8976306475119717, 0.9105559025608995, 0.8846804080782846, 0.8918759108890277, 0.897647303768478, 0.2579721007703519, 0.8904351447012283, 0.8947491151363732, 0.8947491151363732, 0.8990880699562774]}, {\"categories\": [\"0\", \"2\", \"5\", \"8\", \"11\", \"13\", \"16\", \"20\", \"21\", \"22\", \"23\", \"24\", \"25\", \"26\", \"27\", \"28\", \"29\"], \"mode\": \"lines\", \"name\": \"weighted_accuracy_max\", \"stepped\": true, \"type\": \"scatter\", \"data\": [0.8947491151363732, 0.8947491151363732, 0.8947491151363732, 0.8947491151363732, 0.8947491151363732, 0.8947491151363732, 0.8947574432646264, 0.8976306475119717, 0.9105559025608995, 0.9105559025608995, 0.9105559025608995, 0.9105559025608995, 0.9105559025608995, 0.9105559025608995, 0.9105559025608995, 0.9105559025608995, 0.9105559025608995]}], \"precision_score_macro\": [{\"categories\": [\"0\", \"2\", \"5\", \"8\", \"11\", \"13\", \"16\", \"20\", \"21\", \"22\", \"23\", \"24\", \"25\", \"26\", \"27\", \"28\", \"29\"], \"mode\": \"markers\", \"name\": \"precision_score_macro\", \"stepped\": false, \"type\": \"scatter\", \"data\": [0.8975352044717207, 0.8979786580684784, 0.8964368490757708, 0.899830953887574, 0.2879733701260825, 0.894606279475649, 0.8989218510903134, 0.9001132621291861, 0.9118683457256888, 0.8921786415494041, 0.896549117078778, 0.900388750863832, 0.06349206349206349, 0.8955357142857143, 0.8986822242690008, 0.8991559689271124, 0.9025795347929167]}, {\"categories\": [\"0\", \"2\", \"5\", \"8\", \"11\", \"13\", \"16\", \"20\", \"21\", \"22\", \"23\", \"24\", \"25\", \"26\", \"27\", \"28\", \"29\"], \"mode\": \"lines\", \"name\": \"precision_score_macro_max\", \"stepped\": true, \"type\": \"scatter\", \"data\": [0.8975352044717207, 0.8979786580684784, 0.8979786580684784, 0.899830953887574, 0.899830953887574, 0.899830953887574, 0.899830953887574, 0.9001132621291861, 0.9118683457256888, 0.9118683457256888, 0.9118683457256888, 0.9118683457256888, 0.9118683457256888, 0.9118683457256888, 0.9118683457256888, 0.9118683457256888, 0.9118683457256888]}], \"average_precision_score_micro\": [{\"categories\": [\"0\", \"2\", \"5\", \"8\", \"11\", \"13\", \"16\", \"20\", \"21\", \"22\", \"23\", \"24\", \"25\", \"26\", \"27\", \"28\", \"29\"], \"mode\": \"markers\", \"name\": \"average_precision_score_micro\", \"stepped\": false, \"type\": \"scatter\", \"data\": [0.9261310511372184, 0.952380409250993, 0.9347951228479101, 0.9240842634407747, 0.27860456682903434, 0.946241665760078, 0.8919472764085832, 0.9391301111310701, 0.970540236225402, 0.8985297356570966, 0.9129102442676846, 0.9536165935217271, 0.2511268460041909, 0.9293305993552947, 0.9378155771881862, 0.9612027139894457, 0.9527187267879537]}, {\"categories\": [\"0\", \"2\", \"5\", \"8\", \"11\", \"13\", \"16\", \"20\", \"21\", \"22\", \"23\", \"24\", \"25\", \"26\", \"27\", \"28\", \"29\"], \"mode\": \"lines\", \"name\": \"average_precision_score_micro_max\", \"stepped\": true, \"type\": \"scatter\", \"data\": [0.9261310511372184, 0.952380409250993, 0.952380409250993, 0.952380409250993, 0.952380409250993, 0.952380409250993, 0.952380409250993, 0.952380409250993, 0.970540236225402, 0.970540236225402, 0.970540236225402, 0.970540236225402, 0.970540236225402, 0.970540236225402, 0.970540236225402, 0.970540236225402, 0.970540236225402]}], \"f1_score_micro\": [{\"categories\": [\"0\", \"2\", \"5\", \"8\", \"11\", \"13\", \"16\", \"20\", \"21\", \"22\", \"23\", \"24\", \"25\", \"26\", \"27\", \"28\", \"29\"], \"mode\": \"markers\", \"name\": \"f1_score_micro\", \"stepped\": false, \"type\": \"scatter\", \"data\": [0.8946608946608947, 0.8946608946608947, 0.8917748917748918, 0.8932178932178932, 0.2698412698412698, 0.8903318903318903, 0.8946608946608947, 0.8975468975468975, 0.9105339105339105, 0.8845598845598845, 0.8917748917748918, 0.8975468975468975, 0.25396825396825395, 0.8903318903318903, 0.8946608946608947, 0.8946608946608947, 0.898989898989899]}, {\"categories\": [\"0\", \"2\", \"5\", \"8\", \"11\", \"13\", \"16\", \"20\", \"21\", \"22\", \"23\", \"24\", \"25\", \"26\", \"27\", \"28\", \"29\"], \"mode\": \"lines\", \"name\": \"f1_score_micro_max\", \"stepped\": true, \"type\": \"scatter\", \"data\": [0.8946608946608947, 0.8946608946608947, 0.8946608946608947, 0.8946608946608947, 0.8946608946608947, 0.8946608946608947, 0.8946608946608947, 0.8975468975468975, 0.9105339105339105, 0.9105339105339105, 0.9105339105339105, 0.9105339105339105, 0.9105339105339105, 0.9105339105339105, 0.9105339105339105, 0.9105339105339105, 0.9105339105339105]}]}, \"metricName\": null, \"primaryMetricName\": \"accuracy\", \"showLegend\": false}, \"run_metrics\": [{\"name\": \"experiment_status\", \"run_id\": \"AutoML_b6f10e92-3c93-46bf-be25-0acf0a98a7a5\", \"categories\": [0, 1, 2, 3, 4, 5, 6, 7, 8, 9, 10, 11, 12, 13, 14], \"series\": [{\"data\": [\"DatasetEvaluation\", \"FeaturesGeneration\", \"TextDNNTraining\", \"TextDNNTrainingCompleted\", \"DatasetFeaturization\", \"DatasetFeaturizationCompleted\", \"ModelSelection\", \"BestRunExplainModel\", \"ModelExplanationDataSetSetup\", \"PickSurrogateModel\", \"EngineeredFeatureExplanations\", \"EngineeredFeatureExplanations\", \"RawFeaturesExplanations\", \"RawFeaturesExplanations\", \"BestRunExplainModel\"]}]}, {\"name\": \"experiment_status_description\", \"run_id\": \"AutoML_b6f10e92-3c93-46bf-be25-0acf0a98a7a5\", \"categories\": [0, 1, 2, 3, 4, 5, 6, 7, 8, 9, 10, 11, 12, 13, 14], \"series\": [{\"data\": [\"Gathering dataset statistics.\", \"Generating features for the dataset.\", \"Training a deep learning text model, this may take a while.\", \"Completed training a deep learning text model.\", \"Beginning to fit featurizers and featurize the dataset.\", \"Completed fit featurizers and featurizing the dataset.\", \"Beginning model selection.\", \"Best run model explanations started\", \"Model explanations data setup completed\", \"Choosing LightGBM as the surrogate model for explanations\", \"Computation of engineered features started\", \"Computation of engineered features completed\", \"Computation of raw features started\", \"Computation of raw features completed\", \"Best run model explanations completed\"]}]}, {\"name\": \"TextDNNTrainingProgress\", \"run_id\": \"AutoML_b6f10e92-3c93-46bf-be25-0acf0a98a7a5\", \"categories\": [0, 1, 2, 3, 4, 5, 6, 7, 8, 9, 10, 11, 12, 13, 14, 15, 16, 17, 18, 19, 20, 21, 22, 23, 24, 25, 26, 27, 28, 29, 30, 31, 32, 33, 34, 35, 36, 37, 38, 39, 40, 41, 42, 43, 44, 45, 46, 47, 48, 49, 50, 51, 52, 53, 54, 55, 56, 57, 58, 59, 60, 61, 62, 63, 64, 65, 66, 67, 68, 69, 70, 71, 72, 73, 74, 75, 76, 77, 78, 79, 80, 81, 82, 83, 84, 85, 86, 87, 88, 89, 90, 91, 92, 93, 94, 95, 96, 97, 98, 99, 100, 101, 102, 103, 104, 105, 106, 107, 108, 109, 110, 111, 112, 113, 114, 115, 116, 117, 118, 119, 120, 121, 122, 123, 124, 125, 126, 127], \"series\": [{\"data\": [0.39215686274509803, 1.1764705882352942, 1.9607843137254901, 2.7450980392156863, 3.5294117647058822, 4.313725490196078, 5.098039215686274, 5.88235294117647, 6.666666666666667, 7.450980392156863, 8.235294117647058, 9.019607843137255, 9.803921568627452, 10.588235294117647, 11.372549019607844, 12.156862745098039, 12.941176470588237, 13.725490196078432, 14.50980392156863, 15.294117647058824, 16.07843137254902, 16.862745098039216, 17.647058823529413, 18.43137254901961, 19.215686274509807, 20.0, 20.784313725490197, 21.568627450980394, 22.35294117647059, 23.137254901960784, 23.92156862745098, 24.705882352941178, 25.49019607843137, 26.27450980392157, 27.058823529411764, 27.84313725490196, 28.627450980392155, 29.411764705882355, 30.19607843137255, 30.980392156862745, 31.76470588235294, 32.549019607843135, 33.33333333333333, 34.11764705882353, 34.90196078431372, 35.68627450980392, 36.470588235294116, 37.254901960784316, 38.03921568627451, 38.82352941176471, 39.6078431372549, 40.3921568627451, 41.17647058823529, 41.96078431372549, 42.745098039215684, 43.529411764705884, 44.31372549019608, 45.09803921568628, 45.88235294117647, 46.666666666666664, 47.45098039215686, 48.23529411764706, 49.01960784313725, 49.80392156862745, 50.588235294117645, 51.37254901960784, 52.156862745098046, 52.94117647058824, 53.72549019607843, 54.509803921568626, 55.294117647058826, 56.07843137254902, 56.86274509803921, 57.647058823529406, 58.43137254901961, 59.21568627450981, 60.0, 60.78431372549019, 61.568627450980394, 62.35294117647059, 63.13725490196078, 63.921568627450974, 64.70588235294117, 65.49019607843137, 66.27450980392156, 67.05882352941175, 67.84313725490196, 68.62745098039215, 69.41176470588235, 70.19607843137254, 70.98039215686275, 71.76470588235294, 72.54901960784314, 73.33333333333333, 74.11764705882354, 74.90196078431373, 75.68627450980392, 76.47058823529412, 77.25490196078432, 78.03921568627452, 78.82352941176471, 79.6078431372549, 80.3921568627451, 81.17647058823529, 81.96078431372548, 82.74509803921568, 83.52941176470588, 84.31372549019608, 85.09803921568627, 85.88235294117646, 86.66666666666667, 87.45098039215686, 88.23529411764706, 89.01960784313725, 89.80392156862746, 90.58823529411765, 91.37254901960785, 92.15686274509804, 92.94117647058823, 93.72549019607843, 94.50980392156862, 95.29411764705881, 96.07843137254902, 96.86274509803921, 97.6470588235294, 98.4313725490196, 99.2156862745098, 100.0]}]}, {\"name\": \"log_loss\", \"run_id\": \"AutoML_b6f10e92-3c93-46bf-be25-0acf0a98a7a5\", \"categories\": [0], \"series\": [{\"data\": [0.33207130146620606]}]}, {\"name\": \"precision_score_macro\", \"run_id\": \"AutoML_b6f10e92-3c93-46bf-be25-0acf0a98a7a5\", \"categories\": [0], \"series\": [{\"data\": [0.9138110441795835]}]}, {\"name\": \"weighted_accuracy\", \"run_id\": \"AutoML_b6f10e92-3c93-46bf-be25-0acf0a98a7a5\", \"categories\": [0], \"series\": [{\"data\": [0.911963356235686]}]}, {\"name\": \"average_precision_score_micro\", \"run_id\": \"AutoML_b6f10e92-3c93-46bf-be25-0acf0a98a7a5\", \"categories\": [0], \"series\": [{\"data\": [0.9727225238139446]}]}, {\"name\": \"precision_score_weighted\", \"run_id\": \"AutoML_b6f10e92-3c93-46bf-be25-0acf0a98a7a5\", \"categories\": [0], \"series\": [{\"data\": [0.9135725933125153]}]}, {\"name\": \"average_precision_score_macro\", \"run_id\": \"AutoML_b6f10e92-3c93-46bf-be25-0acf0a98a7a5\", \"categories\": [0], \"series\": [{\"data\": [0.9781264216124532]}]}, {\"name\": \"recall_score_weighted\", \"run_id\": \"AutoML_b6f10e92-3c93-46bf-be25-0acf0a98a7a5\", \"categories\": [0], \"series\": [{\"data\": [0.911976911976912]}]}, {\"name\": \"recall_score_micro\", \"run_id\": \"AutoML_b6f10e92-3c93-46bf-be25-0acf0a98a7a5\", \"categories\": [0], \"series\": [{\"data\": [0.911976911976912]}]}, {\"name\": \"average_precision_score_weighted\", \"run_id\": \"AutoML_b6f10e92-3c93-46bf-be25-0acf0a98a7a5\", \"categories\": [0], \"series\": [{\"data\": [0.9781013724217199]}]}, {\"name\": \"f1_score_micro\", \"run_id\": \"AutoML_b6f10e92-3c93-46bf-be25-0acf0a98a7a5\", \"categories\": [0], \"series\": [{\"data\": [0.911976911976912]}]}, {\"name\": \"recall_score_macro\", \"run_id\": \"AutoML_b6f10e92-3c93-46bf-be25-0acf0a98a7a5\", \"categories\": [0], \"series\": [{\"data\": [0.9119931825096108]}]}, {\"name\": \"balanced_accuracy\", \"run_id\": \"AutoML_b6f10e92-3c93-46bf-be25-0acf0a98a7a5\", \"categories\": [0], \"series\": [{\"data\": [0.9119931825096108]}]}, {\"name\": \"accuracy\", \"run_id\": \"AutoML_b6f10e92-3c93-46bf-be25-0acf0a98a7a5\", \"categories\": [0], \"series\": [{\"data\": [0.911976911976912]}]}, {\"name\": \"AUC_micro\", \"run_id\": \"AutoML_b6f10e92-3c93-46bf-be25-0acf0a98a7a5\", \"categories\": [0], \"series\": [{\"data\": [0.9892722316964742]}]}, {\"name\": \"AUC_macro\", \"run_id\": \"AutoML_b6f10e92-3c93-46bf-be25-0acf0a98a7a5\", \"categories\": [0], \"series\": [{\"data\": [0.990502247313302]}]}, {\"name\": \"f1_score_weighted\", \"run_id\": \"AutoML_b6f10e92-3c93-46bf-be25-0acf0a98a7a5\", \"categories\": [0], \"series\": [{\"data\": [0.9119787576341757]}]}, {\"name\": \"f1_score_macro\", \"run_id\": \"AutoML_b6f10e92-3c93-46bf-be25-0acf0a98a7a5\", \"categories\": [0], \"series\": [{\"data\": [0.9121101005907822]}]}, {\"name\": \"AUC_weighted\", \"run_id\": \"AutoML_b6f10e92-3c93-46bf-be25-0acf0a98a7a5\", \"categories\": [0], \"series\": [{\"data\": [0.9904849529468795]}]}, {\"name\": \"matthews_correlation\", \"run_id\": \"AutoML_b6f10e92-3c93-46bf-be25-0acf0a98a7a5\", \"categories\": [0], \"series\": [{\"data\": [0.8831438245890593]}]}, {\"name\": \"norm_macro_recall\", \"run_id\": \"AutoML_b6f10e92-3c93-46bf-be25-0acf0a98a7a5\", \"categories\": [0], \"series\": [{\"data\": [0.8826575766794811]}]}, {\"name\": \"precision_score_micro\", \"run_id\": \"AutoML_b6f10e92-3c93-46bf-be25-0acf0a98a7a5\", \"categories\": [0], \"series\": [{\"data\": [0.911976911976912]}]}], \"run_logs\": \"\\nRun is completed.\", \"graph\": {}, \"widget_settings\": {\"childWidgetDisplay\": \"popup\", \"send_telemetry\": false, \"log_level\": \"INFO\", \"sdk_version\": \"1.40.0\"}, \"loading\": false}"
     },
     "metadata": {},
     "output_type": "display_data"
    }
   ],
   "source": [
    "RunDetails(automl_run).show()"
   ]
  },
  {
   "cell_type": "markdown",
   "metadata": {},
   "source": [
    "## Best Model\n",
    "\n",
    "Get the best model from the automl experiments and display all the properties of the model.\n"
   ]
  },
  {
   "cell_type": "code",
   "execution_count": 15,
   "metadata": {},
   "outputs": [
    {
     "name": "stdout",
     "output_type": "stream",
     "text": [
      "Run(Experiment: automl-classification-text-dnn,\n",
      "Id: AutoML_b6f10e92-3c93-46bf-be25-0acf0a98a7a5_10,\n",
      "Type: None,\n",
      "Status: Completed)\n"
     ]
    }
   ],
   "source": [
    "best_run, fitted_model = automl_run.get_output()\n",
    "print(best_run)"
   ]
  },
  {
   "cell_type": "code",
   "execution_count": 16,
   "metadata": {},
   "outputs": [
    {
     "name": "stdout",
     "output_type": "stream",
     "text": [
      "Pipeline(steps=[('datatransformer',\n",
      "                 DataTransformer(enable_feature_sweeping=True, working_dir='/mnt/batch/tasks/shared/LS_root/mounts/clusters/lyasolis1/code/Users/lyasolis/starter_file')),\n",
      "                ('StandardScalerWrapper',\n",
      "                 StandardScalerWrapper(copy=True, with_mean=False, with_std=True)),\n",
      "                ('LogisticRegression',\n",
      "                 LogisticRegression(C=24.420530945486497,\n",
      "                                    multi_class='multinomial', n_jobs=-1))])\n"
     ]
    }
   ],
   "source": [
    "print(fitted_model)"
   ]
  },
  {
   "cell_type": "code",
   "execution_count": 17,
   "metadata": {
    "gather": {
     "logged": 1652560466744
    },
    "jupyter": {
     "outputs_hidden": false,
     "source_hidden": false
    },
    "nteract": {
     "transient": {
      "deleting": false
     }
    }
   },
   "outputs": [
    {
     "data": {
      "text/plain": [
       "[['StringCast-CharGramTfIdf',\n",
       "  'StringCast-WordGramTfIdf',\n",
       "  'StringCast-StringConcatTransformer-PretrainedTextDNNTransformer']]"
      ]
     },
     "execution_count": 17,
     "metadata": {},
     "output_type": "execute_result"
    }
   ],
   "source": [
    "# Retrieve the best Run object\n",
    "best_run = automl_run.get_best_child()\n",
    "# Download the featurization summary JSON file locally\n",
    "best_run.download_file(\n",
    "    \"outputs/featurization_summary.json\", \"featurization_summary.json\"\n",
    ")\n",
    "\n",
    "# Render the JSON as a pandas DataFrame\n",
    "with open(\"featurization_summary.json\", \"r\") as f:\n",
    "    records = json.load(f)\n",
    "\n",
    "featurization_summary = pd.DataFrame.from_records(records)\n",
    "featurization_summary[\"Transformations\"].tolist()\n"
   ]
  },
  {
   "cell_type": "code",
   "execution_count": 18,
   "metadata": {
    "gather": {
     "logged": 1598431426111
    },
    "jupyter": {
     "outputs_hidden": false,
     "source_hidden": false
    },
    "nteract": {
     "transient": {
      "deleting": false
     }
    }
   },
   "outputs": [],
   "source": [
    "#Save the best model\n",
    "summary_df = get_result_df(automl_run)\n",
    "best_dnn_run_id = summary_df[\"run_id\"].iloc[0]\n",
    "best_dnn_run = Run(experiment, best_dnn_run_id)"
   ]
  },
  {
   "cell_type": "code",
   "execution_count": 19,
   "metadata": {
    "jupyter": {
     "outputs_hidden": false,
     "source_hidden": false
    },
    "nteract": {
     "transient": {
      "deleting": false
     }
    }
   },
   "outputs": [],
   "source": [
    "model_dir = \"Model\"  # Local folder where the model will be stored temporarily\n",
    "if not os.path.isdir(model_dir):\n",
    "    os.mkdir(model_dir)\n",
    "\n",
    "best_dnn_run.download_file(\"outputs/model.pkl\", model_dir + \"/model.pkl\")\n"
   ]
  },
  {
   "cell_type": "code",
   "execution_count": 20,
   "metadata": {
    "jupyter": {
     "outputs_hidden": false,
     "source_hidden": false
    },
    "nteract": {
     "transient": {
      "deleting": false
     }
    }
   },
   "outputs": [
    {
     "data": {
      "text/html": [
       "<div>\n",
       "<style scoped>\n",
       "    .dataframe tbody tr th:only-of-type {\n",
       "        vertical-align: middle;\n",
       "    }\n",
       "\n",
       "    .dataframe tbody tr th {\n",
       "        vertical-align: top;\n",
       "    }\n",
       "\n",
       "    .dataframe thead th {\n",
       "        text-align: right;\n",
       "    }\n",
       "</style>\n",
       "<table border=\"1\" class=\"dataframe\">\n",
       "  <thead>\n",
       "    <tr style=\"text-align: right;\">\n",
       "      <th></th>\n",
       "      <th>run_id</th>\n",
       "      <th>primary_metric</th>\n",
       "      <th>Score</th>\n",
       "    </tr>\n",
       "    <tr>\n",
       "      <th>run_algorithm</th>\n",
       "      <th></th>\n",
       "      <th></th>\n",
       "      <th></th>\n",
       "    </tr>\n",
       "  </thead>\n",
       "  <tbody>\n",
       "    <tr>\n",
       "      <th>LogisticRegression</th>\n",
       "      <td>AutoML_b6f10e92-3c93-46bf-be25-0acf0a98a7a5_10</td>\n",
       "      <td>accuracy</td>\n",
       "      <td>0.91</td>\n",
       "    </tr>\n",
       "    <tr>\n",
       "      <th>LinearSVM</th>\n",
       "      <td>AutoML_b6f10e92-3c93-46bf-be25-0acf0a98a7a5_29</td>\n",
       "      <td>accuracy</td>\n",
       "      <td>0.90</td>\n",
       "    </tr>\n",
       "    <tr>\n",
       "      <th>SGD</th>\n",
       "      <td>AutoML_b6f10e92-3c93-46bf-be25-0acf0a98a7a5_20</td>\n",
       "      <td>accuracy</td>\n",
       "      <td>0.90</td>\n",
       "    </tr>\n",
       "    <tr>\n",
       "      <th>RandomForest</th>\n",
       "      <td>AutoML_b6f10e92-3c93-46bf-be25-0acf0a98a7a5_19</td>\n",
       "      <td>accuracy</td>\n",
       "      <td>0.89</td>\n",
       "    </tr>\n",
       "    <tr>\n",
       "      <th>ExtremeRandomTrees</th>\n",
       "      <td>AutoML_b6f10e92-3c93-46bf-be25-0acf0a98a7a5_16</td>\n",
       "      <td>accuracy</td>\n",
       "      <td>0.89</td>\n",
       "    </tr>\n",
       "  </tbody>\n",
       "</table>\n",
       "</div>"
      ],
      "text/plain": [
       "                                                            run_id  \\\n",
       "run_algorithm                                                        \n",
       "LogisticRegression  AutoML_b6f10e92-3c93-46bf-be25-0acf0a98a7a5_10   \n",
       "LinearSVM           AutoML_b6f10e92-3c93-46bf-be25-0acf0a98a7a5_29   \n",
       "SGD                 AutoML_b6f10e92-3c93-46bf-be25-0acf0a98a7a5_20   \n",
       "RandomForest        AutoML_b6f10e92-3c93-46bf-be25-0acf0a98a7a5_19   \n",
       "ExtremeRandomTrees  AutoML_b6f10e92-3c93-46bf-be25-0acf0a98a7a5_16   \n",
       "\n",
       "                   primary_metric Score  \n",
       "run_algorithm                            \n",
       "LogisticRegression       accuracy  0.91  \n",
       "LinearSVM                accuracy  0.90  \n",
       "SGD                      accuracy  0.90  \n",
       "RandomForest             accuracy  0.89  \n",
       "ExtremeRandomTrees       accuracy  0.89  "
      ]
     },
     "execution_count": 20,
     "metadata": {},
     "output_type": "execute_result"
    }
   ],
   "source": [
    "summary_df"
   ]
  },
  {
   "cell_type": "code",
   "execution_count": 21,
   "metadata": {},
   "outputs": [
    {
     "data": {
      "text/plain": [
       "'AutoML_b6f10e92-3c93-46bf-be25-0acf0a98a7a5_10'"
      ]
     },
     "execution_count": 21,
     "metadata": {},
     "output_type": "execute_result"
    }
   ],
   "source": [
    "best_dnn_run_id"
   ]
  },
  {
   "cell_type": "markdown",
   "metadata": {},
   "source": [
    "## Model Deployment\n",
    "\n",
    "Deploy the model. \n",
    "Register the model, create an inference config and deploy the model as a web service."
   ]
  },
  {
   "cell_type": "code",
   "execution_count": 21,
   "metadata": {},
   "outputs": [
    {
     "name": "stdout",
     "output_type": "stream",
     "text": [
      "Registering model textDNN-20News\n"
     ]
    }
   ],
   "source": [
    "# Register the model\n",
    "model_name = \"textDNN-20News\"\n",
    "model = Model.register(\n",
    "    model_path=model_dir + \"/model.pkl\", model_name=model_name, tags=None, workspace=ws\n",
    ")"
   ]
  },
  {
   "cell_type": "code",
   "execution_count": 22,
   "metadata": {},
   "outputs": [],
   "source": [
    "# Set with the deployment name\n",
    "name = \"text-classification-model\"\n",
    "\n",
    "# load existing web service\n",
    "service = Webservice(name=name, workspace=ws)"
   ]
  },
  {
   "cell_type": "code",
   "execution_count": 23,
   "metadata": {},
   "outputs": [],
   "source": [
    "# enable application insight\n",
    "service.update(enable_app_insights=True)\n"
   ]
  },
  {
   "cell_type": "code",
   "execution_count": 24,
   "metadata": {},
   "outputs": [
    {
     "name": "stdout",
     "output_type": "stream",
     "text": [
      "2022-05-16T07:53:22,174378700+00:00 - rsyslog/run \n",
      "2022-05-16T07:53:22,199131600+00:00 - gunicorn/run \n",
      "2022-05-16T07:53:22,203196600+00:00 - iot-server/run \n",
      "2022-05-16T07:53:22,399399500+00:00 - nginx/run \n",
      "EdgeHubConnectionString and IOTEDGE_IOTHUBHOSTNAME are not set. Exiting...\n",
      "2022-05-16T07:53:22,874160400+00:00 - iot-server/finish 1 0\n",
      "2022-05-16T07:53:22,876841000+00:00 - Exit code 1 is normal. Not restarting iot-server.\n",
      "Starting gunicorn 20.1.0\n",
      "Listening at: http://127.0.0.1:31311 (74)\n",
      "Using worker: sync\n",
      "worker timeout is set to 300\n",
      "Booting worker with pid: 102\n",
      "SPARK_HOME not set. Skipping PySpark Initialization.\n",
      "Initializing logger\n",
      "2022-05-16 07:53:24,648 | root | INFO | Starting up app insights client\n",
      "2022-05-16 07:53:24,649 | root | INFO | Starting up request id generator\n",
      "2022-05-16 07:53:24,650 | root | INFO | Starting up app insight hooks\n",
      "2022-05-16 07:53:24,650 | root | INFO | Invoking user's init function\n",
      "Better speed can be achieved with apex installed from https://www.github.com/nvidia/apex .\n",
      "Better speed can be achieved with apex installed from https://www.github.com/nvidia/apex .\n",
      "2022-05-16 07:53:44,942 | root | INFO | Users's init has completed successfully\n",
      "2022-05-16 07:53:44,945 | root | INFO | Skipping middleware: dbg_model_info as it's not enabled.\n",
      "2022-05-16 07:53:44,945 | root | INFO | Skipping middleware: dbg_resource_usage as it's not enabled.\n",
      "2022-05-16 07:53:44,947 | root | INFO | Scoring timeout is found from os.environ: 60000 ms\n",
      "2022-05-16 07:53:44,965 | root | INFO | 200\n",
      "127.0.0.1 - - [16/May/2022:07:53:44 +0000] \"GET /swagger.json HTTP/1.0\" 200 2435 \"-\" \"Go-http-client/1.1\"\n",
      "2022-05-16 07:54:48,131 | root | INFO | 200\n",
      "127.0.0.1 - - [16/May/2022:07:54:48 +0000] \"GET /swagger.json HTTP/1.0\" 200 2435 \"-\" \"Go-http-client/1.1\"\n",
      "2022-05-16 07:54:54,560 | root | INFO | 200\n",
      "127.0.0.1 - - [16/May/2022:07:54:54 +0000] \"GET /swagger.json HTTP/1.0\" 200 2435 \"-\" \"Go-http-client/1.1\"\n",
      "\n"
     ]
    }
   ],
   "source": [
    "logs = service.get_logs()\n",
    "\n",
    "for line in logs.split('\\n'):\n",
    "    print(line)"
   ]
  },
  {
   "cell_type": "code",
   "execution_count": 34,
   "metadata": {
    "jupyter": {
     "outputs_hidden": false,
     "source_hidden": false
    },
    "nteract": {
     "transient": {
      "deleting": false
     }
    }
   },
   "outputs": [
    {
     "data": {
      "text/html": [
       "<div>\n",
       "<style scoped>\n",
       "    .dataframe tbody tr th:only-of-type {\n",
       "        vertical-align: middle;\n",
       "    }\n",
       "\n",
       "    .dataframe tbody tr th {\n",
       "        vertical-align: top;\n",
       "    }\n",
       "\n",
       "    .dataframe thead th {\n",
       "        text-align: right;\n",
       "    }\n",
       "</style>\n",
       "<table border=\"1\" class=\"dataframe\">\n",
       "  <thead>\n",
       "    <tr style=\"text-align: right;\">\n",
       "      <th></th>\n",
       "      <th>X</th>\n",
       "      <th>y</th>\n",
       "    </tr>\n",
       "  </thead>\n",
       "  <tbody>\n",
       "    <tr>\n",
       "      <th>0</th>\n",
       "      <td>I commend everybody to look at the FTP site 'ftp.cicb.fr' -&gt; Ethernet address 129.20.128.2 &lt;- in the directory /pub/Images/ASTRO: there are lots of images (all of kinds in astronomy subject) especially in GIF format and a NEW ! directory of some JPL animations  For your comfort, README files in all subdirectories give size and description of each image, and a 7 days' newer images' list is in READMENEW  Note: you can connect it as 'anonymous' or 'ftp' user, then the quota       for each is 8 users connected in the same time.       So, if the server responds you \"connection refused\", be patient !  2nd note: this site is reachable by Gopher at 'roland.cicb.fr'           -&gt; Ethernet address 129.20.128.27 &lt;-           in 'Divers serveurs Ftp/Le serveur ftp du CRI-CICB/Images/ASTRO'  If you have any comments, suggestions, problems, then you can contact me at E-mail 'rousself@univ-rennes1.fr'</td>\n",
       "      <td>3</td>\n",
       "    </tr>\n",
       "    <tr>\n",
       "      <th>1</th>\n",
       "      <td>why?</td>\n",
       "      <td>1</td>\n",
       "    </tr>\n",
       "    <tr>\n",
       "      <th>2</th>\n",
       "      <td>Wood played most of his junior career in Seattle.  He was one of the leading scorers on a mediocre team when he was traded away in 1992.  He rarely lost a fight and was one of the toughest players in the WHL.  However, I was extremely surprised when he was drafted, especially in the third round.  He certainly didn't look like NHL material...</td>\n",
       "      <td>2</td>\n",
       "    </tr>\n",
       "    <tr>\n",
       "      <th>3</th>\n",
       "      <td>There would be some point to doing long-term monitoring of things like particles and fields, not to mention atmospheric phenomena.  However, there is no particular plan to establish any sort of monitoring network. To be precise, there is no particular plan, period.  This is a large part of the problem.  In this context, it's not surprising that unexciting but useful missions like this get short shrift at budget time.  The closest approach to any sort of long-term planetary monitoring mission is the occasional chance to piggyback something like this on top of a flashier mission like Galileo or Cassini.   It is most unlikely that there is much happening on Pluto that would be worth monitoring, and it is a prohibitively difficult mission to fly without new propulsion technology (something the planetary community has firmly resisted being the guinea pigs for).  The combined need to arrive at Pluto within a reasonable amount of time, and then kill nearly all of the cruise velocity to settle into an orbit, is beyond what can reasonably be done with current (that is, 1950s-vintage) propulsion.   Most of this can be done just about as well from Earth.  The few things that can't be, can be done better from a Voyager-like spacecraft that is *not* constrained by the need to enter orbit around a planet.</td>\n",
       "      <td>3</td>\n",
       "    </tr>\n",
       "    <tr>\n",
       "      <th>4</th>\n",
       "      <td>I'm sure all of you have heard of the extraordiary start by  rookie J.T. Snow of the California Angeles.  Other than the fact that his father was a star receiver with the L.A. Rams and is now a radio personality in Los Angeles and J.T. came from the Yankees organization I don't know much about J.T.  If anyone has info and background on  the young fenom....please post.  By the way, for those of you not following his exploits he has hit four home runs in three days.  Two last night.  He has also delivered the winning hit a couple of times for the Angeles in this young season.  Thanks...</td>\n",
       "      <td>1</td>\n",
       "    </tr>\n",
       "  </tbody>\n",
       "</table>\n",
       "</div>"
      ],
      "text/plain": [
       "                                                                                                                                                                                                                                                                                                                                                                                                                                                                                                                                                                                                                                                                                                                                                                                                                                                                                                                                                                                                                                                                                                                                                                                                                                                                                                                                                                  X  \\\n",
       "0                                                                                                                                                                                                                                                                                                                                                                                                                                I commend everybody to look at the FTP site 'ftp.cicb.fr' -> Ethernet address 129.20.128.2 <- in the directory /pub/Images/ASTRO: there are lots of images (all of kinds in astronomy subject) especially in GIF format and a NEW ! directory of some JPL animations  For your comfort, README files in all subdirectories give size and description of each image, and a 7 days' newer images' list is in READMENEW  Note: you can connect it as 'anonymous' or 'ftp' user, then the quota       for each is 8 users connected in the same time.       So, if the server responds you \"connection refused\", be patient !  2nd note: this site is reachable by Gopher at 'roland.cicb.fr'           -> Ethernet address 129.20.128.27 <-           in 'Divers serveurs Ftp/Le serveur ftp du CRI-CICB/Images/ASTRO'  If you have any comments, suggestions, problems, then you can contact me at E-mail 'rousself@univ-rennes1.fr'   \n",
       "1                                                                                                                                                                                                                                                                                                                                                                                                                                                                                                                                                                                                                                                                                                                                                                                                                                                                                                                                                                                                                                                                                                                                                                                                                                                                                                                                                              why?   \n",
       "2                                                                                                                                                                                                                                                                                                                                                                                                                                                                                                                                                                                                                                                                                                                                                                                                                                                                                                                                                                                                           Wood played most of his junior career in Seattle.  He was one of the leading scorers on a mediocre team when he was traded away in 1992.  He rarely lost a fight and was one of the toughest players in the WHL.  However, I was extremely surprised when he was drafted, especially in the third round.  He certainly didn't look like NHL material...   \n",
       "3  There would be some point to doing long-term monitoring of things like particles and fields, not to mention atmospheric phenomena.  However, there is no particular plan to establish any sort of monitoring network. To be precise, there is no particular plan, period.  This is a large part of the problem.  In this context, it's not surprising that unexciting but useful missions like this get short shrift at budget time.  The closest approach to any sort of long-term planetary monitoring mission is the occasional chance to piggyback something like this on top of a flashier mission like Galileo or Cassini.   It is most unlikely that there is much happening on Pluto that would be worth monitoring, and it is a prohibitively difficult mission to fly without new propulsion technology (something the planetary community has firmly resisted being the guinea pigs for).  The combined need to arrive at Pluto within a reasonable amount of time, and then kill nearly all of the cruise velocity to settle into an orbit, is beyond what can reasonably be done with current (that is, 1950s-vintage) propulsion.   Most of this can be done just about as well from Earth.  The few things that can't be, can be done better from a Voyager-like spacecraft that is *not* constrained by the need to enter orbit around a planet.   \n",
       "4                                                                                                                                                                                                                                                                                                                                                                                                                                                                                                                                                                                                                                                                                                                                                   I'm sure all of you have heard of the extraordiary start by  rookie J.T. Snow of the California Angeles.  Other than the fact that his father was a star receiver with the L.A. Rams and is now a radio personality in Los Angeles and J.T. came from the Yankees organization I don't know much about J.T.  If anyone has info and background on  the young fenom....please post.  By the way, for those of you not following his exploits he has hit four home runs in three days.  Two last night.  He has also delivered the winning hit a couple of times for the Angeles in this young season.  Thanks...   \n",
       "\n",
       "   y  \n",
       "0  3  \n",
       "1  1  \n",
       "2  2  \n",
       "3  3  \n",
       "4  1  "
      ]
     },
     "execution_count": 34,
     "metadata": {},
     "output_type": "execute_result"
    }
   ],
   "source": [
    "# Print examples from test set to test endpoint\n",
    "test_dataset = Dataset.Tabular.from_delimited_files(\n",
    "    path=[(datastore, blobstore_datadir + \"/test_data.csv\")]\n",
    ")\n",
    "\n",
    "# preview the first 5 rows of the dataset\n",
    "test_dataset.take(5).to_pandas_dataframe()"
   ]
  },
  {
   "cell_type": "markdown",
   "metadata": {
    "collapsed": true,
    "gather": {
     "logged": 1598431657736
    },
    "jupyter": {
     "outputs_hidden": false,
     "source_hidden": false
    },
    "nteract": {
     "transient": {
      "deleting": false
     }
    }
   },
   "source": [
    "Send a request to the web service to test it."
   ]
  },
  {
   "cell_type": "code",
   "execution_count": 29,
   "metadata": {
    "gather": {
     "logged": 1598432707604
    },
    "jupyter": {
     "outputs_hidden": false,
     "source_hidden": false
    },
    "nteract": {
     "transient": {
      "deleting": false
     }
    }
   },
   "outputs": [
    {
     "name": "stdout",
     "output_type": "stream",
     "text": [
      "{'Results': [3]}\r\n"
     ]
    }
   ],
   "source": [
    "!python3 endpoint.py #Will run this same code in cells below to demonstrate steps taken"
   ]
  },
  {
   "cell_type": "markdown",
   "metadata": {},
   "source": [
    "### Running endpoint.py in cell:"
   ]
  },
  {
   "cell_type": "code",
   "execution_count": 27,
   "metadata": {},
   "outputs": [],
   "source": [
    "import requests\n",
    "import json\n",
    "from azureml.core import Webservice\n",
    "\n",
    "scoring_uri = service.scoring_uri\n",
    "key, _ = service.get_keys()"
   ]
  },
  {
   "cell_type": "code",
   "execution_count": 28,
   "metadata": {},
   "outputs": [],
   "source": [
    "# Set the appropriate headers\n",
    "headers = {\"Content-Type\": \"application/json\"}\n",
    "headers[\"Authorization\"] = f\"Bearer {key}\""
   ]
  },
  {
   "cell_type": "code",
   "execution_count": 35,
   "metadata": {},
   "outputs": [],
   "source": [
    "# Make the request and display the response and logs\n",
    "data = {\n",
    "  \"Inputs\": {\n",
    "    \"data\": [\n",
    "      {\n",
    "        \"X\": \"I'm sure all of you have heard of the extraordiary start by rookie J.T. Snow of the California Angeles. Other than the fact that his father was a star receiver with the L.A. Rams and is now a radio personality in Los Angeles and J.T. came from the Yankees organization I don't know much about J.T. If anyone has info and background on the young fenom....please post. By the way, for those of you not following his exploits he has hit four home runs in three days. Two last night. He has also delivered the winning hit a couple of times for the Angeles in this young season. Thanks...\"\n",
    "      }\n",
    "    ]\n",
    "  },\n",
    "  \"GlobalParameters\": {\n",
    "    \"method\": \"predict\"\n",
    "  }\n",
    "}\n"
   ]
  },
  {
   "cell_type": "code",
   "execution_count": 36,
   "metadata": {},
   "outputs": [],
   "source": [
    "# Convert to JSON string\n",
    "input_data = json.dumps(data)\n",
    "with open(\"data.json\", \"w\") as _f:\n",
    "    _f.write(input_data)\n"
   ]
  },
  {
   "cell_type": "code",
   "execution_count": 37,
   "metadata": {},
   "outputs": [
    {
     "name": "stdout",
     "output_type": "stream",
     "text": [
      "{'Results': [1]}\n"
     ]
    }
   ],
   "source": [
    "# Make the request and display the response\n",
    "resp = requests.post(scoring_uri, input_data, headers=headers)\n",
    "print(resp.json())\n"
   ]
  },
  {
   "cell_type": "markdown",
   "metadata": {
    "collapsed": true,
    "gather": {
     "logged": 1598432765711
    },
    "jupyter": {
     "outputs_hidden": false,
     "source_hidden": false
    },
    "nteract": {
     "transient": {
      "deleting": false
     }
    }
   },
   "source": [
    "Print the logs of the web service and delete the service"
   ]
  },
  {
   "cell_type": "code",
   "execution_count": 38,
   "metadata": {},
   "outputs": [
    {
     "name": "stdout",
     "output_type": "stream",
     "text": [
      "2022-05-16T08:03:29,641607800+00:00 - gunicorn/run \n",
      "2022-05-16T08:03:29,646538900+00:00 - iot-server/run \n",
      "2022-05-16T08:03:29,650045700+00:00 - rsyslog/run \n",
      "2022-05-16T08:03:29,764471900+00:00 - nginx/run \n",
      "EdgeHubConnectionString and IOTEDGE_IOTHUBHOSTNAME are not set. Exiting...\n",
      "2022-05-16T08:03:30,189871600+00:00 - iot-server/finish 1 0\n",
      "2022-05-16T08:03:30,192467900+00:00 - Exit code 1 is normal. Not restarting iot-server.\n",
      "Starting gunicorn 20.1.0\n",
      "Listening at: http://127.0.0.1:31311 (76)\n",
      "Using worker: sync\n",
      "worker timeout is set to 300\n",
      "Booting worker with pid: 104\n",
      "SPARK_HOME not set. Skipping PySpark Initialization.\n",
      "Initializing logger\n",
      "2022-05-16 08:03:31,870 | root | INFO | Starting up app insights client\n",
      "2022-05-16 08:03:31,871 | root | INFO | Starting up request id generator\n",
      "2022-05-16 08:03:31,871 | root | INFO | Starting up app insight hooks\n",
      "2022-05-16 08:03:31,872 | root | INFO | Invoking user's init function\n",
      "Better speed can be achieved with apex installed from https://www.github.com/nvidia/apex .\n",
      "Better speed can be achieved with apex installed from https://www.github.com/nvidia/apex .\n",
      "2022-05-16 08:03:50,860 | root | INFO | Users's init has completed successfully\n",
      "2022-05-16 08:03:50,864 | root | INFO | Skipping middleware: dbg_model_info as it's not enabled.\n",
      "2022-05-16 08:03:50,864 | root | INFO | Skipping middleware: dbg_resource_usage as it's not enabled.\n",
      "2022-05-16 08:03:50,866 | root | INFO | Scoring timeout is found from os.environ: 60000 ms\n",
      "2022-05-16 08:04:03,206 | root | INFO | 200\n",
      "127.0.0.1 - - [16/May/2022:08:04:03 +0000] \"GET /swagger.json HTTP/1.0\" 200 2435 \"-\" \"Go-http-client/1.1\"\n",
      "2022-05-16 08:06:16,381 | root | INFO | 200\n",
      "127.0.0.1 - - [16/May/2022:08:06:16 +0000] \"GET /swagger.json HTTP/1.0\" 200 2435 \"-\" \"Go-http-client/1.1\"\n",
      "2022-05-16 08:09:24,736 | root | INFO | Validation Request Content-Type\n",
      "2022-05-16 08:09:24,738 | root | INFO | Scoring Timer is set to 60.0 seconds\n",
      "2022-05-16 08:09:25,837 | root | INFO | 200\n",
      "127.0.0.1 - - [16/May/2022:08:09:25 +0000] \"POST /score HTTP/1.0\" 200 16 \"-\" \"python-requests/2.27.1\"\n",
      "2022-05-16 08:10:32,605 | root | INFO | Validation Request Content-Type\n",
      "2022-05-16 08:10:32,607 | root | INFO | Scoring Timer is set to 60.0 seconds\n",
      "2022-05-16 08:10:33,594 | root | INFO | 200\n",
      "127.0.0.1 - - [16/May/2022:08:10:33 +0000] \"POST /score HTTP/1.0\" 200 16 \"-\" \"python-requests/2.27.1\"\n",
      "\n"
     ]
    }
   ],
   "source": [
    "print(service.get_logs())"
   ]
  },
  {
   "cell_type": "markdown",
   "metadata": {},
   "source": [
    "## Delete resources"
   ]
  },
  {
   "cell_type": "code",
   "execution_count": 40,
   "metadata": {},
   "outputs": [],
   "source": [
    "service.delete()\n",
    "model.delete()"
   ]
  },
  {
   "cell_type": "markdown",
   "metadata": {},
   "source": [
    "**Submission Checklist**\n",
    "- I have registered the model.\n",
    "- I have deployed the model with the best accuracy as a webservice.\n",
    "- I have tested the webservice by sending a request to the model endpoint.\n",
    "- I have deleted the webservice and shutdown all the computes that I have used.\n",
    "- I have taken a screenshot showing the model endpoint as active.\n",
    "- The project includes a file containing the environment details.\n"
   ]
  },
  {
   "cell_type": "markdown",
   "metadata": {},
   "source": []
  }
 ],
 "metadata": {
  "kernel_info": {
   "name": "python38-azureml"
  },
  "kernelspec": {
   "display_name": "Python 3.8 - AzureML",
   "language": "python",
   "name": "python38-azureml"
  },
  "language_info": {
   "codemirror_mode": {
    "name": "ipython",
    "version": 3
   },
   "file_extension": ".py",
   "mimetype": "text/x-python",
   "name": "python",
   "nbconvert_exporter": "python",
   "pygments_lexer": "ipython3",
   "version": "3.8.5"
  },
  "microsoft": {
   "host": {
    "AzureML": {
     "notebookHasBeenCompleted": true
    }
   }
  },
  "nteract": {
   "version": "nteract-front-end@1.0.0"
  }
 },
 "nbformat": 4,
 "nbformat_minor": 2
}
