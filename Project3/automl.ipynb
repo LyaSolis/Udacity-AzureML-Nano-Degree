{
 "cells": [
  {
   "cell_type": "markdown",
   "metadata": {},
   "source": [
    "# Automated ML\n",
    "\n",
    "Import Dependencies."
   ]
  },
  {
   "cell_type": "code",
   "execution_count": 1,
   "metadata": {
    "gather": {
     "logged": 1652592457727
    },
    "jupyter": {
     "outputs_hidden": false,
     "source_hidden": false
    },
    "nteract": {
     "transient": {
      "deleting": false
     }
    }
   },
   "outputs": [
    {
     "name": "stdout",
     "output_type": "stream",
     "text": [
      "This notebook was created using version 1.41.0 of the Azure ML SDK\n",
      "You are currently using version 1.40.0 of the Azure ML SDK\n"
     ]
    }
   ],
   "source": [
    "import azureml.core\n",
    "\n",
    "print(\"This notebook was created using version 1.41.0 of the Azure ML SDK\")\n",
    "print(\"You are currently using version\", azureml.core.VERSION, \"of the Azure ML SDK\")"
   ]
  },
  {
   "cell_type": "code",
   "execution_count": 2,
   "metadata": {},
   "outputs": [],
   "source": [
    "import os\n",
    "import json\n",
    "import logging\n",
    "import pandas as pd\n",
    "\n",
    "from azureml.core.run import Run\n",
    "from azureml.core.model import Model\n",
    "from azureml.widgets import RunDetails\n",
    "from azureml.core.dataset import Dataset\n",
    "from azureml.core.workspace import Workspace\n",
    "from azureml.train.automl import AutoMLConfig\n",
    "from azureml.core.experiment import Experiment\n",
    "from azureml.core.webservice import Webservice\n",
    "from helper import run_inference, get_result_df\n",
    "from sklearn.datasets import fetch_20newsgroups\n",
    "from azureml.core.compute import AmlCompute, ComputeTarget \n",
    "from azureml.core.compute_target import ComputeTargetException"
   ]
  },
  {
   "cell_type": "code",
   "execution_count": 3,
   "metadata": {
    "gather": {
     "logged": 1652592461140
    },
    "jupyter": {
     "outputs_hidden": false,
     "source_hidden": false
    },
    "nteract": {
     "transient": {
      "deleting": false
     }
    }
   },
   "outputs": [],
   "source": [
    "# # check to see if ACI is already registered\n",
    "# (myenv) $ az provider show -n Microsoft.ContainerInstance -o table\n",
    "\n",
    "# azureuser@lyasolis1:~/cloudfiles/code/Users/lyasolis/starter_file$ az provider show -n Microsoft.ContainerInstance -o table\n",
    "# Namespace                    RegistrationPolicy    RegistrationState\n",
    "# ---------------------------  --------------------  -------------------\n",
    "# Microsoft.ContainerInstance  RegistrationRequired  Registered\n",
    "\n"
   ]
  },
  {
   "cell_type": "code",
   "execution_count": 4,
   "metadata": {
    "gather": {
     "logged": 1652592463727
    },
    "jupyter": {
     "outputs_hidden": false,
     "source_hidden": false
    },
    "nteract": {
     "transient": {
      "deleting": false
     }
    }
   },
   "outputs": [],
   "source": [
    "subscription_id = os.getenv(\"SUBSCRIPTION_ID\", default=\"fbe09221-d2fa-4355-8174-808a6c0b6925\")\n",
    "resource_group = os.getenv(\"RESOURCE_GROUP\", default=\"udacity-capstone\")\n",
    "workspace_name = os.getenv(\"WORKSPACE_NAME\", default=\"udacity-capstone-ws\")\n",
    "workspace_region = os.getenv(\"WORKSPACE_REGION\", default=\"northeurope\")\n"
   ]
  },
  {
   "cell_type": "code",
   "execution_count": 5,
   "metadata": {
    "gather": {
     "logged": 1652592468282
    },
    "jupyter": {
     "outputs_hidden": false,
     "source_hidden": false
    },
    "nteract": {
     "transient": {
      "deleting": false
     }
    }
   },
   "outputs": [],
   "source": [
    "ws = Workspace(subscription_id = subscription_id, resource_group = resource_group, workspace_name = workspace_name)\n",
    "# write the details of the workspace to a configuration file to the notebook library\n",
    "ws.write_config()\n"
   ]
  },
  {
   "cell_type": "code",
   "execution_count": 6,
   "metadata": {
    "gather": {
     "logged": 1652592488995
    },
    "jupyter": {
     "outputs_hidden": false,
     "source_hidden": false
    },
    "nteract": {
     "transient": {
      "deleting": false
     }
    }
   },
   "outputs": [
    {
     "data": {
      "text/html": [
       "<div>\n",
       "<style scoped>\n",
       "    .dataframe tbody tr th:only-of-type {\n",
       "        vertical-align: middle;\n",
       "    }\n",
       "\n",
       "    .dataframe tbody tr th {\n",
       "        vertical-align: top;\n",
       "    }\n",
       "\n",
       "    .dataframe thead th {\n",
       "        text-align: right;\n",
       "    }\n",
       "</style>\n",
       "<table border=\"1\" class=\"dataframe\">\n",
       "  <thead>\n",
       "    <tr style=\"text-align: right;\">\n",
       "      <th></th>\n",
       "      <th></th>\n",
       "    </tr>\n",
       "  </thead>\n",
       "  <tbody>\n",
       "    <tr>\n",
       "      <th>Subscription ID</th>\n",
       "      <td>fbe09221-d2fa-4355-8174-808a6c0b6925</td>\n",
       "    </tr>\n",
       "    <tr>\n",
       "      <th>Workspace Name</th>\n",
       "      <td>udacity-capstone-ws</td>\n",
       "    </tr>\n",
       "    <tr>\n",
       "      <th>Resource Group</th>\n",
       "      <td>udacity-capstone</td>\n",
       "    </tr>\n",
       "    <tr>\n",
       "      <th>Location</th>\n",
       "      <td>northeurope</td>\n",
       "    </tr>\n",
       "    <tr>\n",
       "      <th>Experiment Name</th>\n",
       "      <td>automl-classification-text-dnn</td>\n",
       "    </tr>\n",
       "    <tr>\n",
       "      <th>SDK Version</th>\n",
       "      <td>1.40.0</td>\n",
       "    </tr>\n",
       "  </tbody>\n",
       "</table>\n",
       "</div>"
      ],
      "text/plain": [
       "                                                     \n",
       "Subscription ID  fbe09221-d2fa-4355-8174-808a6c0b6925\n",
       "Workspace Name                    udacity-capstone-ws\n",
       "Resource Group                       udacity-capstone\n",
       "Location                                  northeurope\n",
       "Experiment Name        automl-classification-text-dnn\n",
       "SDK Version                                    1.40.0"
      ]
     },
     "execution_count": 6,
     "metadata": {},
     "output_type": "execute_result"
    }
   ],
   "source": [
    "# Choose an experiment name.\n",
    "experiment_name = \"automl-classification-text-dnn\"\n",
    "\n",
    "experiment = Experiment(ws, experiment_name)\n",
    "\n",
    "output = {}\n",
    "output[\"Subscription ID\"] = ws.subscription_id\n",
    "output[\"Workspace Name\"] = ws.name\n",
    "output[\"Resource Group\"] = ws.resource_group\n",
    "output[\"Location\"] = ws.location\n",
    "output[\"Experiment Name\"] = experiment.name\n",
    "output[\"SDK Version\"] = azureml.core.VERSION\n",
    "pd.set_option(\"display.max_colwidth\", None)\n",
    "outputDf = pd.DataFrame(data=output, index=[\"\"])\n",
    "outputDf.T\n"
   ]
  },
  {
   "cell_type": "code",
   "execution_count": 7,
   "metadata": {
    "gather": {
     "logged": 1652592506757
    },
    "jupyter": {
     "outputs_hidden": false,
     "source_hidden": false
    },
    "nteract": {
     "transient": {
      "deleting": false
     }
    }
   },
   "outputs": [
    {
     "name": "stdout",
     "output_type": "stream",
     "text": [
      "Found existing cluster, use it.\n",
      "Succeeded\n",
      "AmlCompute wait for completion finished\n",
      "\n",
      "Minimum number of nodes requested have been provisioned\n"
     ]
    }
   ],
   "source": [
    "#Create Compute Cluster\n",
    "num_nodes = 1\n",
    "\n",
    "# Choose a name for your cluster.\n",
    "amlcompute_cluster_name = \"dnntext-cluster\"\n",
    "\n",
    "# Verify that cluster does not exist already\n",
    "try:\n",
    "    compute_target = ComputeTarget(workspace=ws, name=amlcompute_cluster_name)\n",
    "    print(\"Found existing cluster, use it.\")\n",
    "except ComputeTargetException:\n",
    "    compute_config = AmlCompute.provisioning_configuration(\n",
    "        vm_size=\"STANDARD_NC6\",  # CPU for BiLSTM, such as \"STANDARD_D2_V2\"\n",
    "        # To use BERT (this is recommended for best performance), select a GPU such as \"STANDARD_NC6\"\n",
    "        # or similar GPU option available in your workspace\n",
    "        idle_seconds_before_scaledown=60,\n",
    "        max_nodes=num_nodes,\n",
    "    )\n",
    "    compute_target = ComputeTarget.create(ws, amlcompute_cluster_name, compute_config)\n",
    "\n",
    "compute_target.wait_for_completion(show_output=True)"
   ]
  },
  {
   "cell_type": "markdown",
   "metadata": {},
   "source": [
    "## Dataset\n",
    "\n",
    "### Overview\n",
    "For this notebook we will use 20 Newsgroups data from scikit-learn. We filter the data to contain four classes and take a sample as training data. Please note that for accuracy improvement, more data is needed. For this notebook we provide a small-data example since it's a student project, and computational resources are expensive.\n"
   ]
  },
  {
   "cell_type": "code",
   "execution_count": 8,
   "metadata": {
    "gather": {
     "logged": 1652592515112
    },
    "jupyter": {
     "outputs_hidden": false,
     "source_hidden": false
    },
    "nteract": {
     "transient": {
      "deleting": false
     }
    }
   },
   "outputs": [],
   "source": [
    "data_dir = \"text-dnn-data\"  # Local directory to store data\n",
    "blobstore_datadir = data_dir  # Blob store directory to store data in\n",
    "target_column_name = \"y\"\n",
    "feature_column_name = \"X\"\n",
    "\n",
    "\n",
    "def get_20newsgroups_data():\n",
    "    \"\"\"Fetches 20 Newsgroups data from scikit-learn\n",
    "    Returns them in form of pandas dataframes\n",
    "    \"\"\"\n",
    "    remove = (\"headers\", \"footers\", \"quotes\")\n",
    "    categories = [\n",
    "        \"rec.sport.baseball\",\n",
    "        \"rec.sport.hockey\",\n",
    "        \"comp.graphics\",\n",
    "        \"sci.space\",\n",
    "    ]\n",
    "\n",
    "    data = fetch_20newsgroups(\n",
    "        subset=\"train\",\n",
    "        categories=categories,\n",
    "        shuffle=True,\n",
    "        random_state=42,\n",
    "        remove=remove,\n",
    "    )\n",
    "    data = pd.DataFrame(\n",
    "        {feature_column_name: data.data, target_column_name: data.target}\n",
    "    )\n",
    "\n",
    "    data_train = data[:200]\n",
    "    data_test = data[200:300]\n",
    "\n",
    "    data_train = remove_blanks_20news(\n",
    "        data_train, feature_column_name, target_column_name\n",
    "    )\n",
    "    data_test = remove_blanks_20news(data_test, feature_column_name, target_column_name)\n",
    "\n",
    "    return data_train, data_test\n",
    "\n",
    "\n",
    "def remove_blanks_20news(data, feature_column_name, target_column_name):\n",
    "\n",
    "    data[feature_column_name] = (\n",
    "        data[feature_column_name]\n",
    "        .replace(r\"\\n\", \" \", regex=True)\n",
    "        .apply(lambda x: x.strip())\n",
    "    )\n",
    "    data = data[data[feature_column_name] != \"\"]\n",
    "\n",
    "    return data"
   ]
  },
  {
   "cell_type": "code",
   "execution_count": 9,
   "metadata": {
    "gather": {
     "logged": 1652592531374
    },
    "jupyter": {
     "outputs_hidden": false,
     "source_hidden": false
    },
    "nteract": {
     "transient": {
      "deleting": false
     }
    }
   },
   "outputs": [
    {
     "name": "stderr",
     "output_type": "stream",
     "text": [
      "<ipython-input-8-8045efe10d61>:43: SettingWithCopyWarning: \n",
      "A value is trying to be set on a copy of a slice from a DataFrame.\n",
      "Try using .loc[row_indexer,col_indexer] = value instead\n",
      "\n",
      "See the caveats in the documentation: https://pandas.pydata.org/pandas-docs/stable/user_guide/indexing.html#returning-a-view-versus-a-copy\n",
      "  data[feature_column_name] = (\n",
      "\"Datastore.upload\" is deprecated after version 1.0.69. Please use \"Dataset.File.upload_directory\" to upload your files             from a local directory and create FileDataset in single method call. See Dataset API change notice at https://aka.ms/dataset-deprecation.\n"
     ]
    },
    {
     "name": "stdout",
     "output_type": "stream",
     "text": [
      "Uploading an estimated of 2 files\n",
      "Uploading text-dnn-data/test_data.csv\n",
      "Uploaded text-dnn-data/test_data.csv, 1 files out of an estimated total of 2\n",
      "Uploading text-dnn-data/train_data.csv\n",
      "Uploaded text-dnn-data/train_data.csv, 2 files out of an estimated total of 2\n",
      "Uploaded 2 files\n"
     ]
    }
   ],
   "source": [
    "data_train, data_test = get_20newsgroups_data()\n",
    "\n",
    "if not os.path.isdir(data_dir):\n",
    "    os.mkdir(data_dir)\n",
    "\n",
    "train_data_fname = data_dir + \"/train_data.csv\"\n",
    "test_data_fname = data_dir + \"/test_data.csv\"\n",
    "\n",
    "data_train.to_csv(train_data_fname, index=False)\n",
    "data_test.to_csv(test_data_fname, index=False)\n",
    "\n",
    "datastore = ws.get_default_datastore()\n",
    "datastore.upload(src_dir=data_dir, target_path=blobstore_datadir, overwrite=True)\n",
    "train_dataset = Dataset.Tabular.from_delimited_files(\n",
    "    path=[(datastore, blobstore_datadir + \"/train_data.csv\")]\n",
    ")"
   ]
  },
  {
   "cell_type": "code",
   "execution_count": 10,
   "metadata": {
    "gather": {
     "logged": 1652592535268
    },
    "jupyter": {
     "outputs_hidden": false,
     "source_hidden": false
    },
    "nteract": {
     "transient": {
      "deleting": false
     }
    }
   },
   "outputs": [],
   "source": [
    "train_dataset = Dataset.Tabular.from_delimited_files(\n",
    "    path=[(datastore, blobstore_datadir + \"/train_data.csv\")]\n",
    ")"
   ]
  },
  {
   "cell_type": "markdown",
   "metadata": {},
   "source": [
    "## AutoML Configuration\n",
    "\n",
    "Parameters generated for AutoML were as follows:  \n",
    "\n",
    "  * Primary metric \"accuracy\" - ratio of predictions that exactly match the true class labels.\n",
    "  * Early Stopping enabled - this parameter is used to stop initation early if the score isn't improving.\n",
    "  * Featurization \"auto\" - this is to automatically check data and flag any issues (such as class imbalance, missing values etc).\n",
    "  * Validation 0.3 - 30% of data was held out for validation.\n",
    "  * Itiration time out was set to 10 min for each itiration.\n",
    "  * Experiment time out was set to 60min, which means that it would terminate after 60 min, and best model is selected from the models generated within this time frame. This consists of all itirations within experiment.\n",
    "  * Blocked_models parameter to exclude some models that can take a longer time to train on some text datasets. If we were to remove models from the blocked_models list, experiment_timeout_hours parameter value would need to be used and increased in order to allow sufficient time to improve the results."
   ]
  },
  {
   "cell_type": "code",
   "execution_count": 11,
   "metadata": {
    "gather": {
     "logged": 1652593978586
    },
    "jupyter": {
     "outputs_hidden": false,
     "source_hidden": false
    },
    "nteract": {
     "transient": {
      "deleting": false
     }
    }
   },
   "outputs": [],
   "source": [
    "automl_settings = {\n",
    "    \"iteration_timeout_minutes\": 10,\n",
    "    \"primary_metric\": \"accuracy\",\n",
    "    \"max_concurrent_iterations\": num_nodes,\n",
    "    \"max_cores_per_iteration\": -1,\n",
    "    \"enable_dnn\": True,\n",
    "    \"featurization\": \"auto\",\n",
    "    \"enable_early_stopping\": True,\n",
    "    \"validation_size\": 0.3,\n",
    "    \"verbosity\": logging.INFO,\n",
    "    \"enable_voting_ensemble\": False,\n",
    "    \"enable_stack_ensemble\": False,\n",
    "}\n",
    "\n",
    "automl_config = AutoMLConfig(\n",
    "    experiment_timeout_minutes=60,\n",
    "    task=\"classification\",\n",
    "    debug_log=\"automl_errors.log\",\n",
    "    compute_target=compute_target,\n",
    "    training_data=train_dataset,\n",
    "    label_column_name=target_column_name,\n",
    "    blocked_models=[\"LightGBM\", \"XGBoostClassifier\"],\n",
    "    **automl_settings,\n",
    ")"
   ]
  },
  {
   "cell_type": "code",
   "execution_count": 12,
   "metadata": {
    "gather": {
     "logged": 1652596652844
    },
    "jupyter": {
     "outputs_hidden": false,
     "source_hidden": false
    },
    "nteract": {
     "transient": {
      "deleting": false
     }
    }
   },
   "outputs": [
    {
     "name": "stdout",
     "output_type": "stream",
     "text": [
      "Submitting remote run.\n",
      "No run_configuration provided, running on dnntext-cluster with default configuration\n",
      "Running on remote compute: dnntext-cluster\n"
     ]
    },
    {
     "data": {
      "text/html": [
       "<table style=\"width:100%\"><tr><th>Experiment</th><th>Id</th><th>Type</th><th>Status</th><th>Details Page</th><th>Docs Page</th></tr><tr><td>automl-classification-text-dnn</td><td>AutoML_81df340a-b17c-496c-836d-01d97204ba6c</td><td>automl</td><td>NotStarted</td><td><a href=\"https://ml.azure.com/runs/AutoML_81df340a-b17c-496c-836d-01d97204ba6c?wsid=/subscriptions/fbe09221-d2fa-4355-8174-808a6c0b6925/resourcegroups/udacity-capstone/workspaces/udacity-capstone-ws&amp;tid=5f72850f-e1ba-4a78-b1dd-7c1e0e254830\" target=\"_blank\" rel=\"noopener\">Link to Azure Machine Learning studio</a></td><td><a href=\"https://docs.microsoft.com/en-us/python/api/overview/azure/ml/intro?view=azure-ml-py\" target=\"_blank\" rel=\"noopener\">Link to Documentation</a></td></tr></table>"
      ],
      "text/plain": [
       "<IPython.core.display.HTML object>"
      ]
     },
     "metadata": {},
     "output_type": "display_data"
    },
    {
     "name": "stdout",
     "output_type": "stream",
     "text": [
      "\n",
      "Current status: FeaturesGeneration. Generating features for the dataset.\n",
      "Current status: TextDNNTraining. Training a deep learning text model, this may take a while.\n",
      "Current status: TextDNNTrainingCompleted. Completed training a deep learning text model.\n",
      "Current status: DatasetFeaturizationCompleted. Completed fit featurizers and featurizing the dataset.\n",
      "Current status: ModelSelection. Beginning model selection.\n",
      "\n",
      "********************************************************************************************\n",
      "DATA GUARDRAILS: \n",
      "\n",
      "TYPE:         Class balancing detection\n",
      "STATUS:       PASSED\n",
      "DESCRIPTION:  Your inputs were analyzed, and all classes are balanced in your training data.\n",
      "              Learn more about imbalanced data: https://aka.ms/AutomatedMLImbalancedData\n",
      "\n",
      "********************************************************************************************\n",
      "\n",
      "TYPE:         Missing feature values imputation\n",
      "STATUS:       PASSED\n",
      "DESCRIPTION:  No feature missing values were detected in the training data.\n",
      "              Learn more about missing value imputation: https://aka.ms/AutomatedMLFeaturization\n",
      "\n",
      "********************************************************************************************\n",
      "\n",
      "TYPE:         High cardinality feature detection\n",
      "STATUS:       PASSED\n",
      "DESCRIPTION:  Your inputs were analyzed, and no high cardinality features were detected.\n",
      "              Learn more about high cardinality feature handling: https://aka.ms/AutomatedMLFeaturization\n",
      "\n",
      "********************************************************************************************\n",
      "\n",
      "********************************************************************************************\n",
      "ITER: The iteration being evaluated.\n",
      "PIPELINE: A summary description of the pipeline being evaluated.\n",
      "DURATION: Time taken for the current iteration.\n",
      "METRIC: The result of computing score on the fitted pipeline.\n",
      "BEST: The best observed score thus far.\n",
      "********************************************************************************************\n",
      "\n",
      " ITER   PIPELINE                                       DURATION            METRIC      BEST\n",
      "    0   MaxAbsScaler ExtremeRandomTrees                0:00:28             0.6207    0.6207\n",
      "    1   MaxAbsScaler LogisticRegression                0:00:31             0.7414    0.7414\n",
      "    2   StandardScalerWrapper ExtremeRandomTrees       0:00:29             0.6034    0.7414\n",
      "    3   MaxAbsScaler LogisticRegression                0:00:30             0.7586    0.7586\n",
      "    4   MaxAbsScaler SGD                               0:00:28             0.7414    0.7586\n",
      "    5   SparseNormalizer RandomForest                  0:00:29             0.6207    0.7586\n",
      "    6   StandardScalerWrapper LogisticRegression       0:00:30             0.7241    0.7586\n",
      "    7   StandardScalerWrapper RandomForest             0:00:29             0.7414    0.7586\n",
      "    8   TruncatedSVDWrapper RandomForest               0:00:29             0.5690    0.7586\n",
      "    9   TruncatedSVDWrapper RandomForest               0:00:30             0.5345    0.7586\n",
      "   10   StandardScalerWrapper LogisticRegression       0:00:30             0.6724    0.7586\n",
      "   11   StandardScalerWrapper RandomForest             0:00:29             0.5862    0.7586\n",
      "   12   SparseNormalizer ExtremeRandomTrees            0:00:29             0.6724    0.7586\n",
      "   13   StandardScalerWrapper RandomForest             0:00:29             0.6552    0.7586\n",
      "   14   SparseNormalizer RandomForest                  0:00:31             0.6724    0.7586\n",
      "   15   SparseNormalizer SGD                           0:00:29             0.5172    0.7586\n",
      "   16   TruncatedSVDWrapper MultinomialNaiveBayes      0:00:25             0.6379    0.7586\n",
      "   17   MaxAbsScaler ExtremeRandomTrees                0:00:29             0.6379    0.7586\n",
      "   18   MaxAbsScaler GradientBoosting                  0:00:32             0.7759    0.7759\n",
      "   19   StandardScalerWrapper LogisticRegression       0:00:30             0.6552    0.7759\n",
      "   20   MaxAbsScaler SGD                               0:03:33             0.7759    0.7759\n",
      "   21   MaxAbsScaler MultinomialNaiveBayes             0:01:00             0.6724    0.7759\n",
      "   22   MaxAbsScaler LogisticRegression                0:01:02             0.7241    0.7759\n",
      "   23   StandardScalerWrapper RandomForest             0:01:08             0.5345    0.7759\n",
      "   24   MaxAbsScaler SGD                               0:01:00             0.5862    0.7759\n",
      "   25   MaxAbsScaler GradientBoosting                  0:01:01             0.2759    0.7759\n",
      "   26   MaxAbsScaler ExtremeRandomTrees                0:01:01             0.4828    0.7759\n",
      "   27   MaxAbsScaler SGD                               0:01:06             0.6724    0.7759\n",
      "   28   StandardScalerWrapper LogisticRegression       0:01:03             0.7069    0.7759\n",
      "   29   MaxAbsScaler ExtremeRandomTrees                0:01:01             0.6552    0.7759\n"
     ]
    }
   ],
   "source": [
    "#Submit experiment\n",
    "automl_run = experiment.submit(automl_config, show_output=True)"
   ]
  },
  {
   "cell_type": "markdown",
   "metadata": {},
   "source": [
    "## Run Details\n",
    "\n",
    "\n",
    "Use the `RunDetails` widget to show the different experiments."
   ]
  },
  {
   "cell_type": "code",
   "execution_count": 13,
   "metadata": {
    "gather": {
     "logged": 1652597806095
    },
    "jupyter": {
     "outputs_hidden": false,
     "source_hidden": false
    },
    "nteract": {
     "transient": {
      "deleting": false
     }
    }
   },
   "outputs": [
    {
     "data": {
      "application/vnd.jupyter.widget-view+json": {
       "model_id": "836ce914c4cd4d90bfd00dfd8355193d",
       "version_major": 2,
       "version_minor": 0
      },
      "text/plain": [
       "_AutoMLWidget(widget_settings={'childWidgetDisplay': 'popup', 'send_telemetry': False, 'log_level': 'INFO', 's…"
      ]
     },
     "metadata": {},
     "output_type": "display_data"
    },
    {
     "data": {
      "application/aml.mini.widget.v1": "{\"status\": \"Completed\", \"workbench_run_details_uri\": \"https://ml.azure.com/runs/AutoML_81df340a-b17c-496c-836d-01d97204ba6c?wsid=/subscriptions/fbe09221-d2fa-4355-8174-808a6c0b6925/resourcegroups/udacity-capstone/workspaces/udacity-capstone-ws&tid=5f72850f-e1ba-4a78-b1dd-7c1e0e254830\", \"run_id\": \"AutoML_81df340a-b17c-496c-836d-01d97204ba6c\", \"run_properties\": {\"run_id\": \"AutoML_81df340a-b17c-496c-836d-01d97204ba6c\", \"created_utc\": \"2022-05-15T07:06:45.91603Z\", \"properties\": {\"num_iterations\": \"1000\", \"training_type\": \"TrainFull\", \"acquisition_function\": \"EI\", \"primary_metric\": \"accuracy\", \"train_split\": \"0.3\", \"acquisition_parameter\": \"0\", \"num_cross_validation\": null, \"target\": \"dnntext-cluster\", \"AMLSettingsJsonString\": \"{\\\"path\\\":null,\\\"name\\\":\\\"automl-classification-text-dnn\\\",\\\"subscription_id\\\":\\\"fbe09221-d2fa-4355-8174-808a6c0b6925\\\",\\\"resource_group\\\":\\\"udacity-capstone\\\",\\\"workspace_name\\\":\\\"udacity-capstone-ws\\\",\\\"region\\\":\\\"northeurope\\\",\\\"compute_target\\\":\\\"dnntext-cluster\\\",\\\"spark_service\\\":null,\\\"azure_service\\\":\\\"remote\\\",\\\"many_models\\\":false,\\\"pipeline_fetch_max_batch_size\\\":1,\\\"enable_batch_run\\\":true,\\\"enable_run_restructure\\\":false,\\\"start_auxiliary_runs_before_parent_complete\\\":false,\\\"enable_code_generation\\\":false,\\\"iterations\\\":1000,\\\"primary_metric\\\":\\\"accuracy\\\",\\\"task_type\\\":\\\"classification\\\",\\\"positive_label\\\":null,\\\"data_script\\\":null,\\\"test_size\\\":0.0,\\\"test_include_predictions_only\\\":false,\\\"validation_size\\\":0.3,\\\"n_cross_validations\\\":null,\\\"y_min\\\":null,\\\"y_max\\\":null,\\\"num_classes\\\":null,\\\"featurization\\\":\\\"auto\\\",\\\"_ignore_package_version_incompatibilities\\\":false,\\\"is_timeseries\\\":false,\\\"max_cores_per_iteration\\\":-1,\\\"max_concurrent_iterations\\\":1,\\\"iteration_timeout_minutes\\\":10,\\\"mem_in_mb\\\":null,\\\"enforce_time_on_windows\\\":false,\\\"experiment_timeout_minutes\\\":60,\\\"experiment_exit_score\\\":null,\\\"partition_column_names\\\":null,\\\"whitelist_models\\\":null,\\\"blacklist_algos\\\":[\\\"LightGBM\\\",\\\"XGBoostClassifier\\\",\\\"TensorFlowLinearClassifier\\\",\\\"TensorFlowDNN\\\"],\\\"supported_models\\\":[\\\"TensorFlowDNN\\\",\\\"ExtremeRandomTrees\\\",\\\"BernoulliNaiveBayes\\\",\\\"TabnetClassifier\\\",\\\"AveragedPerceptronClassifier\\\",\\\"LightGBM\\\",\\\"XGBoostClassifier\\\",\\\"RandomForest\\\",\\\"TensorFlowLinearClassifier\\\",\\\"KNN\\\",\\\"GradientBoosting\\\",\\\"LinearSVM\\\",\\\"SVM\\\",\\\"DecisionTree\\\",\\\"SGD\\\",\\\"LogisticRegression\\\",\\\"MultinomialNaiveBayes\\\"],\\\"private_models\\\":[],\\\"auto_blacklist\\\":true,\\\"blacklist_samples_reached\\\":false,\\\"exclude_nan_labels\\\":true,\\\"verbosity\\\":20,\\\"_debug_log\\\":\\\"azureml_automl.log\\\",\\\"show_warnings\\\":false,\\\"model_explainability\\\":true,\\\"service_url\\\":null,\\\"sdk_url\\\":null,\\\"sdk_packages\\\":null,\\\"enable_onnx_compatible_models\\\":false,\\\"enable_split_onnx_featurizer_estimator_models\\\":false,\\\"vm_type\\\":\\\"STANDARD_NC6\\\",\\\"telemetry_verbosity\\\":20,\\\"send_telemetry\\\":true,\\\"enable_dnn\\\":true,\\\"scenario\\\":\\\"SDK-1.13.0\\\",\\\"environment_label\\\":null,\\\"save_mlflow\\\":false,\\\"enable_categorical_indicators\\\":false,\\\"force_text_dnn\\\":false,\\\"enable_feature_sweeping\\\":true,\\\"enable_early_stopping\\\":true,\\\"early_stopping_n_iters\\\":10,\\\"arguments\\\":null,\\\"dataset_id\\\":\\\"ba06c96f-6b65-4a4b-aa1d-74e9dd30dd88\\\",\\\"hyperdrive_config\\\":null,\\\"validation_dataset_id\\\":null,\\\"run_source\\\":null,\\\"metrics\\\":null,\\\"enable_metric_confidence\\\":false,\\\"enable_ensembling\\\":false,\\\"enable_stack_ensembling\\\":false,\\\"ensemble_iterations\\\":15,\\\"enable_tf\\\":false,\\\"enable_subsampling\\\":null,\\\"subsample_seed\\\":null,\\\"enable_nimbusml\\\":false,\\\"enable_streaming\\\":false,\\\"force_streaming\\\":false,\\\"track_child_runs\\\":true,\\\"allowed_private_models\\\":[],\\\"label_column_name\\\":\\\"y\\\",\\\"weight_column_name\\\":null,\\\"cv_split_column_names\\\":null,\\\"enable_local_managed\\\":false,\\\"_local_managed_run_id\\\":null,\\\"cost_mode\\\":1,\\\"lag_length\\\":0,\\\"metric_operation\\\":\\\"maximize\\\",\\\"preprocess\\\":true}\", \"DataPrepJsonString\": \"{\\\\\\\"training_data\\\\\\\": {\\\\\\\"datasetId\\\\\\\": \\\\\\\"ba06c96f-6b65-4a4b-aa1d-74e9dd30dd88\\\\\\\"}, \\\\\\\"datasets\\\\\\\": 0}\", \"EnableSubsampling\": null, \"runTemplate\": \"AutoML\", \"azureml.runsource\": \"automl\", \"display_task_type\": \"classification\", \"dependencies_versions\": \"{\\\"azureml-widgets\\\": \\\"1.40.0\\\", \\\"azureml-training-tabular\\\": \\\"1.40.0\\\", \\\"azureml-train\\\": \\\"1.40.0\\\", \\\"azureml-train-restclients-hyperdrive\\\": \\\"1.40.0\\\", \\\"azureml-train-core\\\": \\\"1.40.0\\\", \\\"azureml-train-automl\\\": \\\"1.40.0\\\", \\\"azureml-train-automl-runtime\\\": \\\"1.40.0.post1\\\", \\\"azureml-train-automl-client\\\": \\\"1.40.0\\\", \\\"azureml-tensorboard\\\": \\\"1.40.0\\\", \\\"azureml-telemetry\\\": \\\"1.40.0\\\", \\\"azureml-sdk\\\": \\\"1.40.0\\\", \\\"azureml-samples\\\": \\\"0+unknown\\\", \\\"azureml-responsibleai\\\": \\\"1.40.0\\\", \\\"azureml-pipeline\\\": \\\"1.40.0\\\", \\\"azureml-pipeline-steps\\\": \\\"1.40.0\\\", \\\"azureml-pipeline-core\\\": \\\"1.40.0\\\", \\\"azureml-opendatasets\\\": \\\"1.40.0\\\", \\\"azureml-mlflow\\\": \\\"1.40.0\\\", \\\"azureml-interpret\\\": \\\"1.40.0\\\", \\\"azureml-inference-server-http\\\": \\\"0.4.11\\\", \\\"azureml-explain-model\\\": \\\"1.40.0\\\", \\\"azureml-defaults\\\": \\\"1.40.0\\\", \\\"azureml-dataset-runtime\\\": \\\"1.40.0\\\", \\\"azureml-dataprep\\\": \\\"3.0.0\\\", \\\"azureml-dataprep-rslex\\\": \\\"2.4.0\\\", \\\"azureml-dataprep-native\\\": \\\"38.0.0\\\", \\\"azureml-datadrift\\\": \\\"1.40.0\\\", \\\"azureml-core\\\": \\\"1.40.0\\\", \\\"azureml-contrib-services\\\": \\\"1.40.0\\\", \\\"azureml-contrib-server\\\": \\\"1.40.0\\\", \\\"azureml-contrib-reinforcementlearning\\\": \\\"1.40.0\\\", \\\"azureml-contrib-pipeline-steps\\\": \\\"1.40.0\\\", \\\"azureml-contrib-notebook\\\": \\\"1.40.0\\\", \\\"azureml-contrib-fairness\\\": \\\"1.40.0\\\", \\\"azureml-contrib-dataset\\\": \\\"1.40.0\\\", \\\"azureml-contrib-automl-pipeline-steps\\\": \\\"1.40.0\\\", \\\"azureml-cli-common\\\": \\\"1.40.0\\\", \\\"azureml-automl-runtime\\\": \\\"1.40.0\\\", \\\"azureml-automl-dnn-nlp\\\": \\\"1.40.0\\\", \\\"azureml-automl-core\\\": \\\"1.40.0\\\", \\\"azureml-accel-models\\\": \\\"1.40.0\\\"}\", \"_aml_system_scenario_identification\": \"Remote.Parent\", \"ClientType\": \"SDK\", \"environment_cpu_name\": \"AzureML-AutoML-DNN\", \"environment_cpu_label\": \"prod\", \"environment_gpu_name\": \"AzureML-AutoML-DNN-GPU\", \"environment_gpu_label\": \"prod\", \"root_attribution\": \"automl\", \"attribution\": \"AutoML\", \"Orchestrator\": \"AutoML\", \"CancelUri\": \"https://northeurope.api.azureml.ms/jasmine/v1.0/subscriptions/fbe09221-d2fa-4355-8174-808a6c0b6925/resourceGroups/udacity-capstone/providers/Microsoft.MachineLearningServices/workspaces/udacity-capstone-ws/experimentids/cf53bafc-6c75-43bf-ad9d-b5319d17b7e9/cancel/AutoML_81df340a-b17c-496c-836d-01d97204ba6c\", \"ClientSdkVersion\": \"1.40.0.post1\", \"snapshotId\": \"00000000-0000-0000-0000-000000000000\", \"SetupRunId\": \"AutoML_81df340a-b17c-496c-836d-01d97204ba6c_setup\", \"SetupRunContainerId\": \"dcid.AutoML_81df340a-b17c-496c-836d-01d97204ba6c_setup\", \"FeaturizationRunJsonPath\": \"featurizer_container.json\", \"FeaturizationRunId\": \"AutoML_81df340a-b17c-496c-836d-01d97204ba6c_featurize\", \"ProblemInfoJsonString\": \"{\\\"dataset_num_categorical\\\": 0, \\\"is_sparse\\\": true, \\\"subsampling\\\": false, \\\"has_extra_col\\\": true, \\\"dataset_classes\\\": 4, \\\"dataset_features\\\": 28901, \\\"dataset_samples\\\": 135, \\\"single_frequency_class_detected\\\": false}\", \"ModelExplainRunId\": \"AutoML_81df340a-b17c-496c-836d-01d97204ba6c_ModelExplain\"}, \"tags\": {\"model_explain_run\": \"best_run\", \"_aml_system_automl_run_workspace_id\": \"644b04ba-cd6a-402f-aa72-d1730d303ea8\", \"_aml_system_azureml.automlComponent\": \"AutoML\", \"is_gpu\": \"True\", \"pipeline_id\": \"\", \"score\": \"\", \"predicted_cost\": \"\", \"fit_time\": \"\", \"training_percent\": \"\", \"iteration\": \"\", \"run_preprocessor\": \"\", \"run_algorithm\": \"\", \"dynamic_allowlisting_iterations\": \"<25>;\", \"_aml_system_azureml.automl_early_exit_message\": \"No scores improved over last 10 iterations, so experiment stopped early. This early stopping behavior can be disabled by setting enable_early_stopping = False in AutoMLConfig for notebook/python SDK runs.\", \"automl_best_child_run_id\": \"AutoML_81df340a-b17c-496c-836d-01d97204ba6c_18\", \"model_explain_best_run_child_id\": \"AutoML_81df340a-b17c-496c-836d-01d97204ba6c_18\"}, \"end_time_utc\": \"2022-05-15T07:48:50.977483Z\", \"status\": \"Completed\", \"log_files\": {}, \"log_groups\": [], \"run_duration\": \"0:42:05\", \"run_number\": \"1652598405\", \"run_queued_details\": {\"status\": \"Completed\", \"details\": null}}, \"child_runs\": [{\"run_id\": \"AutoML_81df340a-b17c-496c-836d-01d97204ba6c_setup\", \"run_number\": 1652598417, \"metric\": null, \"status\": \"Completed\", \"run_type\": \"azureml.scriptrun\", \"training_percent\": null, \"start_time\": \"2022-05-15T07:10:14.577234Z\", \"end_time\": \"2022-05-15T07:14:29.876698Z\", \"created_time\": \"2022-05-15T07:06:57.701313Z\", \"created_time_dt\": \"2022-05-15T07:06:57.701313Z\", \"duration\": \"0:07:32\", \"iteration\": null, \"goal\": null, \"run_name\": \"Completed\", \"run_properties\": null}, {\"run_id\": \"AutoML_81df340a-b17c-496c-836d-01d97204ba6c_featurize\", \"run_number\": 1652598870, \"metric\": null, \"status\": \"Completed\", \"run_type\": \"automl.featurization\", \"training_percent\": null, \"start_time\": \"2022-05-15T07:14:31.751399Z\", \"end_time\": \"2022-05-15T07:17:17.306822Z\", \"created_time\": \"2022-05-15T07:14:30.132107Z\", \"created_time_dt\": \"2022-05-15T07:14:30.132107Z\", \"duration\": \"0:02:47\", \"iteration\": null, \"goal\": null, \"run_name\": \"Completed\", \"run_properties\": null}, {\"run_id\": \"AutoML_81df340a-b17c-496c-836d-01d97204ba6c_0\", \"run_number\": 1652599038, \"metric\": null, \"status\": \"Completed\", \"run_type\": null, \"training_percent\": \"100\", \"start_time\": \"2022-05-15T07:17:54.525299Z\", \"end_time\": \"2022-05-15T07:18:23.011754Z\", \"created_time\": \"2022-05-15T07:17:18.454318Z\", \"created_time_dt\": \"2022-05-15T07:17:18.454318Z\", \"duration\": \"0:01:04\", \"iteration\": \"0\", \"goal\": \"accuracy_max\", \"run_name\": \"MaxAbsScaler, ExtremeRandomTrees\", \"run_properties\": \"copy=True\", \"primary_metric\": 0.62068966, \"best_metric\": 0.62068966}, {\"run_id\": \"AutoML_81df340a-b17c-496c-836d-01d97204ba6c_2\", \"run_number\": 1652599039, \"metric\": null, \"status\": \"Completed\", \"run_type\": null, \"training_percent\": \"100\", \"start_time\": \"2022-05-15T07:18:54.30258Z\", \"end_time\": \"2022-05-15T07:19:23.109515Z\", \"created_time\": \"2022-05-15T07:17:19.143084Z\", \"created_time_dt\": \"2022-05-15T07:17:19.143084Z\", \"duration\": \"0:02:03\", \"iteration\": \"2\", \"goal\": \"accuracy_max\", \"run_name\": \"StandardScalerWrapper, ExtremeRandomTrees\", \"run_properties\": \"copy=True, with_mean=False, with_std=False\", \"primary_metric\": 0.60344828, \"best_metric\": 0.62068966}, {\"run_id\": \"AutoML_81df340a-b17c-496c-836d-01d97204ba6c_5\", \"run_number\": 1652599040, \"metric\": null, \"status\": \"Completed\", \"run_type\": null, \"training_percent\": \"100\", \"start_time\": \"2022-05-15T07:20:21.942853Z\", \"end_time\": \"2022-05-15T07:20:50.829927Z\", \"created_time\": \"2022-05-15T07:17:20.239152Z\", \"created_time_dt\": \"2022-05-15T07:17:20.239152Z\", \"duration\": \"0:03:30\", \"iteration\": \"5\", \"goal\": \"accuracy_max\", \"run_name\": \"SparseNormalizer, RandomForest\", \"run_properties\": \"copy=True, norm='l2'\", \"primary_metric\": 0.62068966, \"best_metric\": 0.62068966}, {\"run_id\": \"AutoML_81df340a-b17c-496c-836d-01d97204ba6c_7\", \"run_number\": 1652599041, \"metric\": null, \"status\": \"Completed\", \"run_type\": null, \"training_percent\": \"100\", \"start_time\": \"2022-05-15T07:21:21.570101Z\", \"end_time\": \"2022-05-15T07:21:50.603301Z\", \"created_time\": \"2022-05-15T07:17:21.018564Z\", \"created_time_dt\": \"2022-05-15T07:17:21.018564Z\", \"duration\": \"0:04:29\", \"iteration\": \"7\", \"goal\": \"accuracy_max\", \"run_name\": \"StandardScalerWrapper, RandomForest\", \"run_properties\": \"copy=True, with_mean=False, with_std=False\", \"primary_metric\": 0.74137931, \"best_metric\": 0.74137931}, {\"run_id\": \"AutoML_81df340a-b17c-496c-836d-01d97204ba6c_10\", \"run_number\": 1652599042, \"metric\": null, \"status\": \"Completed\", \"run_type\": null, \"training_percent\": \"100\", \"start_time\": \"2022-05-15T07:22:50.590935Z\", \"end_time\": \"2022-05-15T07:23:20.448342Z\", \"created_time\": \"2022-05-15T07:17:22.112562Z\", \"created_time_dt\": \"2022-05-15T07:17:22.112562Z\", \"duration\": \"0:05:58\", \"iteration\": \"10\", \"goal\": \"accuracy_max\", \"run_name\": \"StandardScalerWrapper, LogisticRegression\", \"run_properties\": \"copy=True, with_mean=False, with_std=True\", \"primary_metric\": 0.67241379, \"best_metric\": 0.74137931}, {\"run_id\": \"AutoML_81df340a-b17c-496c-836d-01d97204ba6c_13\", \"run_number\": 1652599043, \"metric\": null, \"status\": \"Completed\", \"run_type\": null, \"training_percent\": \"100\", \"start_time\": \"2022-05-15T07:24:18.754948Z\", \"end_time\": \"2022-05-15T07:24:47.537734Z\", \"created_time\": \"2022-05-15T07:17:23.135499Z\", \"created_time_dt\": \"2022-05-15T07:17:23.135499Z\", \"duration\": \"0:07:24\", \"iteration\": \"13\", \"goal\": \"accuracy_max\", \"run_name\": \"StandardScalerWrapper, RandomForest\", \"run_properties\": \"copy=True, with_mean=False, with_std=True\", \"primary_metric\": 0.65517241, \"best_metric\": 0.74137931}, {\"run_id\": \"AutoML_81df340a-b17c-496c-836d-01d97204ba6c_16\", \"run_number\": 1652599044, \"metric\": null, \"status\": \"Completed\", \"run_type\": null, \"training_percent\": \"100\", \"start_time\": \"2022-05-15T07:25:47.657576Z\", \"end_time\": \"2022-05-15T07:26:12.892903Z\", \"created_time\": \"2022-05-15T07:17:24.19067Z\", \"created_time_dt\": \"2022-05-15T07:17:24.19067Z\", \"duration\": \"0:08:48\", \"iteration\": \"16\", \"goal\": \"accuracy_max\", \"run_name\": \"TruncatedSVDWrapper, MultinomialNaiveBayes\", \"run_properties\": \"n_components=0.7026315789473684, random_state=None\", \"primary_metric\": 0.63793103, \"best_metric\": 0.74137931}, {\"run_id\": \"AutoML_81df340a-b17c-496c-836d-01d97204ba6c_worker_0\", \"run_number\": 1652599045, \"metric\": null, \"status\": \"Completed\", \"run_type\": \"azureml.scriptrun\", \"training_percent\": null, \"start_time\": \"2022-05-15T07:17:36.336495Z\", \"end_time\": \"2022-05-15T07:28:01.671447Z\", \"created_time\": \"2022-05-15T07:17:25.536884Z\", \"created_time_dt\": \"2022-05-15T07:17:25.536884Z\", \"duration\": \"0:10:36\", \"iteration\": null, \"goal\": null, \"run_name\": \"Completed\", \"run_properties\": null}, {\"run_id\": \"AutoML_81df340a-b17c-496c-836d-01d97204ba6c_20\", \"run_number\": 1652599908, \"metric\": null, \"status\": \"Completed\", \"run_type\": \"azureml.scriptrun\", \"training_percent\": \"100\", \"start_time\": \"2022-05-15T07:34:43.989895Z\", \"end_time\": \"2022-05-15T07:38:17.27733Z\", \"created_time\": \"2022-05-15T07:31:48.843555Z\", \"created_time_dt\": \"2022-05-15T07:31:48.843555Z\", \"duration\": \"0:06:28\", \"iteration\": \"20\", \"goal\": \"accuracy_max\", \"run_name\": \"MaxAbsScaler, SGD\", \"run_properties\": \"copy=True\", \"primary_metric\": 0.77586207, \"best_metric\": 0.77586207}, {\"run_id\": \"AutoML_81df340a-b17c-496c-836d-01d97204ba6c_21\", \"run_number\": 1652600298, \"metric\": null, \"status\": \"Completed\", \"run_type\": \"azureml.scriptrun\", \"training_percent\": \"100\", \"start_time\": \"2022-05-15T07:38:25.563129Z\", \"end_time\": \"2022-05-15T07:39:25.541183Z\", \"created_time\": \"2022-05-15T07:38:18.9081Z\", \"created_time_dt\": \"2022-05-15T07:38:18.9081Z\", \"duration\": \"0:01:06\", \"iteration\": \"21\", \"goal\": \"accuracy_max\", \"run_name\": \"MaxAbsScaler, MultinomialNaiveBayes\", \"run_properties\": \"copy=True\", \"primary_metric\": 0.67241379, \"best_metric\": 0.77586207}, {\"run_id\": \"AutoML_81df340a-b17c-496c-836d-01d97204ba6c_22\", \"run_number\": 1652600367, \"metric\": null, \"status\": \"Completed\", \"run_type\": \"azureml.scriptrun\", \"training_percent\": \"100\", \"start_time\": \"2022-05-15T07:39:33.131859Z\", \"end_time\": \"2022-05-15T07:40:34.933109Z\", \"created_time\": \"2022-05-15T07:39:27.218296Z\", \"created_time_dt\": \"2022-05-15T07:39:27.218296Z\", \"duration\": \"0:01:07\", \"iteration\": \"22\", \"goal\": \"accuracy_max\", \"run_name\": \"MaxAbsScaler, LogisticRegression\", \"run_properties\": \"copy=True\", \"primary_metric\": 0.72413793, \"best_metric\": 0.77586207}, {\"run_id\": \"AutoML_81df340a-b17c-496c-836d-01d97204ba6c_23\", \"run_number\": 1652600436, \"metric\": null, \"status\": \"Completed\", \"run_type\": \"azureml.scriptrun\", \"training_percent\": \"100\", \"start_time\": \"2022-05-15T07:40:42.515874Z\", \"end_time\": \"2022-05-15T07:41:50.378523Z\", \"created_time\": \"2022-05-15T07:40:36.636991Z\", \"created_time_dt\": \"2022-05-15T07:40:36.636991Z\", \"duration\": \"0:01:13\", \"iteration\": \"23\", \"goal\": \"accuracy_max\", \"run_name\": \"StandardScalerWrapper, RandomForest\", \"run_properties\": \"copy=True, with_mean=False, with_std=True\", \"primary_metric\": 0.53448276, \"best_metric\": 0.77586207}, {\"run_id\": \"AutoML_81df340a-b17c-496c-836d-01d97204ba6c_24\", \"run_number\": 1652600511, \"metric\": null, \"status\": \"Completed\", \"run_type\": \"azureml.scriptrun\", \"training_percent\": \"100\", \"start_time\": \"2022-05-15T07:41:58.086035Z\", \"end_time\": \"2022-05-15T07:42:58.075288Z\", \"created_time\": \"2022-05-15T07:41:51.867737Z\", \"created_time_dt\": \"2022-05-15T07:41:51.867737Z\", \"duration\": \"0:01:06\", \"iteration\": \"24\", \"goal\": \"accuracy_max\", \"run_name\": \"MaxAbsScaler, SGD\", \"run_properties\": \"copy=True\", \"primary_metric\": 0.5862069, \"best_metric\": 0.77586207}, {\"run_id\": \"AutoML_81df340a-b17c-496c-836d-01d97204ba6c_25\", \"run_number\": 1652600580, \"metric\": null, \"status\": \"Completed\", \"run_type\": \"azureml.scriptrun\", \"training_percent\": \"100\", \"start_time\": \"2022-05-15T07:43:07.527624Z\", \"end_time\": \"2022-05-15T07:44:08.597432Z\", \"created_time\": \"2022-05-15T07:43:00.612154Z\", \"created_time_dt\": \"2022-05-15T07:43:00.612154Z\", \"duration\": \"0:01:07\", \"iteration\": \"25\", \"goal\": \"accuracy_max\", \"run_name\": \"MaxAbsScaler, GradientBoosting\", \"run_properties\": \"copy=True\", \"primary_metric\": 0.27586207, \"best_metric\": 0.77586207}, {\"run_id\": \"AutoML_81df340a-b17c-496c-836d-01d97204ba6c_26\", \"run_number\": 1652600650, \"metric\": null, \"status\": \"Completed\", \"run_type\": \"azureml.scriptrun\", \"training_percent\": \"100\", \"start_time\": \"2022-05-15T07:44:15.997356Z\", \"end_time\": \"2022-05-15T07:45:16.937861Z\", \"created_time\": \"2022-05-15T07:44:10.126675Z\", \"created_time_dt\": \"2022-05-15T07:44:10.126675Z\", \"duration\": \"0:01:06\", \"iteration\": \"26\", \"goal\": \"accuracy_max\", \"run_name\": \"MaxAbsScaler, ExtremeRandomTrees\", \"run_properties\": \"copy=True\", \"primary_metric\": 0.48275862, \"best_metric\": 0.77586207}, {\"run_id\": \"AutoML_81df340a-b17c-496c-836d-01d97204ba6c_27\", \"run_number\": 1652600718, \"metric\": null, \"status\": \"Completed\", \"run_type\": \"azureml.scriptrun\", \"training_percent\": \"100\", \"start_time\": \"2022-05-15T07:45:23.360983Z\", \"end_time\": \"2022-05-15T07:46:29.605746Z\", \"created_time\": \"2022-05-15T07:45:18.410057Z\", \"created_time_dt\": \"2022-05-15T07:45:18.410057Z\", \"duration\": \"0:01:11\", \"iteration\": \"27\", \"goal\": \"accuracy_max\", \"run_name\": \"MaxAbsScaler, SGD\", \"run_properties\": \"copy=True\", \"primary_metric\": 0.67241379, \"best_metric\": 0.77586207}, {\"run_id\": \"AutoML_81df340a-b17c-496c-836d-01d97204ba6c_28\", \"run_number\": 1652600791, \"metric\": null, \"status\": \"Completed\", \"run_type\": \"azureml.scriptrun\", \"training_percent\": \"100\", \"start_time\": \"2022-05-15T07:46:37.975471Z\", \"end_time\": \"2022-05-15T07:47:41.314389Z\", \"created_time\": \"2022-05-15T07:46:31.433168Z\", \"created_time_dt\": \"2022-05-15T07:46:31.433168Z\", \"duration\": \"0:01:09\", \"iteration\": \"28\", \"goal\": \"accuracy_max\", \"run_name\": \"StandardScalerWrapper, LogisticRegression\", \"run_properties\": \"copy=True, with_mean=False, with_std=True\", \"primary_metric\": 0.70689655, \"best_metric\": 0.77586207}, {\"run_id\": \"AutoML_81df340a-b17c-496c-836d-01d97204ba6c_29\", \"run_number\": 1652600862, \"metric\": null, \"status\": \"Completed\", \"run_type\": \"azureml.scriptrun\", \"training_percent\": \"100\", \"start_time\": \"2022-05-15T07:47:48.590135Z\", \"end_time\": \"2022-05-15T07:48:49.740979Z\", \"created_time\": \"2022-05-15T07:47:42.821577Z\", \"created_time_dt\": \"2022-05-15T07:47:42.821577Z\", \"duration\": \"0:01:06\", \"iteration\": \"29\", \"goal\": \"accuracy_max\", \"run_name\": \"MaxAbsScaler, ExtremeRandomTrees\", \"run_properties\": \"copy=True\", \"primary_metric\": 0.65517241, \"best_metric\": 0.77586207}], \"children_metrics\": {\"categories\": [0], \"series\": {\"AUC_macro\": [{\"categories\": [\"0\", \"2\", \"5\", \"7\", \"10\", \"13\", \"16\", \"20\", \"21\", \"22\", \"23\", \"24\", \"25\", \"26\", \"27\", \"28\", \"29\"], \"mode\": \"markers\", \"name\": \"AUC_macro\", \"stepped\": false, \"type\": \"scatter\", \"data\": [0.8826967174635273, 0.8385672080384227, 0.8589424141749722, 0.8937681686046511, 0.940555485338726, 0.8471705125427319, 0.8814267207135635, 0.9121416684722422, 0.9203507180172372, 0.9221718667244452, 0.84750687623381, 0.8955521149309067, 0.5, 0.8310336318551688, 0.8947500631951466, 0.9465330691174345, 0.8638452666835186]}, {\"categories\": [\"0\", \"2\", \"5\", \"7\", \"10\", \"13\", \"16\", \"20\", \"21\", \"22\", \"23\", \"24\", \"25\", \"26\", \"27\", \"28\", \"29\"], \"mode\": \"lines\", \"name\": \"AUC_macro_max\", \"stepped\": true, \"type\": \"scatter\", \"data\": [0.8826967174635273, 0.8826967174635273, 0.8826967174635273, 0.8937681686046511, 0.940555485338726, 0.940555485338726, 0.940555485338726, 0.940555485338726, 0.940555485338726, 0.940555485338726, 0.940555485338726, 0.940555485338726, 0.940555485338726, 0.940555485338726, 0.940555485338726, 0.9465330691174345, 0.9465330691174345]}], \"f1_score_weighted\": [{\"categories\": [\"0\", \"2\", \"5\", \"7\", \"10\", \"13\", \"16\", \"20\", \"21\", \"22\", \"23\", \"24\", \"25\", \"26\", \"27\", \"28\", \"29\"], \"mode\": \"markers\", \"name\": \"f1_score_weighted\", \"stepped\": false, \"type\": \"scatter\", \"data\": [0.6101599976065183, 0.6027856998818887, 0.6212791414697041, 0.7471059113300492, 0.6570532915360502, 0.6644160437263885, 0.6276068305560139, 0.7732161879586523, 0.666656264627867, 0.7205320277178177, 0.4726476168286513, 0.5637464860242279, 0.11929170549860205, 0.3694070509182539, 0.6623995333160487, 0.6998082299806437, 0.6546452066822552]}, {\"categories\": [\"0\", \"2\", \"5\", \"7\", \"10\", \"13\", \"16\", \"20\", \"21\", \"22\", \"23\", \"24\", \"25\", \"26\", \"27\", \"28\", \"29\"], \"mode\": \"lines\", \"name\": \"f1_score_weighted_max\", \"stepped\": true, \"type\": \"scatter\", \"data\": [0.6101599976065183, 0.6101599976065183, 0.6212791414697041, 0.7471059113300492, 0.7471059113300492, 0.7471059113300492, 0.7471059113300492, 0.7732161879586523, 0.7732161879586523, 0.7732161879586523, 0.7732161879586523, 0.7732161879586523, 0.7732161879586523, 0.7732161879586523, 0.7732161879586523, 0.7732161879586523, 0.7732161879586523]}], \"precision_score_weighted\": [{\"categories\": [\"0\", \"2\", \"5\", \"7\", \"10\", \"13\", \"16\", \"20\", \"21\", \"22\", \"23\", \"24\", \"25\", \"26\", \"27\", \"28\", \"29\"], \"mode\": \"markers\", \"name\": \"precision_score_weighted\", \"stepped\": false, \"type\": \"scatter\", \"data\": [0.648448275862069, 0.6192528735632183, 0.6533149068646026, 0.7666069918125006, 0.7453580901856763, 0.6933721450962831, 0.6724137931034483, 0.8200258159690207, 0.6902771557943971, 0.736117330944917, 0.4259367994021565, 0.6697044334975369, 0.07609988109393578, 0.37816269883634035, 0.7096021794297656, 0.7154711414346303, 0.6691894312583967]}, {\"categories\": [\"0\", \"2\", \"5\", \"7\", \"10\", \"13\", \"16\", \"20\", \"21\", \"22\", \"23\", \"24\", \"25\", \"26\", \"27\", \"28\", \"29\"], \"mode\": \"lines\", \"name\": \"precision_score_weighted_max\", \"stepped\": true, \"type\": \"scatter\", \"data\": [0.648448275862069, 0.648448275862069, 0.6533149068646026, 0.7666069918125006, 0.7666069918125006, 0.7666069918125006, 0.7666069918125006, 0.8200258159690207, 0.8200258159690207, 0.8200258159690207, 0.8200258159690207, 0.8200258159690207, 0.8200258159690207, 0.8200258159690207, 0.8200258159690207, 0.8200258159690207, 0.8200258159690207]}], \"balanced_accuracy\": [{\"categories\": [\"0\", \"2\", \"5\", \"7\", \"10\", \"13\", \"16\", \"20\", \"21\", \"22\", \"23\", \"24\", \"25\", \"26\", \"27\", \"28\", \"29\"], \"mode\": \"markers\", \"name\": \"balanced_accuracy\", \"stepped\": false, \"type\": \"scatter\", \"data\": [0.6145833333333334, 0.6052083333333333, 0.6177083333333333, 0.740625, 0.659375, 0.6604166666666667, 0.6322916666666667, 0.7770833333333333, 0.6614583333333333, 0.7229166666666667, 0.5052083333333334, 0.5666666666666667, 0.25, 0.5083333333333334, 0.6614583333333334, 0.6979166666666667, 0.6583333333333333]}, {\"categories\": [\"0\", \"2\", \"5\", \"7\", \"10\", \"13\", \"16\", \"20\", \"21\", \"22\", \"23\", \"24\", \"25\", \"26\", \"27\", \"28\", \"29\"], \"mode\": \"lines\", \"name\": \"balanced_accuracy_max\", \"stepped\": true, \"type\": \"scatter\", \"data\": [0.6145833333333334, 0.6145833333333334, 0.6177083333333333, 0.740625, 0.740625, 0.740625, 0.740625, 0.7770833333333333, 0.7770833333333333, 0.7770833333333333, 0.7770833333333333, 0.7770833333333333, 0.7770833333333333, 0.7770833333333333, 0.7770833333333333, 0.7770833333333333, 0.7770833333333333]}], \"matthews_correlation\": [{\"categories\": [\"0\", \"2\", \"5\", \"7\", \"10\", \"13\", \"16\", \"20\", \"21\", \"22\", \"23\", \"24\", \"25\", \"26\", \"27\", \"28\", \"29\"], \"mode\": \"markers\", \"name\": \"matthews_correlation\", \"stepped\": false, \"type\": \"scatter\", \"data\": [0.503164380305838, 0.47134635383781015, 0.4942153004687061, 0.655718091232108, 0.5826314882514477, 0.5435994756864989, 0.5255273720236587, 0.7119601697078096, 0.5674869800062232, 0.6364674922528938, 0.3839094610828087, 0.46752284673066513, 0.0, 0.3789343987050339, 0.5722826271507937, 0.612296043561324, 0.5418448700193339]}, {\"categories\": [\"0\", \"2\", \"5\", \"7\", \"10\", \"13\", \"16\", \"20\", \"21\", \"22\", \"23\", \"24\", \"25\", \"26\", \"27\", \"28\", \"29\"], \"mode\": \"lines\", \"name\": \"matthews_correlation_max\", \"stepped\": true, \"type\": \"scatter\", \"data\": [0.503164380305838, 0.503164380305838, 0.503164380305838, 0.655718091232108, 0.655718091232108, 0.655718091232108, 0.655718091232108, 0.7119601697078096, 0.7119601697078096, 0.7119601697078096, 0.7119601697078096, 0.7119601697078096, 0.7119601697078096, 0.7119601697078096, 0.7119601697078096, 0.7119601697078096, 0.7119601697078096]}], \"norm_macro_recall\": [{\"categories\": [\"0\", \"2\", \"5\", \"7\", \"10\", \"13\", \"16\", \"20\", \"21\", \"22\", \"23\", \"24\", \"25\", \"26\", \"27\", \"28\", \"29\"], \"mode\": \"markers\", \"name\": \"norm_macro_recall\", \"stepped\": false, \"type\": \"scatter\", \"data\": [0.48611111111111116, 0.47361111111111115, 0.49027777777777776, 0.6541666666666667, 0.5458333333333334, 0.5472222222222222, 0.5097222222222223, 0.7027777777777778, 0.548611111111111, 0.6305555555555555, 0.34027777777777785, 0.4222222222222222, 0.0, 0.34444444444444455, 0.5486111111111112, 0.5972222222222223, 0.5444444444444444]}, {\"categories\": [\"0\", \"2\", \"5\", \"7\", \"10\", \"13\", \"16\", \"20\", \"21\", \"22\", \"23\", \"24\", \"25\", \"26\", \"27\", \"28\", \"29\"], \"mode\": \"lines\", \"name\": \"norm_macro_recall_max\", \"stepped\": true, \"type\": \"scatter\", \"data\": [0.48611111111111116, 0.48611111111111116, 0.49027777777777776, 0.6541666666666667, 0.6541666666666667, 0.6541666666666667, 0.6541666666666667, 0.7027777777777778, 0.7027777777777778, 0.7027777777777778, 0.7027777777777778, 0.7027777777777778, 0.7027777777777778, 0.7027777777777778, 0.7027777777777778, 0.7027777777777778, 0.7027777777777778]}], \"average_precision_score_micro\": [{\"categories\": [\"0\", \"2\", \"5\", \"7\", \"10\", \"13\", \"16\", \"20\", \"21\", \"22\", \"23\", \"24\", \"25\", \"26\", \"27\", \"28\", \"29\"], \"mode\": \"markers\", \"name\": \"average_precision_score_micro\", \"stepped\": false, \"type\": \"scatter\", \"data\": [0.6960974010694988, 0.6482970969052474, 0.6806320323356582, 0.759258055062993, 0.7942869650747733, 0.6543703447799971, 0.6853404280135479, 0.7918770826156958, 0.7391951099687093, 0.8290998884400433, 0.5613789019757351, 0.6775034198940659, 0.26530915576694414, 0.4837995327604692, 0.7342826774604252, 0.8758644369283483, 0.6933012130901224]}, {\"categories\": [\"0\", \"2\", \"5\", \"7\", \"10\", \"13\", \"16\", \"20\", \"21\", \"22\", \"23\", \"24\", \"25\", \"26\", \"27\", \"28\", \"29\"], \"mode\": \"lines\", \"name\": \"average_precision_score_micro_max\", \"stepped\": true, \"type\": \"scatter\", \"data\": [0.6960974010694988, 0.6960974010694988, 0.6960974010694988, 0.759258055062993, 0.7942869650747733, 0.7942869650747733, 0.7942869650747733, 0.7942869650747733, 0.7942869650747733, 0.8290998884400433, 0.8290998884400433, 0.8290998884400433, 0.8290998884400433, 0.8290998884400433, 0.8290998884400433, 0.8758644369283483, 0.8758644369283483]}], \"accuracy\": [{\"categories\": [\"0\", \"2\", \"5\", \"7\", \"10\", \"13\", \"16\", \"20\", \"21\", \"22\", \"23\", \"24\", \"25\", \"26\", \"27\", \"28\", \"29\"], \"mode\": \"markers\", \"name\": \"accuracy\", \"stepped\": false, \"type\": \"scatter\", \"data\": [0.6206896551724138, 0.603448275862069, 0.6206896551724138, 0.7413793103448276, 0.6724137931034483, 0.6551724137931034, 0.6379310344827587, 0.7758620689655172, 0.6724137931034483, 0.7241379310344828, 0.5344827586206896, 0.5862068965517241, 0.27586206896551724, 0.4827586206896552, 0.6724137931034483, 0.7068965517241379, 0.6551724137931034]}, {\"categories\": [\"0\", \"2\", \"5\", \"7\", \"10\", \"13\", \"16\", \"20\", \"21\", \"22\", \"23\", \"24\", \"25\", \"26\", \"27\", \"28\", \"29\"], \"mode\": \"lines\", \"name\": \"accuracy_max\", \"stepped\": true, \"type\": \"scatter\", \"data\": [0.6206896551724138, 0.6206896551724138, 0.6206896551724138, 0.7413793103448276, 0.7413793103448276, 0.7413793103448276, 0.7413793103448276, 0.7758620689655172, 0.7758620689655172, 0.7758620689655172, 0.7758620689655172, 0.7758620689655172, 0.7758620689655172, 0.7758620689655172, 0.7758620689655172, 0.7758620689655172, 0.7758620689655172]}], \"precision_score_macro\": [{\"categories\": [\"0\", \"2\", \"5\", \"7\", \"10\", \"13\", \"16\", \"20\", \"21\", \"22\", \"23\", \"24\", \"25\", \"26\", \"27\", \"28\", \"29\"], \"mode\": \"markers\", \"name\": \"precision_score_macro\", \"stepped\": false, \"type\": \"scatter\", \"data\": [0.6525, 0.6347222222222222, 0.6728075845722905, 0.7796499166468207, 0.7483974358974358, 0.7048430735930736, 0.6909722222222222, 0.8275401069518716, 0.6927308802308803, 0.7418831168831168, 0.4020897832817337, 0.6678571428571429, 0.06896551724137931, 0.39187306501547986, 0.7189574314574314, 0.7193998811645871, 0.6827922077922077]}, {\"categories\": [\"0\", \"2\", \"5\", \"7\", \"10\", \"13\", \"16\", \"20\", \"21\", \"22\", \"23\", \"24\", \"25\", \"26\", \"27\", \"28\", \"29\"], \"mode\": \"lines\", \"name\": \"precision_score_macro_max\", \"stepped\": true, \"type\": \"scatter\", \"data\": [0.6525, 0.6525, 0.6728075845722905, 0.7796499166468207, 0.7796499166468207, 0.7796499166468207, 0.7796499166468207, 0.8275401069518716, 0.8275401069518716, 0.8275401069518716, 0.8275401069518716, 0.8275401069518716, 0.8275401069518716, 0.8275401069518716, 0.8275401069518716, 0.8275401069518716, 0.8275401069518716]}], \"recall_score_micro\": [{\"categories\": [\"0\", \"2\", \"5\", \"7\", \"10\", \"13\", \"16\", \"20\", \"21\", \"22\", \"23\", \"24\", \"25\", \"26\", \"27\", \"28\", \"29\"], \"mode\": \"markers\", \"name\": \"recall_score_micro\", \"stepped\": false, \"type\": \"scatter\", \"data\": [0.6206896551724138, 0.603448275862069, 0.6206896551724138, 0.7413793103448276, 0.6724137931034483, 0.6551724137931034, 0.6379310344827587, 0.7758620689655172, 0.6724137931034483, 0.7241379310344828, 0.5344827586206896, 0.5862068965517241, 0.27586206896551724, 0.4827586206896552, 0.6724137931034483, 0.7068965517241379, 0.6551724137931034]}, {\"categories\": [\"0\", \"2\", \"5\", \"7\", \"10\", \"13\", \"16\", \"20\", \"21\", \"22\", \"23\", \"24\", \"25\", \"26\", \"27\", \"28\", \"29\"], \"mode\": \"lines\", \"name\": \"recall_score_micro_max\", \"stepped\": true, \"type\": \"scatter\", \"data\": [0.6206896551724138, 0.6206896551724138, 0.6206896551724138, 0.7413793103448276, 0.7413793103448276, 0.7413793103448276, 0.7413793103448276, 0.7758620689655172, 0.7758620689655172, 0.7758620689655172, 0.7758620689655172, 0.7758620689655172, 0.7758620689655172, 0.7758620689655172, 0.7758620689655172, 0.7758620689655172, 0.7758620689655172]}], \"average_precision_score_macro\": [{\"categories\": [\"0\", \"2\", \"5\", \"7\", \"10\", \"13\", \"16\", \"20\", \"21\", \"22\", \"23\", \"24\", \"25\", \"26\", \"27\", \"28\", \"29\"], \"mode\": \"markers\", \"name\": \"average_precision_score_macro\", \"stepped\": false, \"type\": \"scatter\", \"data\": [0.7344115607606314, 0.6365001640692961, 0.6784314846276513, 0.7499250559045195, 0.865860501256845, 0.6746107534412177, 0.7327960608535482, 0.8225513675621521, 0.7951594783823004, 0.8354190095447094, 0.6501764090092323, 0.7825262124247631, 0.25, 0.5449829613052598, 0.7926310546081504, 0.8947816184053138, 0.7181573215962939]}, {\"categories\": [\"0\", \"2\", \"5\", \"7\", \"10\", \"13\", \"16\", \"20\", \"21\", \"22\", \"23\", \"24\", \"25\", \"26\", \"27\", \"28\", \"29\"], \"mode\": \"lines\", \"name\": \"average_precision_score_macro_max\", \"stepped\": true, \"type\": \"scatter\", \"data\": [0.7344115607606314, 0.7344115607606314, 0.7344115607606314, 0.7499250559045195, 0.865860501256845, 0.865860501256845, 0.865860501256845, 0.865860501256845, 0.865860501256845, 0.865860501256845, 0.865860501256845, 0.865860501256845, 0.865860501256845, 0.865860501256845, 0.865860501256845, 0.8947816184053138, 0.8947816184053138]}], \"recall_score_weighted\": [{\"categories\": [\"0\", \"2\", \"5\", \"7\", \"10\", \"13\", \"16\", \"20\", \"21\", \"22\", \"23\", \"24\", \"25\", \"26\", \"27\", \"28\", \"29\"], \"mode\": \"markers\", \"name\": \"recall_score_weighted\", \"stepped\": false, \"type\": \"scatter\", \"data\": [0.6206896551724138, 0.603448275862069, 0.6206896551724138, 0.7413793103448276, 0.6724137931034483, 0.6551724137931034, 0.6379310344827587, 0.7758620689655172, 0.6724137931034483, 0.7241379310344828, 0.5344827586206896, 0.5862068965517241, 0.27586206896551724, 0.4827586206896552, 0.6724137931034483, 0.7068965517241379, 0.6551724137931034]}, {\"categories\": [\"0\", \"2\", \"5\", \"7\", \"10\", \"13\", \"16\", \"20\", \"21\", \"22\", \"23\", \"24\", \"25\", \"26\", \"27\", \"28\", \"29\"], \"mode\": \"lines\", \"name\": \"recall_score_weighted_max\", \"stepped\": true, \"type\": \"scatter\", \"data\": [0.6206896551724138, 0.6206896551724138, 0.6206896551724138, 0.7413793103448276, 0.7413793103448276, 0.7413793103448276, 0.7413793103448276, 0.7758620689655172, 0.7758620689655172, 0.7758620689655172, 0.7758620689655172, 0.7758620689655172, 0.7758620689655172, 0.7758620689655172, 0.7758620689655172, 0.7758620689655172, 0.7758620689655172]}], \"f1_score_micro\": [{\"categories\": [\"0\", \"2\", \"5\", \"7\", \"10\", \"13\", \"16\", \"20\", \"21\", \"22\", \"23\", \"24\", \"25\", \"26\", \"27\", \"28\", \"29\"], \"mode\": \"markers\", \"name\": \"f1_score_micro\", \"stepped\": false, \"type\": \"scatter\", \"data\": [0.6206896551724138, 0.603448275862069, 0.6206896551724138, 0.7413793103448276, 0.6724137931034483, 0.6551724137931034, 0.6379310344827587, 0.7758620689655173, 0.6724137931034483, 0.7241379310344829, 0.5344827586206896, 0.5862068965517241, 0.27586206896551724, 0.4827586206896552, 0.6724137931034483, 0.7068965517241379, 0.6551724137931034]}, {\"categories\": [\"0\", \"2\", \"5\", \"7\", \"10\", \"13\", \"16\", \"20\", \"21\", \"22\", \"23\", \"24\", \"25\", \"26\", \"27\", \"28\", \"29\"], \"mode\": \"lines\", \"name\": \"f1_score_micro_max\", \"stepped\": true, \"type\": \"scatter\", \"data\": [0.6206896551724138, 0.6206896551724138, 0.6206896551724138, 0.7413793103448276, 0.7413793103448276, 0.7413793103448276, 0.7413793103448276, 0.7758620689655173, 0.7758620689655173, 0.7758620689655173, 0.7758620689655173, 0.7758620689655173, 0.7758620689655173, 0.7758620689655173, 0.7758620689655173, 0.7758620689655173, 0.7758620689655173]}], \"precision_score_micro\": [{\"categories\": [\"0\", \"2\", \"5\", \"7\", \"10\", \"13\", \"16\", \"20\", \"21\", \"22\", \"23\", \"24\", \"25\", \"26\", \"27\", \"28\", \"29\"], \"mode\": \"markers\", \"name\": \"precision_score_micro\", \"stepped\": false, \"type\": \"scatter\", \"data\": [0.6206896551724138, 0.603448275862069, 0.6206896551724138, 0.7413793103448276, 0.6724137931034483, 0.6551724137931034, 0.6379310344827587, 0.7758620689655172, 0.6724137931034483, 0.7241379310344828, 0.5344827586206896, 0.5862068965517241, 0.27586206896551724, 0.4827586206896552, 0.6724137931034483, 0.7068965517241379, 0.6551724137931034]}, {\"categories\": [\"0\", \"2\", \"5\", \"7\", \"10\", \"13\", \"16\", \"20\", \"21\", \"22\", \"23\", \"24\", \"25\", \"26\", \"27\", \"28\", \"29\"], \"mode\": \"lines\", \"name\": \"precision_score_micro_max\", \"stepped\": true, \"type\": \"scatter\", \"data\": [0.6206896551724138, 0.6206896551724138, 0.6206896551724138, 0.7413793103448276, 0.7413793103448276, 0.7413793103448276, 0.7413793103448276, 0.7758620689655172, 0.7758620689655172, 0.7758620689655172, 0.7758620689655172, 0.7758620689655172, 0.7758620689655172, 0.7758620689655172, 0.7758620689655172, 0.7758620689655172, 0.7758620689655172]}], \"weighted_accuracy\": [{\"categories\": [\"0\", \"2\", \"5\", \"7\", \"10\", \"13\", \"16\", \"20\", \"21\", \"22\", \"23\", \"24\", \"25\", \"26\", \"27\", \"28\", \"29\"], \"mode\": \"markers\", \"name\": \"weighted_accuracy\", \"stepped\": false, \"type\": \"scatter\", \"data\": [0.6270588235294118, 0.6023529411764706, 0.6235294117647059, 0.7423529411764704, 0.6847058823529412, 0.6505882352941175, 0.6435294117647058, 0.7752941176470588, 0.6823529411764705, 0.7258823529411764, 0.5599999999999998, 0.6035294117647059, 0.30117647058823527, 0.45882352941176474, 0.6823529411764705, 0.7152941176470587, 0.6529411764705881]}, {\"categories\": [\"0\", \"2\", \"5\", \"7\", \"10\", \"13\", \"16\", \"20\", \"21\", \"22\", \"23\", \"24\", \"25\", \"26\", \"27\", \"28\", \"29\"], \"mode\": \"lines\", \"name\": \"weighted_accuracy_max\", \"stepped\": true, \"type\": \"scatter\", \"data\": [0.6270588235294118, 0.6270588235294118, 0.6270588235294118, 0.7423529411764704, 0.7423529411764704, 0.7423529411764704, 0.7423529411764704, 0.7752941176470588, 0.7752941176470588, 0.7752941176470588, 0.7752941176470588, 0.7752941176470588, 0.7752941176470588, 0.7752941176470588, 0.7752941176470588, 0.7752941176470588, 0.7752941176470588]}], \"AUC_micro\": [{\"categories\": [\"0\", \"2\", \"5\", \"7\", \"10\", \"13\", \"16\", \"20\", \"21\", \"22\", \"23\", \"24\", \"25\", \"26\", \"27\", \"28\", \"29\"], \"mode\": \"markers\", \"name\": \"AUC_micro\", \"stepped\": false, \"type\": \"scatter\", \"data\": [0.8734641300039635, 0.8558263971462545, 0.8680142687277052, 0.8982857709076497, 0.9143876337693222, 0.8607808164883075, 0.8671224732461355, 0.9152298850574712, 0.9081450653983353, 0.9239001189060642, 0.8272889417360285, 0.8637534680935395, 0.5344827586206897, 0.7931034482758621, 0.8904577883472056, 0.9432223543400713, 0.8666270313119303]}, {\"categories\": [\"0\", \"2\", \"5\", \"7\", \"10\", \"13\", \"16\", \"20\", \"21\", \"22\", \"23\", \"24\", \"25\", \"26\", \"27\", \"28\", \"29\"], \"mode\": \"lines\", \"name\": \"AUC_micro_max\", \"stepped\": true, \"type\": \"scatter\", \"data\": [0.8734641300039635, 0.8734641300039635, 0.8734641300039635, 0.8982857709076497, 0.9143876337693222, 0.9143876337693222, 0.9143876337693222, 0.9152298850574712, 0.9152298850574712, 0.9239001189060642, 0.9239001189060642, 0.9239001189060642, 0.9239001189060642, 0.9239001189060642, 0.9239001189060642, 0.9432223543400713, 0.9432223543400713]}], \"AUC_weighted\": [{\"categories\": [\"0\", \"2\", \"5\", \"7\", \"10\", \"13\", \"16\", \"20\", \"21\", \"22\", \"23\", \"24\", \"25\", \"26\", \"27\", \"28\", \"29\"], \"mode\": \"markers\", \"name\": \"AUC_weighted\", \"stepped\": false, \"type\": \"scatter\", \"data\": [0.8815052606587072, 0.8342616482456446, 0.8567466681941421, 0.8927091686714782, 0.9402391827342143, 0.8428487168375945, 0.8780775725094263, 0.9101327658429923, 0.9194057456321675, 0.9208713749437576, 0.8432602635559296, 0.8935590344362703, 0.5, 0.8287322285701003, 0.8920031263438049, 0.9451121615272098, 0.8606612391478679]}, {\"categories\": [\"0\", \"2\", \"5\", \"7\", \"10\", \"13\", \"16\", \"20\", \"21\", \"22\", \"23\", \"24\", \"25\", \"26\", \"27\", \"28\", \"29\"], \"mode\": \"lines\", \"name\": \"AUC_weighted_max\", \"stepped\": true, \"type\": \"scatter\", \"data\": [0.8815052606587072, 0.8815052606587072, 0.8815052606587072, 0.8927091686714782, 0.9402391827342143, 0.9402391827342143, 0.9402391827342143, 0.9402391827342143, 0.9402391827342143, 0.9402391827342143, 0.9402391827342143, 0.9402391827342143, 0.9402391827342143, 0.9402391827342143, 0.9402391827342143, 0.9451121615272098, 0.9451121615272098]}], \"average_precision_score_weighted\": [{\"categories\": [\"0\", \"2\", \"5\", \"7\", \"10\", \"13\", \"16\", \"20\", \"21\", \"22\", \"23\", \"24\", \"25\", \"26\", \"27\", \"28\", \"29\"], \"mode\": \"markers\", \"name\": \"average_precision_score_weighted\", \"stepped\": false, \"type\": \"scatter\", \"data\": [0.7293120349620257, 0.6250387215945227, 0.6690717454204342, 0.7446199869940456, 0.8672795368651941, 0.6621298465539145, 0.7243289589367932, 0.8154588436995681, 0.7963271266865172, 0.8338383078168111, 0.6380694479123131, 0.7815934317830092, 0.25267538644470866, 0.5420840453038147, 0.7862213063377527, 0.8929543405267206, 0.7105871354239013]}, {\"categories\": [\"0\", \"2\", \"5\", \"7\", \"10\", \"13\", \"16\", \"20\", \"21\", \"22\", \"23\", \"24\", \"25\", \"26\", \"27\", \"28\", \"29\"], \"mode\": \"lines\", \"name\": \"average_precision_score_weighted_max\", \"stepped\": true, \"type\": \"scatter\", \"data\": [0.7293120349620257, 0.7293120349620257, 0.7293120349620257, 0.7446199869940456, 0.8672795368651941, 0.8672795368651941, 0.8672795368651941, 0.8672795368651941, 0.8672795368651941, 0.8672795368651941, 0.8672795368651941, 0.8672795368651941, 0.8672795368651941, 0.8672795368651941, 0.8672795368651941, 0.8929543405267206, 0.8929543405267206]}], \"f1_score_macro\": [{\"categories\": [\"0\", \"2\", \"5\", \"7\", \"10\", \"13\", \"16\", \"20\", \"21\", \"22\", \"23\", \"24\", \"25\", \"26\", \"27\", \"28\", \"29\"], \"mode\": \"markers\", \"name\": \"f1_score_macro\", \"stepped\": false, \"type\": \"scatter\", \"data\": [0.610257399016678, 0.6111389585073795, 0.6275020321072953, 0.7526785714285714, 0.6532467532467532, 0.6727612665112666, 0.6326953748006379, 0.7786398741418764, 0.6616892911010558, 0.72336402648878, 0.44641650579150577, 0.5517911845028057, 0.1081081081081081, 0.3893515470704411, 0.6604949874686716, 0.6972020097020096, 0.663206474912464]}, {\"categories\": [\"0\", \"2\", \"5\", \"7\", \"10\", \"13\", \"16\", \"20\", \"21\", \"22\", \"23\", \"24\", \"25\", \"26\", \"27\", \"28\", \"29\"], \"mode\": \"lines\", \"name\": \"f1_score_macro_max\", \"stepped\": true, \"type\": \"scatter\", \"data\": [0.610257399016678, 0.6111389585073795, 0.6275020321072953, 0.7526785714285714, 0.7526785714285714, 0.7526785714285714, 0.7526785714285714, 0.7786398741418764, 0.7786398741418764, 0.7786398741418764, 0.7786398741418764, 0.7786398741418764, 0.7786398741418764, 0.7786398741418764, 0.7786398741418764, 0.7786398741418764, 0.7786398741418764]}], \"recall_score_macro\": [{\"categories\": [\"0\", \"2\", \"5\", \"7\", \"10\", \"13\", \"16\", \"20\", \"21\", \"22\", \"23\", \"24\", \"25\", \"26\", \"27\", \"28\", \"29\"], \"mode\": \"markers\", \"name\": \"recall_score_macro\", \"stepped\": false, \"type\": \"scatter\", \"data\": [0.6145833333333334, 0.6052083333333333, 0.6177083333333333, 0.740625, 0.659375, 0.6604166666666667, 0.6322916666666667, 0.7770833333333333, 0.6614583333333333, 0.7229166666666667, 0.5052083333333334, 0.5666666666666667, 0.25, 0.5083333333333334, 0.6614583333333334, 0.6979166666666667, 0.6583333333333333]}, {\"categories\": [\"0\", \"2\", \"5\", \"7\", \"10\", \"13\", \"16\", \"20\", \"21\", \"22\", \"23\", \"24\", \"25\", \"26\", \"27\", \"28\", \"29\"], \"mode\": \"lines\", \"name\": \"recall_score_macro_max\", \"stepped\": true, \"type\": \"scatter\", \"data\": [0.6145833333333334, 0.6145833333333334, 0.6177083333333333, 0.740625, 0.740625, 0.740625, 0.740625, 0.7770833333333333, 0.7770833333333333, 0.7770833333333333, 0.7770833333333333, 0.7770833333333333, 0.7770833333333333, 0.7770833333333333, 0.7770833333333333, 0.7770833333333333, 0.7770833333333333]}], \"log_loss\": [{\"categories\": [\"0\", \"2\", \"5\", \"7\", \"10\", \"13\", \"16\", \"20\", \"21\", \"22\", \"23\", \"24\", \"25\", \"26\", \"27\", \"28\", \"29\"], \"mode\": \"markers\", \"name\": \"log_loss\", \"stepped\": false, \"type\": \"scatter\", \"data\": [0.8743976159741511, 2.451906433223316, 1.3549745299450378, 1.3431983751736145, 0.7317513209229355, 2.966582018700628, 0.9623918156225043, 3.303673159389671, 6.262446504939769, 0.6915231452125894, 1.0426062789841892, 1.3416877396615683, 1.381062905668742, 1.0228624871943999, 2.9023514312170047, 0.8893676550269066, 1.0229441770880683]}, {\"categories\": [\"0\", \"2\", \"5\", \"7\", \"10\", \"13\", \"16\", \"20\", \"21\", \"22\", \"23\", \"24\", \"25\", \"26\", \"27\", \"28\", \"29\"], \"mode\": \"lines\", \"name\": \"log_loss_min\", \"stepped\": true, \"type\": \"scatter\", \"data\": [0.8743976159741511, 0.8743976159741511, 0.8743976159741511, 0.8743976159741511, 0.7317513209229355, 0.7317513209229355, 0.7317513209229355, 0.7317513209229355, 0.7317513209229355, 0.6915231452125894, 0.6915231452125894, 0.6915231452125894, 0.6915231452125894, 0.6915231452125894, 0.6915231452125894, 0.6915231452125894, 0.6915231452125894]}]}, \"metricName\": null, \"primaryMetricName\": \"accuracy\", \"showLegend\": false}, \"run_metrics\": [{\"name\": \"experiment_status\", \"run_id\": \"AutoML_81df340a-b17c-496c-836d-01d97204ba6c\", \"categories\": [0, 1, 2, 3, 4, 5, 6, 7, 8, 9, 10, 11, 12, 13, 14], \"series\": [{\"data\": [\"DatasetEvaluation\", \"FeaturesGeneration\", \"TextDNNTraining\", \"TextDNNTrainingCompleted\", \"DatasetFeaturization\", \"DatasetFeaturizationCompleted\", \"ModelSelection\", \"BestRunExplainModel\", \"ModelExplanationDataSetSetup\", \"PickSurrogateModel\", \"EngineeredFeatureExplanations\", \"EngineeredFeatureExplanations\", \"RawFeaturesExplanations\", \"RawFeaturesExplanations\", \"BestRunExplainModel\"]}]}, {\"name\": \"experiment_status_description\", \"run_id\": \"AutoML_81df340a-b17c-496c-836d-01d97204ba6c\", \"categories\": [0, 1, 2, 3, 4, 5, 6, 7, 8, 9, 10, 11, 12, 13, 14], \"series\": [{\"data\": [\"Gathering dataset statistics.\", \"Generating features for the dataset.\", \"Training a deep learning text model, this may take a while.\", \"Completed training a deep learning text model.\", \"Beginning to fit featurizers and featurize the dataset.\", \"Completed fit featurizers and featurizing the dataset.\", \"Beginning model selection.\", \"Best run model explanations started\", \"Model explanations data setup completed\", \"Choosing LightGBM as the surrogate model for explanations\", \"Computation of engineered features started\", \"Computation of engineered features completed\", \"Computation of raw features started\", \"Computation of raw features completed\", \"Best run model explanations completed\"]}]}, {\"name\": \"TextDNNTrainingProgress\", \"run_id\": \"AutoML_81df340a-b17c-496c-836d-01d97204ba6c\", \"categories\": [0, 1, 2, 3, 4, 5, 6, 7, 8, 9, 10, 11, 12, 13, 14, 15, 16, 17, 18, 19, 20, 21, 22, 23, 24], \"series\": [{\"data\": [4.0, 8.0, 12.0, 16.0, 20.0, 24.0, 32.0, 28.000000000000004, 36.0, 40.0, 44.0, 48.0, 52.0, 56.00000000000001, 60.0, 64.0, 68.0, 72.0, 76.0, 80.0, 84.0, 88.0, 92.0, 96.0, 100.0]}]}, {\"name\": \"precision_score_micro\", \"run_id\": \"AutoML_81df340a-b17c-496c-836d-01d97204ba6c\", \"categories\": [0], \"series\": [{\"data\": [0.7758620689655172]}]}, {\"name\": \"average_precision_score_weighted\", \"run_id\": \"AutoML_81df340a-b17c-496c-836d-01d97204ba6c\", \"categories\": [0], \"series\": [{\"data\": [0.7752347615147758]}]}, {\"name\": \"AUC_weighted\", \"run_id\": \"AutoML_81df340a-b17c-496c-836d-01d97204ba6c\", \"categories\": [0], \"series\": [{\"data\": [0.8994236270569035]}]}, {\"name\": \"norm_macro_recall\", \"run_id\": \"AutoML_81df340a-b17c-496c-836d-01d97204ba6c\", \"categories\": [0], \"series\": [{\"data\": [0.7027777777777778]}]}, {\"name\": \"f1_score_micro\", \"run_id\": \"AutoML_81df340a-b17c-496c-836d-01d97204ba6c\", \"categories\": [0], \"series\": [{\"data\": [0.7758620689655173]}]}, {\"name\": \"recall_score_micro\", \"run_id\": \"AutoML_81df340a-b17c-496c-836d-01d97204ba6c\", \"categories\": [0], \"series\": [{\"data\": [0.7758620689655172]}]}, {\"name\": \"weighted_accuracy\", \"run_id\": \"AutoML_81df340a-b17c-496c-836d-01d97204ba6c\", \"categories\": [0], \"series\": [{\"data\": [0.7752941176470588]}]}, {\"name\": \"AUC_micro\", \"run_id\": \"AutoML_81df340a-b17c-496c-836d-01d97204ba6c\", \"categories\": [0], \"series\": [{\"data\": [0.9177566389219183]}]}, {\"name\": \"accuracy\", \"run_id\": \"AutoML_81df340a-b17c-496c-836d-01d97204ba6c\", \"categories\": [0], \"series\": [{\"data\": [0.7758620689655172]}]}, {\"name\": \"balanced_accuracy\", \"run_id\": \"AutoML_81df340a-b17c-496c-836d-01d97204ba6c\", \"categories\": [0], \"series\": [{\"data\": [0.7770833333333333]}]}, {\"name\": \"f1_score_macro\", \"run_id\": \"AutoML_81df340a-b17c-496c-836d-01d97204ba6c\", \"categories\": [0], \"series\": [{\"data\": [0.7864832535885168]}]}, {\"name\": \"recall_score_macro\", \"run_id\": \"AutoML_81df340a-b17c-496c-836d-01d97204ba6c\", \"categories\": [0], \"series\": [{\"data\": [0.7770833333333333]}]}, {\"name\": \"precision_score_macro\", \"run_id\": \"AutoML_81df340a-b17c-496c-836d-01d97204ba6c\", \"categories\": [0], \"series\": [{\"data\": [0.8129370629370629]}]}, {\"name\": \"average_precision_score_macro\", \"run_id\": \"AutoML_81df340a-b17c-496c-836d-01d97204ba6c\", \"categories\": [0], \"series\": [{\"data\": [0.7825786185877702]}]}, {\"name\": \"average_precision_score_micro\", \"run_id\": \"AutoML_81df340a-b17c-496c-836d-01d97204ba6c\", \"categories\": [0], \"series\": [{\"data\": [0.8004936554535588]}]}, {\"name\": \"precision_score_weighted\", \"run_id\": \"AutoML_81df340a-b17c-496c-836d-01d97204ba6c\", \"categories\": [0], \"series\": [{\"data\": [0.8002170243549555]}]}, {\"name\": \"matthews_correlation\", \"run_id\": \"AutoML_81df340a-b17c-496c-836d-01d97204ba6c\", \"categories\": [0], \"series\": [{\"data\": [0.7054820396056172]}]}, {\"name\": \"f1_score_weighted\", \"run_id\": \"AutoML_81df340a-b17c-496c-836d-01d97204ba6c\", \"categories\": [0], \"series\": [{\"data\": [0.7792855964362316]}]}, {\"name\": \"log_loss\", \"run_id\": \"AutoML_81df340a-b17c-496c-836d-01d97204ba6c\", \"categories\": [0], \"series\": [{\"data\": [0.6857092901723123]}]}, {\"name\": \"recall_score_weighted\", \"run_id\": \"AutoML_81df340a-b17c-496c-836d-01d97204ba6c\", \"categories\": [0], \"series\": [{\"data\": [0.7758620689655172]}]}, {\"name\": \"AUC_macro\", \"run_id\": \"AutoML_81df340a-b17c-496c-836d-01d97204ba6c\", \"categories\": [0], \"series\": [{\"data\": [0.8991195561895132]}]}], \"run_logs\": \"\\nRun is completed.\", \"graph\": {}, \"widget_settings\": {\"childWidgetDisplay\": \"popup\", \"send_telemetry\": false, \"log_level\": \"INFO\", \"sdk_version\": \"1.40.0\"}, \"loading\": false}"
     },
     "metadata": {},
     "output_type": "display_data"
    }
   ],
   "source": [
    "RunDetails(automl_run).show()"
   ]
  },
  {
   "cell_type": "markdown",
   "metadata": {},
   "source": [
    "## Best Model\n",
    "\n",
    "Get the best model from the automl experiments and display all the properties of the model.\n"
   ]
  },
  {
   "cell_type": "code",
   "execution_count": 15,
   "metadata": {
    "gather": {
     "logged": 1652560466744
    },
    "jupyter": {
     "outputs_hidden": false,
     "source_hidden": false
    },
    "nteract": {
     "transient": {
      "deleting": false
     }
    }
   },
   "outputs": [
    {
     "data": {
      "text/plain": [
       "[['StringCast-CharGramTfIdf',\n",
       "  'StringCast-WordGramTfIdf',\n",
       "  'StringCast-StringConcatTransformer-PretrainedTextDNNTransformer']]"
      ]
     },
     "execution_count": 15,
     "metadata": {},
     "output_type": "execute_result"
    }
   ],
   "source": [
    "# Retrieve the best Run object\n",
    "best_run = automl_run.get_best_child()\n",
    "# Download the featurization summary JSON file locally\n",
    "best_run.download_file(\n",
    "    \"outputs/featurization_summary.json\", \"featurization_summary.json\"\n",
    ")\n",
    "\n",
    "# Render the JSON as a pandas DataFrame\n",
    "with open(\"featurization_summary.json\", \"r\") as f:\n",
    "    records = json.load(f)\n",
    "\n",
    "featurization_summary = pd.DataFrame.from_records(records)\n",
    "featurization_summary[\"Transformations\"].tolist()\n"
   ]
  },
  {
   "cell_type": "code",
   "execution_count": 16,
   "metadata": {
    "gather": {
     "logged": 1598431426111
    },
    "jupyter": {
     "outputs_hidden": false,
     "source_hidden": false
    },
    "nteract": {
     "transient": {
      "deleting": false
     }
    }
   },
   "outputs": [],
   "source": [
    "#TODO: Save the best model\n",
    "summary_df = get_result_df(automl_run)\n",
    "best_dnn_run_id = summary_df[\"run_id\"].iloc[0]\n",
    "best_dnn_run = Run(experiment, best_dnn_run_id)"
   ]
  },
  {
   "cell_type": "code",
   "execution_count": 17,
   "metadata": {
    "jupyter": {
     "outputs_hidden": false,
     "source_hidden": false
    },
    "nteract": {
     "transient": {
      "deleting": false
     }
    }
   },
   "outputs": [],
   "source": [
    "model_dir = \"Model\"  # Local folder where the model will be stored temporarily\n",
    "if not os.path.isdir(model_dir):\n",
    "    os.mkdir(model_dir)\n",
    "\n",
    "best_dnn_run.download_file(\"outputs/model.pkl\", model_dir + \"/model.pkl\")\n"
   ]
  },
  {
   "cell_type": "code",
   "execution_count": 41,
   "metadata": {
    "jupyter": {
     "outputs_hidden": false,
     "source_hidden": false
    },
    "nteract": {
     "transient": {
      "deleting": false
     }
    }
   },
   "outputs": [
    {
     "data": {
      "text/html": [
       "<div>\n",
       "<style scoped>\n",
       "    .dataframe tbody tr th:only-of-type {\n",
       "        vertical-align: middle;\n",
       "    }\n",
       "\n",
       "    .dataframe tbody tr th {\n",
       "        vertical-align: top;\n",
       "    }\n",
       "\n",
       "    .dataframe thead th {\n",
       "        text-align: right;\n",
       "    }\n",
       "</style>\n",
       "<table border=\"1\" class=\"dataframe\">\n",
       "  <thead>\n",
       "    <tr style=\"text-align: right;\">\n",
       "      <th></th>\n",
       "      <th>run_id</th>\n",
       "      <th>primary_metric</th>\n",
       "      <th>Score</th>\n",
       "    </tr>\n",
       "    <tr>\n",
       "      <th>run_algorithm</th>\n",
       "      <th></th>\n",
       "      <th></th>\n",
       "      <th></th>\n",
       "    </tr>\n",
       "  </thead>\n",
       "  <tbody>\n",
       "    <tr>\n",
       "      <th>GradientBoosting</th>\n",
       "      <td>AutoML_81df340a-b17c-496c-836d-01d97204ba6c_18</td>\n",
       "      <td>accuracy</td>\n",
       "      <td>0.775862</td>\n",
       "    </tr>\n",
       "    <tr>\n",
       "      <th>SGD</th>\n",
       "      <td>AutoML_81df340a-b17c-496c-836d-01d97204ba6c_20</td>\n",
       "      <td>accuracy</td>\n",
       "      <td>0.775862</td>\n",
       "    </tr>\n",
       "    <tr>\n",
       "      <th>LogisticRegression</th>\n",
       "      <td>AutoML_81df340a-b17c-496c-836d-01d97204ba6c_3</td>\n",
       "      <td>accuracy</td>\n",
       "      <td>0.758621</td>\n",
       "    </tr>\n",
       "    <tr>\n",
       "      <th>RandomForest</th>\n",
       "      <td>AutoML_81df340a-b17c-496c-836d-01d97204ba6c_7</td>\n",
       "      <td>accuracy</td>\n",
       "      <td>0.741379</td>\n",
       "    </tr>\n",
       "    <tr>\n",
       "      <th>ExtremeRandomTrees</th>\n",
       "      <td>AutoML_81df340a-b17c-496c-836d-01d97204ba6c_12</td>\n",
       "      <td>accuracy</td>\n",
       "      <td>0.672414</td>\n",
       "    </tr>\n",
       "    <tr>\n",
       "      <th>MultinomialNaiveBayes</th>\n",
       "      <td>AutoML_81df340a-b17c-496c-836d-01d97204ba6c_21</td>\n",
       "      <td>accuracy</td>\n",
       "      <td>0.672414</td>\n",
       "    </tr>\n",
       "  </tbody>\n",
       "</table>\n",
       "</div>"
      ],
      "text/plain": [
       "                                                               run_id  \\\n",
       "run_algorithm                                                           \n",
       "GradientBoosting       AutoML_81df340a-b17c-496c-836d-01d97204ba6c_18   \n",
       "SGD                    AutoML_81df340a-b17c-496c-836d-01d97204ba6c_20   \n",
       "LogisticRegression      AutoML_81df340a-b17c-496c-836d-01d97204ba6c_3   \n",
       "RandomForest            AutoML_81df340a-b17c-496c-836d-01d97204ba6c_7   \n",
       "ExtremeRandomTrees     AutoML_81df340a-b17c-496c-836d-01d97204ba6c_12   \n",
       "MultinomialNaiveBayes  AutoML_81df340a-b17c-496c-836d-01d97204ba6c_21   \n",
       "\n",
       "                      primary_metric     Score  \n",
       "run_algorithm                                   \n",
       "GradientBoosting            accuracy  0.775862  \n",
       "SGD                         accuracy  0.775862  \n",
       "LogisticRegression          accuracy  0.758621  \n",
       "RandomForest                accuracy  0.741379  \n",
       "ExtremeRandomTrees          accuracy  0.672414  \n",
       "MultinomialNaiveBayes       accuracy  0.672414  "
      ]
     },
     "execution_count": 41,
     "metadata": {},
     "output_type": "execute_result"
    }
   ],
   "source": [
    "summary_df"
   ]
  },
  {
   "cell_type": "code",
   "execution_count": 43,
   "metadata": {},
   "outputs": [
    {
     "data": {
      "text/plain": [
       "'AutoML_81df340a-b17c-496c-836d-01d97204ba6c_18'"
      ]
     },
     "execution_count": 43,
     "metadata": {},
     "output_type": "execute_result"
    }
   ],
   "source": [
    "best_dnn_run_id"
   ]
  },
  {
   "cell_type": "markdown",
   "metadata": {},
   "source": [
    "## Model Deployment\n",
    "\n",
    "Deploy the model. \n",
    "Register the model, create an inference config and deploy the model as a web service."
   ]
  },
  {
   "cell_type": "code",
   "execution_count": 18,
   "metadata": {},
   "outputs": [
    {
     "name": "stdout",
     "output_type": "stream",
     "text": [
      "Registering model textDNN-20News\n"
     ]
    }
   ],
   "source": [
    "# Register the model\n",
    "model_name = \"textDNN-20News\"\n",
    "model = Model.register(\n",
    "    model_path=model_dir + \"/model.pkl\", model_name=model_name, tags=None, workspace=ws\n",
    ")"
   ]
  },
  {
   "cell_type": "code",
   "execution_count": 20,
   "metadata": {},
   "outputs": [],
   "source": [
    "# Set with the deployment name\n",
    "name = \"text-classification-model\"\n",
    "\n",
    "# load existing web service\n",
    "service = Webservice(name=name, workspace=ws)"
   ]
  },
  {
   "cell_type": "code",
   "execution_count": 21,
   "metadata": {},
   "outputs": [],
   "source": [
    "# enable application insight\n",
    "service.update(enable_app_insights=True)\n"
   ]
  },
  {
   "cell_type": "code",
   "execution_count": 22,
   "metadata": {},
   "outputs": [
    {
     "name": "stdout",
     "output_type": "stream",
     "text": [
      "2022-05-15T08:11:47,037100500+00:00 - iot-server/run \n",
      "2022-05-15T08:11:47,055330900+00:00 - gunicorn/run \n",
      "2022-05-15T08:11:47,055505800+00:00 - rsyslog/run \n",
      "2022-05-15T08:11:47,151420200+00:00 - nginx/run \n",
      "Starting gunicorn 20.1.0\n",
      "Listening at: http://127.0.0.1:31311 (72)\n",
      "Using worker: sync\n",
      "worker timeout is set to 300\n",
      "Booting worker with pid: 107\n",
      "EdgeHubConnectionString and IOTEDGE_IOTHUBHOSTNAME are not set. Exiting...\n",
      "2022-05-15T08:11:49,187138100+00:00 - iot-server/finish 1 0\n",
      "2022-05-15T08:11:49,190382900+00:00 - Exit code 1 is normal. Not restarting iot-server.\n",
      "SPARK_HOME not set. Skipping PySpark Initialization.\n",
      "Initializing logger\n",
      "2022-05-15 08:11:50,301 | root | INFO | Starting up app insights client\n",
      "2022-05-15 08:11:50,301 | root | INFO | Starting up request id generator\n",
      "2022-05-15 08:11:50,302 | root | INFO | Starting up app insight hooks\n",
      "2022-05-15 08:11:50,302 | root | INFO | Invoking user's init function\n",
      "Better speed can be achieved with apex installed from https://www.github.com/nvidia/apex .\n",
      "Better speed can be achieved with apex installed from https://www.github.com/nvidia/apex .\n",
      "2022-05-15 08:12:05,326 | root | INFO | Users's init has completed successfully\n",
      "2022-05-15 08:12:05,540 | root | INFO | Skipping middleware: dbg_model_info as it's not enabled.\n",
      "2022-05-15 08:12:05,540 | root | INFO | Skipping middleware: dbg_resource_usage as it's not enabled.\n",
      "2022-05-15 08:12:05,544 | root | INFO | Scoring timeout is found from os.environ: 60000 ms\n",
      "2022-05-15 08:12:17,215 | root | INFO | 200\n",
      "127.0.0.1 - - [15/May/2022:08:12:17 +0000] \"GET /swagger.json HTTP/1.0\" 200 2435 \"-\" \"Go-http-client/1.1\"\n",
      "2022-05-15 08:12:49,420 | root | INFO | 200\n",
      "127.0.0.1 - - [15/May/2022:08:12:49 +0000] \"GET /swagger.json HTTP/1.0\" 200 2435 \"-\" \"Go-http-client/1.1\"\n",
      "2022-05-15 08:17:14,513 | root | INFO | 200\n",
      "127.0.0.1 - - [15/May/2022:08:17:14 +0000] \"GET /swagger.json HTTP/1.0\" 200 2435 \"-\" \"Go-http-client/1.1\"\n",
      "2022-05-15 08:17:18,938 | root | INFO | 200\n",
      "127.0.0.1 - - [15/May/2022:08:17:18 +0000] \"GET /swagger.json HTTP/1.0\" 200 2435 \"-\" \"Go-http-client/1.1\"\n",
      "2022-05-15 08:21:44,880 | root | INFO | 200\n",
      "127.0.0.1 - - [15/May/2022:08:21:44 +0000] \"GET /swagger.json HTTP/1.0\" 200 2435 \"-\" \"Go-http-client/1.1\"\n",
      "2022-05-15 08:21:57,076 | root | INFO | 200\n",
      "127.0.0.1 - - [15/May/2022:08:21:57 +0000] \"GET /swagger.json HTTP/1.0\" 200 2435 \"-\" \"Go-http-client/1.1\"\n",
      "\n"
     ]
    }
   ],
   "source": [
    "logs = service.get_logs()\n",
    "\n",
    "for line in logs.split('\\n'):\n",
    "    print(line)"
   ]
  },
  {
   "cell_type": "code",
   "execution_count": 28,
   "metadata": {
    "jupyter": {
     "outputs_hidden": false,
     "source_hidden": false
    },
    "nteract": {
     "transient": {
      "deleting": false
     }
    }
   },
   "outputs": [
    {
     "data": {
      "text/html": [
       "<div>\n",
       "<style scoped>\n",
       "    .dataframe tbody tr th:only-of-type {\n",
       "        vertical-align: middle;\n",
       "    }\n",
       "\n",
       "    .dataframe tbody tr th {\n",
       "        vertical-align: top;\n",
       "    }\n",
       "\n",
       "    .dataframe thead th {\n",
       "        text-align: right;\n",
       "    }\n",
       "</style>\n",
       "<table border=\"1\" class=\"dataframe\">\n",
       "  <thead>\n",
       "    <tr style=\"text-align: right;\">\n",
       "      <th></th>\n",
       "      <th>X</th>\n",
       "      <th>y</th>\n",
       "    </tr>\n",
       "  </thead>\n",
       "  <tbody>\n",
       "    <tr>\n",
       "      <th>0</th>\n",
       "      <td>DFW was designed with the STS in mind (which really mean very little).  Much of their early PR material had scenes with a shuttle landing and two or three others pulled up to gates.  I guess they were trying to stress how advanced the airport was.  For Dallas types:  Imagine the fit Grapevine and Irving would be having if the shuttle WAS landing at DFW. (For the rest, they are currently having some power struggles between the airport and surrounding cities).</td>\n",
       "      <td>3</td>\n",
       "    </tr>\n",
       "    <tr>\n",
       "      <th>1</th>\n",
       "      <td>Johnny Mize had six three-HR games, which is the current record.</td>\n",
       "      <td>1</td>\n",
       "    </tr>\n",
       "    <tr>\n",
       "      <th>2</th>\n",
       "      <td>Actually I admired the spirit of the fan at the Cubs opener several years ago who held up a sign that said \"Wait Till Next Year\".</td>\n",
       "      <td>1</td>\n",
       "    </tr>\n",
       "    <tr>\n",
       "      <th>3</th>\n",
       "      <td>I don't know a whole lot on Proton, but given that it is a multi stage rocket,  up to 4 stages, it may not really need the Centaur,  plus it may end up seriously beating on said centaur.     Also, the centaur is not small,  unless the Proton has an oversize shroud you may not be able to get the centaur in under it.  Dennis,  you know much about this?</td>\n",
       "      <td>3</td>\n",
       "    </tr>\n",
       "    <tr>\n",
       "      <th>4</th>\n",
       "      <td>SPECIFIC: Basically to be able to do the things the big dadies can do.. Monitor, and control if need be the Shuttle...  Such as the one in Australia and such....</td>\n",
       "      <td>3</td>\n",
       "    </tr>\n",
       "  </tbody>\n",
       "</table>\n",
       "</div>"
      ],
      "text/plain": [
       "                                                                                                                                                                                                                                                                                                                                                                                                                                                                                X  \\\n",
       "0  DFW was designed with the STS in mind (which really mean very little).  Much of their early PR material had scenes with a shuttle landing and two or three others pulled up to gates.  I guess they were trying to stress how advanced the airport was.  For Dallas types:  Imagine the fit Grapevine and Irving would be having if the shuttle WAS landing at DFW. (For the rest, they are currently having some power struggles between the airport and surrounding cities).   \n",
       "1                                                                                                                                                                                                                                                                                                                                                                                                                Johnny Mize had six three-HR games, which is the current record.   \n",
       "2                                                                                                                                                                                                                                                                                                                                               Actually I admired the spirit of the fan at the Cubs opener several years ago who held up a sign that said \"Wait Till Next Year\".   \n",
       "3                                                                                                                I don't know a whole lot on Proton, but given that it is a multi stage rocket,  up to 4 stages, it may not really need the Centaur,  plus it may end up seriously beating on said centaur.     Also, the centaur is not small,  unless the Proton has an oversize shroud you may not be able to get the centaur in under it.  Dennis,  you know much about this?   \n",
       "4                                                                                                                                                                                                                                                                                                               SPECIFIC: Basically to be able to do the things the big dadies can do.. Monitor, and control if need be the Shuttle...  Such as the one in Australia and such....   \n",
       "\n",
       "   y  \n",
       "0  3  \n",
       "1  1  \n",
       "2  1  \n",
       "3  3  \n",
       "4  3  "
      ]
     },
     "execution_count": 28,
     "metadata": {},
     "output_type": "execute_result"
    }
   ],
   "source": [
    "# Print examples from test set to test endpoint\n",
    "test_dataset = Dataset.Tabular.from_delimited_files(\n",
    "    path=[(datastore, blobstore_datadir + \"/test_data.csv\")]\n",
    ")\n",
    "\n",
    "# preview the first 5 rows of the dataset\n",
    "test_dataset.take(5).to_pandas_dataframe()"
   ]
  },
  {
   "cell_type": "markdown",
   "metadata": {
    "collapsed": true,
    "gather": {
     "logged": 1598431657736
    },
    "jupyter": {
     "outputs_hidden": false,
     "source_hidden": false
    },
    "nteract": {
     "transient": {
      "deleting": false
     }
    }
   },
   "source": [
    "Send a request to the web service to test it."
   ]
  },
  {
   "cell_type": "code",
   "execution_count": 29,
   "metadata": {
    "gather": {
     "logged": 1598432707604
    },
    "jupyter": {
     "outputs_hidden": false,
     "source_hidden": false
    },
    "nteract": {
     "transient": {
      "deleting": false
     }
    }
   },
   "outputs": [
    {
     "name": "stdout",
     "output_type": "stream",
     "text": [
      "{'Results': [3]}\r\n"
     ]
    }
   ],
   "source": [
    "!python3 endpoint.py #Will run this same code in cells below to demonstrate steps taken"
   ]
  },
  {
   "cell_type": "markdown",
   "metadata": {},
   "source": [
    "### Running endpoint.py in cell:"
   ]
  },
  {
   "cell_type": "code",
   "execution_count": 33,
   "metadata": {},
   "outputs": [],
   "source": [
    "import requests\n",
    "import json\n",
    "from azureml.core import Webservice\n",
    "\n",
    "scoring_uri = service.scoring_uri\n",
    "key, _ = service.get_keys()"
   ]
  },
  {
   "cell_type": "code",
   "execution_count": 34,
   "metadata": {},
   "outputs": [],
   "source": [
    "# Set the appropriate headers\n",
    "headers = {\"Content-Type\": \"application/json\"}\n",
    "headers[\"Authorization\"] = f\"Bearer {key}\""
   ]
  },
  {
   "cell_type": "code",
   "execution_count": 35,
   "metadata": {},
   "outputs": [],
   "source": [
    "# Make the request and display the response and logs\n",
    "data = {\n",
    "  \"Inputs\": {\n",
    "    \"data\": [\n",
    "      {\n",
    "        \"X\": \"I don't know a whole lot on Proton, but given that it is a multi stage rocket, up to 4 stages, it may not really need the Centaur, plus it may end up seriously beating on said centaur. Also, the centaur is not small, unless the Proton has an oversize shroud you may not be able to get the centaur in under it. Dennis, you know much about this?\"\n",
    "      }\n",
    "    ]\n",
    "  },\n",
    "  \"GlobalParameters\": {\n",
    "    \"method\": \"predict\"\n",
    "  }\n",
    "}\n"
   ]
  },
  {
   "cell_type": "code",
   "execution_count": 36,
   "metadata": {},
   "outputs": [],
   "source": [
    "# Convert to JSON string\n",
    "input_data = json.dumps(data)\n",
    "with open(\"data.json\", \"w\") as _f:\n",
    "    _f.write(input_data)\n"
   ]
  },
  {
   "cell_type": "code",
   "execution_count": 37,
   "metadata": {},
   "outputs": [
    {
     "name": "stdout",
     "output_type": "stream",
     "text": [
      "{'Results': [3]}\n"
     ]
    }
   ],
   "source": [
    "# Make the request and display the response\n",
    "resp = requests.post(scoring_uri, input_data, headers=headers)\n",
    "print(resp.json())\n"
   ]
  },
  {
   "cell_type": "markdown",
   "metadata": {
    "collapsed": true,
    "gather": {
     "logged": 1598432765711
    },
    "jupyter": {
     "outputs_hidden": false,
     "source_hidden": false
    },
    "nteract": {
     "transient": {
      "deleting": false
     }
    }
   },
   "source": [
    "Print the logs of the web service and delete the service"
   ]
  },
  {
   "cell_type": "code",
   "execution_count": 39,
   "metadata": {},
   "outputs": [
    {
     "name": "stdout",
     "output_type": "stream",
     "text": [
      "2022-05-15T08:39:28,029900100+00:00 - rsyslog/run \n",
      "2022-05-15T08:39:28,032290200+00:00 - gunicorn/run \n",
      "2022-05-15T08:39:28,035859900+00:00 - iot-server/run \n",
      "2022-05-15T08:39:28,059579700+00:00 - nginx/run \n",
      "EdgeHubConnectionString and IOTEDGE_IOTHUBHOSTNAME are not set. Exiting...\n",
      "2022-05-15T08:39:28,311974100+00:00 - iot-server/finish 1 0\n",
      "2022-05-15T08:39:28,317856700+00:00 - Exit code 1 is normal. Not restarting iot-server.\n",
      "Starting gunicorn 20.1.0\n",
      "Listening at: http://127.0.0.1:31311 (73)\n",
      "Using worker: sync\n",
      "worker timeout is set to 300\n",
      "Booting worker with pid: 102\n",
      "SPARK_HOME not set. Skipping PySpark Initialization.\n",
      "Initializing logger\n",
      "2022-05-15 08:39:30,830 | root | INFO | Starting up app insights client\n",
      "2022-05-15 08:39:30,833 | root | INFO | Starting up request id generator\n",
      "2022-05-15 08:39:30,834 | root | INFO | Starting up app insight hooks\n",
      "2022-05-15 08:39:30,835 | root | INFO | Invoking user's init function\n",
      "Better speed can be achieved with apex installed from https://www.github.com/nvidia/apex .\n",
      "Better speed can be achieved with apex installed from https://www.github.com/nvidia/apex .\n",
      "2022-05-15 08:39:46,540 | root | INFO | Users's init has completed successfully\n",
      "2022-05-15 08:39:46,830 | root | INFO | Skipping middleware: dbg_model_info as it's not enabled.\n",
      "2022-05-15 08:39:46,830 | root | INFO | Skipping middleware: dbg_resource_usage as it's not enabled.\n",
      "2022-05-15 08:39:46,833 | root | INFO | Scoring timeout is found from os.environ: 60000 ms\n",
      "2022-05-15 08:41:02,350 | root | INFO | 200\n",
      "127.0.0.1 - - [15/May/2022:08:41:02 +0000] \"GET /swagger.json HTTP/1.0\" 200 2435 \"-\" \"Go-http-client/1.1\"\n",
      "2022-05-15 08:52:26,564 | root | INFO | 200\n",
      "127.0.0.1 - - [15/May/2022:08:52:26 +0000] \"GET /swagger.json HTTP/1.0\" 200 2435 \"-\" \"Go-http-client/1.1\"\n",
      "2022-05-15 08:53:17,802 | root | INFO | 200\n",
      "127.0.0.1 - - [15/May/2022:08:53:17 +0000] \"GET /swagger.json HTTP/1.0\" 200 2435 \"-\" \"Go-http-client/1.1\"\n",
      "2022-05-15 08:54:31,395 | root | INFO | 200\n",
      "127.0.0.1 - - [15/May/2022:08:54:31 +0000] \"GET /swagger.json HTTP/1.0\" 200 2435 \"-\" \"Go-http-client/1.1\"\n",
      "2022-05-15 08:55:36,816 | root | INFO | 200\n",
      "127.0.0.1 - - [15/May/2022:08:55:36 +0000] \"GET /swagger.json HTTP/1.0\" 200 2435 \"-\" \"Go-http-client/1.1\"\n",
      "2022-05-15 08:55:59,291 | root | INFO | 200\n",
      "127.0.0.1 - - [15/May/2022:08:55:59 +0000] \"GET /swagger.json HTTP/1.0\" 200 2435 \"-\" \"Go-http-client/1.1\"\n",
      "2022-05-15 09:05:21,293 | root | INFO | 200\n",
      "127.0.0.1 - - [15/May/2022:09:05:21 +0000] \"GET /swagger.json HTTP/1.0\" 200 2435 \"-\" \"Go-http-client/1.1\"\n",
      "2022-05-15 09:11:10,748 | root | INFO | Validation Request Content-Type\n",
      "2022-05-15 09:11:10,749 | root | INFO | Scoring Timer is set to 60.0 seconds\n",
      "2022-05-15 09:11:11,829 | root | INFO | 200\n",
      "127.0.0.1 - - [15/May/2022:09:11:11 +0000] \"POST /score HTTP/1.0\" 200 16 \"-\" \"python-requests/2.18.4\"\n",
      "2022-05-15 09:12:11,594 | root | INFO | Validation Request Content-Type\n",
      "2022-05-15 09:12:11,595 | root | INFO | Scoring Timer is set to 60.0 seconds\n",
      "2022-05-15 09:12:12,213 | root | INFO | 200\n",
      "127.0.0.1 - - [15/May/2022:09:12:12 +0000] \"POST /score HTTP/1.0\" 200 16 \"-\" \"python-requests/2.18.4\"\n",
      "2022-05-15 09:21:09,927 | root | INFO | Validation Request Content-Type\n",
      "2022-05-15 09:21:09,929 | root | INFO | Scoring Timer is set to 60.0 seconds\n",
      "2022-05-15 09:21:10,611 | root | INFO | 200\n",
      "127.0.0.1 - - [15/May/2022:09:21:10 +0000] \"POST /score HTTP/1.0\" 200 16 \"-\" \"python-requests/2.27.1\"\n",
      "\n"
     ]
    }
   ],
   "source": [
    "print(service.get_logs())"
   ]
  },
  {
   "cell_type": "markdown",
   "metadata": {},
   "source": [
    "## Delete resources"
   ]
  },
  {
   "cell_type": "code",
   "execution_count": 40,
   "metadata": {},
   "outputs": [],
   "source": [
    "service.delete()\n",
    "model.delete()"
   ]
  },
  {
   "cell_type": "markdown",
   "metadata": {},
   "source": [
    "**Submission Checklist**\n",
    "- I have registered the model.\n",
    "- I have deployed the model with the best accuracy as a webservice.\n",
    "- I have tested the webservice by sending a request to the model endpoint.\n",
    "- I have deleted the webservice and shutdown all the computes that I have used.\n",
    "- I have taken a screenshot showing the model endpoint as active.\n",
    "- The project includes a file containing the environment details.\n"
   ]
  },
  {
   "cell_type": "markdown",
   "metadata": {},
   "source": []
  }
 ],
 "metadata": {
  "kernel_info": {
   "name": "python38-azureml"
  },
  "kernelspec": {
   "display_name": "Python 3.8 - AzureML",
   "language": "python",
   "name": "python38-azureml"
  },
  "language_info": {
   "codemirror_mode": {
    "name": "ipython",
    "version": 3
   },
   "file_extension": ".py",
   "mimetype": "text/x-python",
   "name": "python",
   "nbconvert_exporter": "python",
   "pygments_lexer": "ipython3",
   "version": "3.8.5"
  },
  "microsoft": {
   "host": {
    "AzureML": {
     "notebookHasBeenCompleted": true
    }
   }
  },
  "nteract": {
   "version": "nteract-front-end@1.0.0"
  }
 },
 "nbformat": 4,
 "nbformat_minor": 2
}
